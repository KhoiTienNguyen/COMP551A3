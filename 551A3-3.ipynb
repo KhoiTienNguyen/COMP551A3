{
  "cells": [
    {
      "cell_type": "code",
      "execution_count": null,
      "metadata": {
        "id": "pKhS0rtzR9M4"
      },
      "outputs": [],
      "source": [
        "# import torchvision module to handle image manipulation\n",
        "import torchvision\n",
        "import torchvision.transforms as transforms\n",
        "import numpy as np"
      ]
    },
    {
      "cell_type": "code",
      "execution_count": null,
      "metadata": {
        "id": "Qn7dWZ9-XfkX",
        "colab": {
          "base_uri": "https://localhost:8080/",
          "height": 422,
          "referenced_widgets": [
            "66c2727ea25640b78f29d41d6053bee1",
            "651330ec82ae4f7dae25de397daa051e",
            "c7e605ed057d46219134b40ba2209f12",
            "06d2214a69014984a04f670e30f0fdce",
            "68377d7e86dd4af3a97bdbe840e830b2",
            "1dcd2a440b8e4bdab2c9505fd2cb6945",
            "e77cc56e4a6f423e913e9a591c6c9782",
            "26dab811dbe0456f93350e7cafddfbe1",
            "521bc1f053034f8a915cbf95f1661e03",
            "cf57850df3cc4f968b04600d0ed7482a",
            "dafeaaadc5c2477eb61d249d8692146f",
            "f68ebdd3d9f04c2595255af0f3ff017e",
            "415578420ba041ff93d350506f659a61",
            "3ccb786bb1dc40499f963aa67e3f3bb7",
            "167f3587622346ecb0eff786ed6e1d9b",
            "0148596bb45a4bf38d0cfc7852c7ef34",
            "4cfa6dd804e049c09e7647ef3daadd9a",
            "346d4d94e87142c88ce6e686a6fed6c0",
            "90daf440c613470f9751ef9230865066",
            "b344913a12fa4777941d12c82d8b53ac",
            "4564c1a38da9414abd26391860bac0b6",
            "0302958ff35743189f9a482da2184ab6",
            "410e50df2ad248abab9b0cc0f0c4ffcf",
            "41797b860d1f43b48deedf905fce6441",
            "9f3e5d8e478d446789ef71e5fff1a443",
            "c104523b8f9f47b7aa494cabbdf8ec7c",
            "9efe7373745b4d1ca47f8e9d1ec1a183",
            "8d00545b99044582a93662c0e2a70914",
            "f5bfa997d03a48b6805197b71195172b",
            "270433ac8ba74f5589d12fec6baddfbd",
            "3598b15cc0f845808f6bb67b50169649",
            "af8a2ff0dc4a4f0a8bda45fc3a75b7a0",
            "931c01697adb46439ee8d06f3c4fd1db",
            "a0f819c477234b6289aa78722989a781",
            "71cf514a02a84f8393c1a4008a6b812d",
            "1d20f3b8f7d24b6895f8d321347ef81f",
            "84ef6c7919a64b0c99604abdb289f88d",
            "9572a3d05f8b4b60b6929e3a4da304e3",
            "66bf9eb9c2f2407b97b032d9e9e7c350",
            "3cdb521ba1c24e52b6b0fefe58be2720",
            "d09bf8e6dcc94e6f89214ca00d7070d5",
            "68e20345a4574ec28cffc7bcc69ed4ae",
            "012e65d4fcae4d79902fc494c1cd63f4",
            "16ac44c8034d488d9357e77efce49b90"
          ]
        },
        "outputId": "70b61abc-7a34-48a1-a7b9-24a7e6b94aa9"
      },
      "outputs": [
        {
          "output_type": "stream",
          "name": "stdout",
          "text": [
            "Downloading http://fashion-mnist.s3-website.eu-central-1.amazonaws.com/train-images-idx3-ubyte.gz\n",
            "Downloading http://fashion-mnist.s3-website.eu-central-1.amazonaws.com/train-images-idx3-ubyte.gz to ./data/FashionMNIST/FashionMNIST/raw/train-images-idx3-ubyte.gz\n"
          ]
        },
        {
          "output_type": "display_data",
          "data": {
            "text/plain": [
              "  0%|          | 0/26421880 [00:00<?, ?it/s]"
            ],
            "application/vnd.jupyter.widget-view+json": {
              "version_major": 2,
              "version_minor": 0,
              "model_id": "66c2727ea25640b78f29d41d6053bee1"
            }
          },
          "metadata": {}
        },
        {
          "output_type": "stream",
          "name": "stdout",
          "text": [
            "Extracting ./data/FashionMNIST/FashionMNIST/raw/train-images-idx3-ubyte.gz to ./data/FashionMNIST/FashionMNIST/raw\n",
            "\n",
            "Downloading http://fashion-mnist.s3-website.eu-central-1.amazonaws.com/train-labels-idx1-ubyte.gz\n",
            "Downloading http://fashion-mnist.s3-website.eu-central-1.amazonaws.com/train-labels-idx1-ubyte.gz to ./data/FashionMNIST/FashionMNIST/raw/train-labels-idx1-ubyte.gz\n"
          ]
        },
        {
          "output_type": "display_data",
          "data": {
            "text/plain": [
              "  0%|          | 0/29515 [00:00<?, ?it/s]"
            ],
            "application/vnd.jupyter.widget-view+json": {
              "version_major": 2,
              "version_minor": 0,
              "model_id": "f68ebdd3d9f04c2595255af0f3ff017e"
            }
          },
          "metadata": {}
        },
        {
          "output_type": "stream",
          "name": "stdout",
          "text": [
            "Extracting ./data/FashionMNIST/FashionMNIST/raw/train-labels-idx1-ubyte.gz to ./data/FashionMNIST/FashionMNIST/raw\n",
            "\n",
            "Downloading http://fashion-mnist.s3-website.eu-central-1.amazonaws.com/t10k-images-idx3-ubyte.gz\n",
            "Downloading http://fashion-mnist.s3-website.eu-central-1.amazonaws.com/t10k-images-idx3-ubyte.gz to ./data/FashionMNIST/FashionMNIST/raw/t10k-images-idx3-ubyte.gz\n"
          ]
        },
        {
          "output_type": "display_data",
          "data": {
            "text/plain": [
              "  0%|          | 0/4422102 [00:00<?, ?it/s]"
            ],
            "application/vnd.jupyter.widget-view+json": {
              "version_major": 2,
              "version_minor": 0,
              "model_id": "410e50df2ad248abab9b0cc0f0c4ffcf"
            }
          },
          "metadata": {}
        },
        {
          "output_type": "stream",
          "name": "stdout",
          "text": [
            "Extracting ./data/FashionMNIST/FashionMNIST/raw/t10k-images-idx3-ubyte.gz to ./data/FashionMNIST/FashionMNIST/raw\n",
            "\n",
            "Downloading http://fashion-mnist.s3-website.eu-central-1.amazonaws.com/t10k-labels-idx1-ubyte.gz\n",
            "Downloading http://fashion-mnist.s3-website.eu-central-1.amazonaws.com/t10k-labels-idx1-ubyte.gz to ./data/FashionMNIST/FashionMNIST/raw/t10k-labels-idx1-ubyte.gz\n"
          ]
        },
        {
          "output_type": "display_data",
          "data": {
            "text/plain": [
              "  0%|          | 0/5148 [00:00<?, ?it/s]"
            ],
            "application/vnd.jupyter.widget-view+json": {
              "version_major": 2,
              "version_minor": 0,
              "model_id": "a0f819c477234b6289aa78722989a781"
            }
          },
          "metadata": {}
        },
        {
          "output_type": "stream",
          "name": "stdout",
          "text": [
            "Extracting ./data/FashionMNIST/FashionMNIST/raw/t10k-labels-idx1-ubyte.gz to ./data/FashionMNIST/FashionMNIST/raw\n",
            "\n"
          ]
        }
      ],
      "source": [
        "train_set = torchvision.datasets.FashionMNIST(\n",
        "    root = './data/FashionMNIST',\n",
        "    train = True,\n",
        "    download = True,\n",
        "    transform = transforms.Compose([\n",
        "        transforms.ToTensor()                                 \n",
        "    ])\n",
        ")"
      ]
    },
    {
      "cell_type": "code",
      "execution_count": null,
      "metadata": {
        "id": "NJNWJDkhZI76"
      },
      "outputs": [],
      "source": [
        "test_set = torchvision.datasets.FashionMNIST(\n",
        "    root = './data/FashionMNIST',\n",
        "    train = False,\n",
        "    download = True,\n",
        "    transform = transforms.Compose([\n",
        "        transforms.ToTensor()                                 \n",
        "    ])\n",
        ")"
      ]
    },
    {
      "cell_type": "markdown",
      "metadata": {
        "id": "tOtBSQ18-Gw6"
      },
      "source": [
        "FOR MLP"
      ]
    },
    {
      "cell_type": "code",
      "execution_count": null,
      "metadata": {
        "colab": {
          "base_uri": "https://localhost:8080/"
        },
        "id": "dD58C_htcVKW",
        "outputId": "81cf8c8e-1527-418d-db3f-b89ab7305aec"
      },
      "outputs": [
        {
          "output_type": "stream",
          "name": "stdout",
          "text": [
            "[[0. 0. 0. ... 0. 0. 1.]\n",
            " [1. 0. 0. ... 0. 0. 0.]\n",
            " [1. 0. 0. ... 0. 0. 0.]\n",
            " ...\n",
            " [0. 0. 0. ... 0. 0. 0.]\n",
            " [1. 0. 0. ... 0. 0. 0.]\n",
            " [0. 0. 0. ... 0. 0. 0.]]\n"
          ]
        }
      ],
      "source": [
        "train_target = np.zeros((60000,10))\n",
        "validation_target = []\n",
        "tmp = []\n",
        "for i in range(len(train_set)):\n",
        "  tmp.append(train_set[i][0].numpy().tolist())\n",
        "  train_target[i][(train_set[i][1])] = 1\n",
        "  validation_target.append(train_set[i][1])\n",
        "train_target = np.array(train_target)\n",
        "print(train_target)\n",
        "# tmp = np.ndarray(tmp)\n",
        "train_set = np.array(tmp)"
      ]
    },
    {
      "cell_type": "markdown",
      "source": [
        "run this"
      ],
      "metadata": {
        "id": "mN9WeVObZEwV"
      }
    },
    {
      "cell_type": "code",
      "execution_count": null,
      "metadata": {
        "colab": {
          "base_uri": "https://localhost:8080/"
        },
        "id": "9KCcFqMpdw4l",
        "outputId": "2a3c402c-d324-41e8-db0c-eb500359f574"
      },
      "outputs": [
        {
          "output_type": "stream",
          "name": "stdout",
          "text": [
            "[9 2 1 ... 8 1 5]\n"
          ]
        }
      ],
      "source": [
        "test_target = []\n",
        "tmp2 = []\n",
        "for i in test_set:\n",
        "  tmp2.append(i[0].numpy().tolist())\n",
        "  test_target.append(i[1])\n",
        "test_target = np.array(test_target)\n",
        "print(test_target)\n",
        "test_set = np.array(tmp2)"
      ]
    },
    {
      "cell_type": "markdown",
      "source": [
        "Don't have to run this Cross Validation part"
      ],
      "metadata": {
        "id": "nwvqeT4wTkPU"
      }
    },
    {
      "cell_type": "code",
      "execution_count": null,
      "metadata": {
        "id": "YTT44M70nzBY"
      },
      "outputs": [],
      "source": [
        "# train_mean = np.mean(train_set)\n",
        "# train_set -= train_mean\n",
        "# test_set -= train_mean\n",
        "# train_set /= np.std(train_set, axis = 0)\n",
        "# test_set /= np.std(test_set, axis = 0)"
      ]
    },
    {
      "cell_type": "code",
      "execution_count": null,
      "metadata": {
        "id": "fcekiZNkoPhh"
      },
      "outputs": [],
      "source": [
        "# train_set = np.abs(train_set)\n",
        "# train_set /= np.std(train_set, axis = 0)\n",
        "# train_set"
      ]
    },
    {
      "cell_type": "code",
      "execution_count": null,
      "metadata": {
        "id": "10YJsgeQfCcH"
      },
      "outputs": [],
      "source": [
        "# train_set_split = cross_validation_split_target(train_set)\n",
        "# print(train_set_split)"
      ]
    },
    {
      "cell_type": "code",
      "source": [
        "def normalize(z):\n",
        "  z -= np.mean(z)\n",
        "  z /= np.std(z)\n",
        "  return z"
      ],
      "metadata": {
        "id": "QrUGVRodTo18"
      },
      "execution_count": null,
      "outputs": []
    },
    {
      "cell_type": "code",
      "source": [
        "#ndarray, number of rows, dropout rate as input\n",
        "def dropout(arr,numrows,rate):\n",
        "  prob=np.random.uniform(size=arr[0].shape)\n",
        "  tile=np.tile(prob, (numrows,1))\n",
        "  drop=tile>rate #rate=0.n of the units will be 0\n",
        "  copy_arr=drop*arr/(1-rate)\n",
        "  return copy_arr\n"
      ],
      "metadata": {
        "id": "tSd1Ib92-bjS"
      },
      "execution_count": null,
      "outputs": []
    },
    {
      "cell_type": "markdown",
      "source": [
        "## 2 Layer"
      ],
      "metadata": {
        "id": "HkPHAgjI2Xk1"
      }
    },
    {
      "cell_type": "code",
      "execution_count": null,
      "metadata": {
        "id": "mMpME91huF8k"
      },
      "outputs": [],
      "source": [
        "import numpy as np\n",
        "from scipy.special import logsumexp\n",
        "#%matplotlib notebook\n",
        "%matplotlib inline\n",
        "import matplotlib.pyplot as plt\n",
        "from IPython.core.debugger import set_trace\n",
        "import warnings\n",
        "warnings.filterwarnings('ignore')\n",
        "logistic = lambda z: 1./ (1 + np.exp(-z)) # Activation Function: sigmoid\n",
        "relu = lambda z: np.maximum(z, 0)\n",
        "tanh = lambda z: (np.exp(z) - np.exp(-z)) / (np.exp(z) + np.exp(-z))\n",
        "leaky = lambda z: np.maximum(z,0) + 0.25*(np.minimum(z,0))\n",
        "\n",
        "# def softmax(z):\n",
        "#  print(f'z.shape[0]: {z.shape[0]}')\n",
        "\n",
        "#  for i in range(z.shape[0]):\n",
        "#   #  print(z[i])\n",
        "#   # print(np.max(z[i]))\n",
        "#   # z[i] -= np.max(np.absolute(z[i]))\n",
        "#   sum = np.sum(np.exp(z[i]))\n",
        "#   # z[i] -= np.max(z[i])   # Shift values down to prevent overflow\n",
        "#   #  sum = np.sum(z[i])\n",
        "#   #  print(sum)\n",
        "#   #  print(z[i])\n",
        "#   z[i] = np.exp(z[i])/sum\n",
        "#   #  z[i] = z[i]/sum\n",
        "#   #  for j in range(z.shape[1]):\n",
        "#   #    z[i][j] = np.exp(j)/sum\n",
        "#  return z\n",
        "\n",
        "def softmax(z):\n",
        "    # z -= np.max(z, axis=1, keepdims=True)\n",
        "    numerator=np.exp(z)\n",
        "    denominator=numerator.sum(1, keepdims=True)\n",
        "    z=numerator/denominator\n",
        "    return z\n",
        "\n",
        "def crossEntropyLoss(x,y):\n",
        "  tmp = np.zeros((y.shape[0],1))\n",
        "  for i in range(x.shape[0]):\n",
        "    tmp[i] = -1.0 * np.log(x[i][y[i]])\n",
        "  return tmp\n",
        "\n",
        "def softmaxEntropy(x, y, w, v):\n",
        "  q = np.dot(x, v) #N x M\n",
        "  z = logistic(q) #N x M\n",
        "  u = np.dot(z, w) #N x C\n",
        "  yh = softmax(u)\n",
        "  nll = - np.mean(np.sum(u*y, 1) - logsumexp(u))\n",
        "  return nll\n",
        "\n",
        "\n",
        "\n",
        "class MLP:\n",
        "    \n",
        "    def __init__(self, M = 64): # num of hidden units\n",
        "        self.M = M\n",
        "            \n",
        "    def fit(self, x, y, optimizer): # x is input, y is target i think, optimizer here is gradient descent\n",
        "        N,D = x.shape\n",
        "        def gradient(x, y, params):\n",
        "            # copy_x=dropout(x, 50000,0.2)\n",
        "            v, w = params\n",
        "            q = np.dot(x, (v)) # N x M\n",
        "            # print(f'q: {np.max(q)}')\n",
        "            # tmp = np.max(q)\n",
        "            # if tmp > 1e5:\n",
        "            #   q /= tmp\n",
        "            # print(f'q: {q}')\n",
        "            z = tanh((q)) #N x M. first layer result | 60,000 x 128\n",
        "            # z=dropout(z,50000,0.5)\n",
        "            # z -= np.mean(z)\n",
        "            # z /= np.std(z)\n",
        "            # Check if np.dot(z,w) has any negative numbers, if it does, have to use relu first before softmax\n",
        "            # THIS IS OUR PREDICTION second layer result\n",
        "            # print(f'z: {z}')\n",
        "            # print(f'z: {np.max(z)}')\n",
        "            u = np.dot(z, w) # N x C\n",
        "            # print(f'u: {np.max(u)}')\n",
        "            yh = softmax(u)# N x C | 60,000 x 10\n",
        "            # print(f'yh: {np.max(yh)}')\n",
        "            # print(f'yh: {yh}')\n",
        "            nll = - np.mean(np.sum(u*y, 1) - logsumexp(u)) # Cross entropy loss\n",
        "            # print(f'nll: {nll}')\n",
        "            # print(nll)\n",
        "            # print(nll.shape)\n",
        "            dy = yh - y #N x C     # THIS IS THE LOSS  = dL/dy\n",
        "            # print(f'dy: {dy}')\n",
        "            # dy = crossEntropyLoss(yh, y)\n",
        "            # It uses L2 loss even tho it's classification. best loss function would be cross entropy loss\n",
        "            dw = np.dot(z.T, dy)/N #M x C | 128 x 10\n",
        "            # print(f'dw: {dw}')\n",
        "            # dz = np.outer(dy, w) #N x M | 60,000 x 128\n",
        "            dz = np.dot(dy, w.T) #N x M | 60,000 x 128\n",
        "            # print(f'dz: {dz}')\n",
        "            # x is 60,000 x 728 | x.T is 728 x 60,000\n",
        "            dv = np.dot(x.T, dz * z * (1 - z))/N #D x M\n",
        "            # print(f'dv: {dv}')\n",
        "            dparams = [dv, dw, nll]\n",
        "            return dparams\n",
        "        def predict2(x, v , w):\n",
        "          q = np.dot(x, (v))\n",
        "          z = tanh((q)) #N x M\n",
        "          yh = softmax(np.dot(z, w))#N\n",
        "          return yh\n",
        "        \n",
        "        w = np.random.randn(self.M,10) * .01\n",
        "        v = np.random.randn(D,self.M) * .01\n",
        "        # print(f'v: {np.sum(np.abs(v))}, w: {np.sum(np.abs(w))}')\n",
        "        # print(w)\n",
        "        # print(v)\n",
        "        params0 = [v,w]\n",
        "        self.params = optimizer.run(gradient, x, y, params0, predict2) # Optimizer returns the weights, the parameters\n",
        "        return self\n",
        "    \n",
        "    def predict(self, x):\n",
        "        v, w = self.params\n",
        "        # print(f'v: {np.sum(np.abs(v))}, w: {np.sum(np.abs(w))}')\n",
        "        # print(w)\n",
        "        # print(v)\n",
        "        q = np.dot(x, (v))\n",
        "        # norm = np.linalg.norm(q)\n",
        "        # q /= norm\n",
        "        # tmp = np.max(q)\n",
        "        # if tmp > 1e5:\n",
        "        #   q /= tmp\n",
        "        z = tanh((q)) #N x M\n",
        "        # z -= np.mean(z)\n",
        "        # z /= np.std(z)\n",
        "        yh = softmax(np.dot(z, w))#N\n",
        "        return yh"
      ]
    },
    {
      "cell_type": "code",
      "execution_count": null,
      "metadata": {
        "id": "5xQFdGc0uJcu"
      },
      "outputs": [],
      "source": [
        "from re import M\n",
        "class GradientDescent:\n",
        "    \n",
        "    def __init__(self, learning_rate=.001, max_iters=1e4, epsilon=1e-8): # Epsilon is difference between the 2 weights\n",
        "        self.learning_rate = learning_rate\n",
        "        self.max_iters = max_iters\n",
        "        self.epsilon = epsilon\n",
        "        \n",
        "    def run(self, gradient_fn, x, y, params, predict_fn):\n",
        "        norms = np.array([np.inf])\n",
        "        t = 1\n",
        "        beta1 = 0.9\n",
        "        beta2 = 0.999\n",
        "        m0,m1,v0,v1 = 0,0,0,0\n",
        "        while np.any(norms > self.epsilon) and t <= self.max_iters:\n",
        "            # x2 = x[:]\n",
        "            # y2 = y[:]\n",
        "            # for i in range(3125):\n",
        "            #   # mini_batch = x2[0]\n",
        "            #   # print(mini_batch)\n",
        "            #   # mini_target = y2[0]\n",
        "            #   mini_batch = x2[:16]\n",
        "            #   mini_target = y2[:16]\n",
        "            #   x2 = x2[16:]\n",
        "            #   # print(x2.shape)\n",
        "            #   y2 = y2[16:]\n",
        "            #   # print(y2.shape)\n",
        "            #   # idx = np.random.randint(50000-i, size=1)\n",
        "            #   # mini_batch = x[idx,:]\n",
        "            #   # mini_target = y[idx,:]\n",
        "            #   # x2 = np.delete(x2,idx,0)\n",
        "            #   # y2 = np.delete(y2,idx,0)\n",
        "            #   grad = gradient_fn(mini_batch, mini_target, params)\n",
        "            #   # m0 = beta1 * m0 + (1 - beta1) * grad[0]\n",
        "            #   # # print(f'm0:{m0}')\n",
        "            #   # m1 = beta1 * m1 + (1 - beta1) * grad[1]\n",
        "            #   # # print(f'm1:{m1}')\n",
        "            #   # v0 = beta2 * v0 + (1 - beta2) * (grad[0]**2)\n",
        "            #   # # print(f'v0:{v0}')\n",
        "            #   # v1 = beta2 * v1 + (1 - beta2) * (grad[1]**2)\n",
        "            #   # # print(f'v1:{v1}')\n",
        "            #   # m0_corr = m0 / (1 - beta1**t)\n",
        "            #   # # print(f'm0_corr:{m0_corr}')\n",
        "            #   # m1_corr = m1 / (1 - beta1**t)\n",
        "            #   # # print(f'm1_corr:{m1_corr}')\n",
        "            #   # v0_corr = v0 / (1 - beta2**t)\n",
        "            #   # # print(f'v0_corr:{v0_corr}')\n",
        "            #   # v1_corr = v1 / (1 - beta2**t)\n",
        "            #   # # print(f'v1_corr:{v1_corr}')\n",
        "            #   # calc1 = (m0_corr/(np.sqrt(v0_corr)+self.epsilon))\n",
        "            #   # # print(f'calc1:{calc1}')\n",
        "            #   # calc2 = (m1_corr/(np.sqrt(v1_corr)+self.epsilon))\n",
        "            #   # # print(f'calc2:{calc2}')\n",
        "            #   # params[0] -= self.learning_rate * grad[0]*calc1\n",
        "            #   # params[1] -= self.learning_rate * grad[1]*calc2\n",
        "            #   params[0] -= self.learning_rate * grad[0]\n",
        "            #   params[1] -= self.learning_rate * grad[1]\n",
        "            grad = gradient_fn(x, y, params)\n",
        "            if t % 5 == 0:\n",
        "              # print(x.shape[0])\n",
        "              # self.learning_rate *= 0.995\n",
        "              bg = predict_fn(train[:], params[0], params[1])\n",
        "              bg2 = np.mean(train_test[:]==np.argmax(bg,axis=1))\n",
        "              yg = predict_fn(validation[:], params[0], params[1])\n",
        "              yg2 = np.mean(validation_target[:]==np.argmax(yg,axis=1))\n",
        "              gh = predict_fn(asdf2[:], params[0], params[1])\n",
        "              gh2 = np.mean(test_target[:]==np.argmax(gh,axis=1))\n",
        "              # bg = predict_fn(new_train_X[:1], params[0], params[1])\n",
        "              # bg2 = np.mean(new_train_Y[:1]==np.argmax(bg,axis=1))\n",
        "              # bg = predict_fn(train_X[:], params[0], params[1])\n",
        "              # bg2 = np.mean(train_Y[:]==np.argmax(bg,axis=1))\n",
        "              # yg = predict_fn(validate_X[:], params[0], params[1])\n",
        "              # yg2 = np.mean(validate_Y[:]==np.argmax(yg,axis=1))\n",
        "              # gh = predict_fn(test_X[:], params[0], params[1])\n",
        "              # gh2 = np.mean(test_Y[:]==np.argmax(gh,axis=1))\n",
        "              print(f'{t}, {grad[2]}, {bg2}, {yg2}, {gh2}, {self.learning_rate}')\n",
        "            # if self.learning_rate > 0.15:\n",
        "            #   self.learning_rate = self.learning_rate*0.995\n",
        "            # print(f'v: {np.sum(np.abs(params[0]))}, w: {np.sum(np.abs(params[1]))}')\n",
        "            params[0] -= self.learning_rate * grad[0]\n",
        "            params[1] -= self.learning_rate * grad[1]\n",
        "            t += 1\n",
        "            norms = np.array([np.linalg.norm(grad[g]) for g in range(2)])\n",
        "            # print(norms)\n",
        "        return params"
      ]
    },
    {
      "cell_type": "code",
      "execution_count": null,
      "metadata": {
        "colab": {
          "base_uri": "https://localhost:8080/"
        },
        "id": "_c1-0rACwCR9",
        "outputId": "fa66956e-8a74-4684-dedc-5988ee641d42"
      },
      "outputs": [
        {
          "output_type": "execute_result",
          "data": {
            "text/plain": [
              "(10000, 1, 28, 28)"
            ]
          },
          "metadata": {},
          "execution_count": 10
        }
      ],
      "source": [
        "asdf = np.reshape(train_set, (60000,784))\n",
        "asdf2 = np.reshape(test_set, (10000,784))\n",
        "train = asdf[:50000]\n",
        "train_test = validation_target[:50000]\n",
        "validation_target = validation_target[50000:]\n",
        "validation = asdf[50000:]\n",
        "train_target = train_target[:50000]\n",
        "# asdf3 = np.reshape(train_target, (32,1875))\n",
        "asdf.shape\n",
        "train_target.shape\n",
        "asdf2.shape\n",
        "test_set.shape"
      ]
    },
    {
      "cell_type": "code",
      "source": [
        "len(train_test)"
      ],
      "metadata": {
        "colab": {
          "base_uri": "https://localhost:8080/"
        },
        "id": "POmL-pvx3DQx",
        "outputId": "f95c4d33-874e-466e-95d4-023a1dee90ef"
      },
      "execution_count": null,
      "outputs": [
        {
          "output_type": "execute_result",
          "data": {
            "text/plain": [
              "10000"
            ]
          },
          "metadata": {},
          "execution_count": 140
        }
      ]
    },
    {
      "cell_type": "markdown",
      "source": [
        "From here is just Sklearn, dont have to run"
      ],
      "metadata": {
        "id": "cbTKaJoAToWc"
      }
    },
    {
      "cell_type": "code",
      "execution_count": null,
      "metadata": {
        "id": "2DB8QwGt4J2T"
      },
      "outputs": [],
      "source": [
        "from sklearn.datasets import make_classification\n",
        "from sklearn.model_selection import train_test_split\n",
        "X, y = make_classification(n_samples=100, random_state=1)\n",
        "X_train, X_test, y_train, y_test = train_test_split(X, y, stratify=y,random_state=1)"
      ]
    },
    {
      "cell_type": "code",
      "execution_count": null,
      "metadata": {
        "id": "_bIWTiul2c2n"
      },
      "outputs": [],
      "source": [
        "from sklearn.neural_network import MLPClassifier\n",
        "clf = MLPClassifier(hidden_layer_sizes = (128,2),random_state=1, max_iter=250).fit(asdf[:50000], train_target[:])"
      ]
    },
    {
      "cell_type": "code",
      "execution_count": null,
      "metadata": {
        "id": "c0BbaNrW5MtV"
      },
      "outputs": [],
      "source": [
        "a = clf.predict(asdf2)"
      ]
    },
    {
      "cell_type": "code",
      "execution_count": null,
      "metadata": {
        "colab": {
          "base_uri": "https://localhost:8080/"
        },
        "id": "kCclV8aJ5Pr5",
        "outputId": "ea2ddff9-6432-472f-f0d9-24acdfd5251c"
      },
      "outputs": [
        {
          "output_type": "execute_result",
          "data": {
            "text/plain": [
              "0.0"
            ]
          },
          "metadata": {},
          "execution_count": 32
        }
      ],
      "source": [
        "np.mean(a == test_target)"
      ]
    },
    {
      "cell_type": "markdown",
      "source": [
        "From here is testing, please run"
      ],
      "metadata": {
        "id": "39210rFTTrlF"
      }
    },
    {
      "cell_type": "code",
      "execution_count": null,
      "metadata": {
        "id": "5O-OuC68uLJT",
        "colab": {
          "base_uri": "https://localhost:8080/"
        },
        "outputId": "fb53f7d7-78c1-4304-d8ff-d2b239d741e1"
      },
      "outputs": [
        {
          "output_type": "stream",
          "name": "stdout",
          "text": [
            "5, 13.057589378585389, 0.4681, 0.4734, 0.4634, 0.53\n",
            "10, 12.911906355147364, 0.38196, 0.3867, 0.3749, 0.53\n",
            "15, 12.629008158515663, 0.5069, 0.5212, 0.5026, 0.53\n",
            "20, 12.38298527195807, 0.59612, 0.6083, 0.5895, 0.53\n",
            "25, 12.236422956855042, 0.62076, 0.6283, 0.6146, 0.53\n",
            "30, 12.146592538609799, 0.63936, 0.6461, 0.6317, 0.53\n",
            "35, 12.091176424009353, 0.65358, 0.66, 0.645, 0.53\n",
            "40, 12.060177250787918, 0.66504, 0.6733, 0.6567, 0.53\n",
            "45, 12.047313328419268, 0.67712, 0.6851, 0.6683, 0.53\n",
            "50, 12.047117785416683, 0.68634, 0.692, 0.6755, 0.53\n",
            "55, 12.261886945103498, 0.62606, 0.6265, 0.615, 0.53\n",
            "60, 12.142516088125447, 0.65128, 0.6462, 0.6405, 0.53\n",
            "65, 12.40089793049705, 0.70178, 0.7059, 0.6911, 0.53\n",
            "70, 12.231649227381881, 0.69444, 0.6919, 0.6837, 0.53\n",
            "75, 12.31669008479125, 0.68668, 0.6859, 0.6837, 0.53\n",
            "80, 12.362174362563433, 0.70402, 0.6992, 0.6968, 0.53\n",
            "85, 12.331465367645595, 0.70598, 0.7078, 0.7028, 0.53\n",
            "90, 12.410493719668628, 0.71132, 0.7086, 0.7053, 0.53\n",
            "95, 12.393892712719357, 0.72114, 0.7226, 0.7172, 0.53\n",
            "100, 12.48747362378448, 0.71836, 0.7132, 0.7107, 0.53\n",
            "105, 12.46477157020839, 0.7404, 0.7411, 0.7343, 0.53\n",
            "110, 12.575931470472455, 0.7276, 0.7199, 0.7181, 0.53\n",
            "115, 12.537400700540077, 0.75558, 0.7551, 0.7479, 0.53\n",
            "120, 12.682597119916228, 0.72918, 0.7214, 0.7242, 0.53\n",
            "125, 12.568127214708205, 0.74918, 0.7449, 0.742, 0.53\n",
            "130, 12.739205523202955, 0.75084, 0.7488, 0.7458, 0.53\n",
            "135, 12.617476866032495, 0.74372, 0.7359, 0.7306, 0.53\n",
            "140, 12.720148822353599, 0.76346, 0.7661, 0.7536, 0.53\n",
            "145, 12.781434725404306, 0.7591, 0.7506, 0.7463, 0.53\n",
            "150, 12.705920850596373, 0.78108, 0.7814, 0.7697, 0.53\n",
            "155, 12.750157333291797, 0.75816, 0.7525, 0.7498, 0.53\n",
            "160, 12.709222449024749, 0.7738, 0.7681, 0.7616, 0.53\n",
            "165, 13.011356845398861, 0.75864, 0.7555, 0.7519, 0.53\n",
            "170, 12.74062409780132, 0.77112, 0.7631, 0.7565, 0.53\n",
            "175, 12.930598415270616, 0.779, 0.7804, 0.7717, 0.53\n",
            "180, 12.936989244376326, 0.76484, 0.7582, 0.7527, 0.53\n",
            "185, 12.816558891840216, 0.76306, 0.7575, 0.753, 0.53\n",
            "190, 12.870714518401654, 0.77262, 0.77, 0.7634, 0.53\n",
            "195, 12.77107403195702, 0.78786, 0.7797, 0.7711, 0.53\n",
            "200, 12.84990036477994, 0.78902, 0.7907, 0.7806, 0.53\n",
            "205, 12.732774204574891, 0.76724, 0.7556, 0.7538, 0.53\n",
            "210, 12.911266851552247, 0.7962, 0.7945, 0.7862, 0.53\n",
            "215, 12.779456574385073, 0.80426, 0.7946, 0.789, 0.53\n",
            "220, 12.853682290080167, 0.81334, 0.8072, 0.7995, 0.53\n",
            "225, 12.868803138741619, 0.81548, 0.8091, 0.802, 0.53\n",
            "230, 12.901501346640242, 0.81642, 0.8104, 0.8037, 0.53\n",
            "235, 12.92652140009772, 0.81806, 0.8128, 0.8037, 0.53\n",
            "240, 12.951932304230537, 0.8192, 0.8131, 0.8062, 0.53\n",
            "245, 12.977781490448006, 0.82022, 0.8138, 0.8069, 0.53\n",
            "250, 13.00150648345667, 0.82034, 0.8146, 0.8083, 0.53\n"
          ]
        }
      ],
      "source": [
        "x = train[:]\n",
        "y = train_target[:]\n",
        "model = MLP(M=128)\n",
        "optimizer = GradientDescent(learning_rate=0.53, max_iters=250)\n",
        "yh = model.fit(x, y, optimizer)"
      ]
    },
    {
      "cell_type": "code",
      "source": [
        "yg = yh.predict(asdf2[:])\n",
        "np.mean(test_target==np.argmax(yg,axis=1))"
      ],
      "metadata": {
        "colab": {
          "base_uri": "https://localhost:8080/"
        },
        "id": "lEK8qEJR-F_1",
        "outputId": "8f301aac-c010-4f63-97c9-07b6449a6232"
      },
      "execution_count": null,
      "outputs": [
        {
          "output_type": "execute_result",
          "data": {
            "text/plain": [
              "0.1"
            ]
          },
          "metadata": {},
          "execution_count": 190
        }
      ]
    },
    {
      "cell_type": "markdown",
      "source": [
        "## No Hidden Layer"
      ],
      "metadata": {
        "id": "hqCS6Iqv2tG0"
      }
    },
    {
      "cell_type": "code",
      "source": [
        "import numpy as np\n",
        "from scipy.special import logsumexp\n",
        "#%matplotlib notebook\n",
        "%matplotlib inline\n",
        "import matplotlib.pyplot as plt\n",
        "from IPython.core.debugger import set_trace\n",
        "import warnings\n",
        "warnings.filterwarnings('ignore')\n",
        "logistic = lambda z: 1./ (1 + np.exp(-z)) # Activation Function: sigmoid\n",
        "relu = lambda z: np.maximum(z, 0)\n",
        "tanh = lambda z: (np.exp(z) - np.exp(-z)) / (np.exp(z) + np.exp(-z))\n",
        "leaky = lambda z: np.maximum(z,0) + 0.25*(np.minimum(z,0))\n",
        "\n",
        "def softmax(z):\n",
        "    # z -= np.max(z, axis=1, keepdims=True)\n",
        "    numerator=np.exp(z)\n",
        "    denominator=numerator.sum(1, keepdims=True)\n",
        "    z=numerator/denominator\n",
        "    return z\n",
        "\n",
        "class MLP_0:\n",
        "    \n",
        "    def __init__(self, M = 64): # num of hidden units\n",
        "        self.M = M\n",
        "            \n",
        "    def fit(self, x, y, optimizer): # x is input, y is target i think, optimizer here is gradient descent\n",
        "        N,D = x.shape\n",
        "        transform = np.full((N,10),1) # Set all to 1, every class with have same probability\n",
        "        # transform = np.random.randn(N,10) * .01 # Set random variables\n",
        "        self.v = np.dot(x.T,transform)\n",
        "        return self\n",
        "    \n",
        "    def predict(self, x):\n",
        "        yh = softmax(np.dot(x,self.v)) #N\n",
        "        return yh"
      ],
      "metadata": {
        "id": "o1i0lG112qtv"
      },
      "execution_count": null,
      "outputs": []
    },
    {
      "cell_type": "markdown",
      "source": [
        "## 1 Hidden Layer"
      ],
      "metadata": {
        "id": "Chgy77mc9Rs6"
      }
    },
    {
      "cell_type": "code",
      "source": [
        "import numpy as np\n",
        "from scipy.special import logsumexp\n",
        "#%matplotlib notebook\n",
        "%matplotlib inline\n",
        "import matplotlib.pyplot as plt\n",
        "from IPython.core.debugger import set_trace\n",
        "import warnings\n",
        "warnings.filterwarnings('ignore')\n",
        "logistic = lambda z: 1./ (1 + np.exp(-z)) # Activation Function: sigmoid\n",
        "relu = lambda z: np.maximum(z, 0)\n",
        "tanh = lambda z: (np.exp(z) - np.exp(-z)) / (np.exp(z) + np.exp(-z))\n",
        "leaky = lambda z: np.maximum(z,0) + 0.25*(np.minimum(z,0))\n",
        "\n",
        "def softmax(z):\n",
        "    # z -= np.max(z, axis=1, keepdims=True)\n",
        "    numerator=np.exp(z)\n",
        "    denominator=numerator.sum(1, keepdims=True)\n",
        "    z=numerator/denominator\n",
        "    return z\n",
        "\n",
        "# def crossEntropyLoss(x,y):\n",
        "#   tmp = np.zeros((y.shape[0],1))\n",
        "#   for i in range(x.shape[0]):\n",
        "#     tmp[i] = -1.0 * np.log(x[i][y[i]])\n",
        "#   return -np.sum(tmp)\n",
        "\n",
        "def softmaxEntropy(x, y, w, v):\n",
        "  q = np.dot(x, v) #N x M\n",
        "  z = logistic(q) #N x M\n",
        "  u = np.dot(z, w) #N x C\n",
        "  yh = softmax(u)\n",
        "  nll = - np.mean(np.sum(u*y, 1) - logsumexp(u))\n",
        "  return nll\n",
        "\n",
        "\n",
        "\n",
        "class MLP_1:\n",
        "    \n",
        "    def __init__(self, M = 128): # num of hidden units\n",
        "        self.M = M\n",
        "            \n",
        "    def fit(self, x, y, optimizer): # x is input, y is target i think, optimizer here is gradient descent\n",
        "        N,D = x.shape\n",
        "        def gradient(x, y, params):\n",
        "            #q_target = np.dot\n",
        "            v,w = params\n",
        "            #q = np.dot(x, v) # N x M\n",
        "            z = relu(normalize(x))\n",
        "            #zz=np.reshape(z, (306250,128))\n",
        "            \n",
        "            #z = logistic((q)) #N x M. first layer result | 60,000 x 128\n",
        "            u = np.dot(z,w) # N x C\n",
        "            yh = softmax(u)# N x C | 60,000 x 10\n",
        "            # nll = softmaxEntropy(x,y,w,v)\n",
        "            dy = yh - y #N x C     # THIS IS THE LOSS  = dL/dy\n",
        "            dw = np.dot(z.T, dy)/N #M x C | 128 x 10\n",
        "            dz = np.dot(dy, w.T) #N x M | 60,000 x 128\n",
        "            #dv = np.dot(x.T, dz * z * (1 - z))/N #D x M\n",
        "            dparams = [v, dw]\n",
        "            return dparams\n",
        "        def predict2(x, params):\n",
        "          v,w=params\n",
        "          q = np.dot(x, v)\n",
        "          #z = logistic((q)) #N x M\n",
        "          z=relu(normalize(x))\n",
        "          #zz=np.reshape(z,(50000,128))\n",
        "          yh = softmax(np.dot(z, w))#N\n",
        "          return yh\n",
        "        \n",
        "        # self.v = np.random.randn(D,self.M) * .01\n",
        "        v = np.full((D,self.M),1) #stays the same does not change\n",
        "        #v=np.random.randn(D,self.M) *.01 #D=784, N=50000 M=128\n",
        "        # self.w = np.full((self.M,10),1)\n",
        "        w = np.random.randn(self.M,10) * .01 #this is adjusted\n",
        "        #w=np.full((self.M,10),1)\n",
        "        params0 = [v,w]\n",
        "        self.params = optimizer.run(gradient, x, y, params0, predict2)\n",
        "        #self.w = optimizer.run(gradient, x, y, self.w, predict2) # Optimizer returns the weights, the parameters\n",
        "        return self\n",
        "    \n",
        "    def predict(self, x):\n",
        "        v,w=self.params\n",
        "        q = np.dot(x, v)\n",
        "        #z = logistic((q)) #N x M\n",
        "        z=relu(normalize(x))\n",
        "        #zz=np.reshape(z,(50000,128))\n",
        "        yh = softmax(np.dot(z, w))#N\n",
        "        return yh"
      ],
      "metadata": {
        "id": "toNzJygk9Qyk"
      },
      "execution_count": 2,
      "outputs": []
    },
    {
      "cell_type": "markdown",
      "source": [
        "## 1 Hidden Layer Gradient Descent"
      ],
      "metadata": {
        "id": "UpsBNZ_AC_Tq"
      }
    },
    {
      "cell_type": "code",
      "source": [
        "from re import M\n",
        "class GradientDescent:\n",
        "    \n",
        "    def __init__(self, learning_rate=.001, max_iters=1e4, epsilon=1e-8): # Epsilon is difference between the 2 weights\n",
        "        self.learning_rate = learning_rate\n",
        "        self.max_iters = max_iters\n",
        "        self.epsilon = epsilon\n",
        "        \n",
        "    def run(self, gradient_fn, x, y, params, predict_fn):\n",
        "        norms = np.array([np.inf])\n",
        "        t = 1\n",
        "        while np.any(norms > self.epsilon) and t <= self.max_iters:\n",
        "            grad = gradient_fn(x, y, params)\n",
        "            if t % 1 == 0:\n",
        "              bg = predict_fn(train[:], params)\n",
        "              bg2 = np.mean(train_test[:]==np.argmax(bg,axis=1))\n",
        "              yg = predict_fn(validation[:], params)\n",
        "              yg2 = np.mean(validation_target[:]==np.argmax(yg,axis=1))\n",
        "              gh = predict_fn(asdf2[:], params)\n",
        "              gh2 = np.mean(test_target[:]==np.argmax(gh,axis=1))\n",
        "              print(f'{t}, {bg2}, {yg2}, {gh2}, {self.learning_rate}')\n",
        "\n",
        "              #print(f'{t}, {gh2}, {self.learning_rate}')\n",
        "            # if t < 1*self.max_iters:\n",
        "            #   self.learning_rate = self.learning_rate*0.99\n",
        "            params[1] -= self.learning_rate * grad[1]\n",
        "            t += 1\n",
        "            norms = np.array([np.linalg.norm(grad[1])])\n",
        "        return params"
      ],
      "metadata": {
        "id": "WBnHu03SDBS-"
      },
      "execution_count": null,
      "outputs": []
    },
    {
      "cell_type": "code",
      "source": [
        "x = train[:]\n",
        "y = train_target[:]\n",
        "model = MLP_1(M=128)\n",
        "optimizer = GradientDescent(learning_rate=0.05, max_iters=500)\n",
        "yh = model.fit(x, y, optimizer)"
      ],
      "metadata": {
        "colab": {
          "base_uri": "https://localhost:8080/"
        },
        "id": "yDjVs4OKEtpn",
        "outputId": "bf27bec2-1987-4831-afdc-8e0fb31d4b01"
      },
      "execution_count": null,
      "outputs": [
        {
          "output_type": "stream",
          "name": "stdout",
          "text": [
            "1, 0.07576, 0.0746, 0.0802, 0.05\n",
            "2, 0.35582, 0.3539, 0.3543, 0.05\n",
            "3, 0.55176, 0.5541, 0.5476, 0.05\n",
            "4, 0.55144, 0.554, 0.5413, 0.05\n",
            "5, 0.60162, 0.6024, 0.5954, 0.05\n",
            "6, 0.59218, 0.5949, 0.5843, 0.05\n",
            "7, 0.60952, 0.6104, 0.6024, 0.05\n",
            "8, 0.60328, 0.6081, 0.5968, 0.05\n",
            "9, 0.61328, 0.6129, 0.6059, 0.05\n",
            "10, 0.61016, 0.6151, 0.6033, 0.05\n",
            "11, 0.61714, 0.6159, 0.6094, 0.05\n",
            "12, 0.61542, 0.6206, 0.6093, 0.05\n",
            "13, 0.62132, 0.6203, 0.6148, 0.05\n",
            "14, 0.62178, 0.6252, 0.6157, 0.05\n",
            "15, 0.62602, 0.6241, 0.6202, 0.05\n",
            "16, 0.6277, 0.632, 0.6227, 0.05\n",
            "17, 0.63078, 0.6289, 0.6269, 0.05\n",
            "18, 0.6351, 0.6402, 0.6299, 0.05\n",
            "19, 0.63588, 0.6351, 0.6318, 0.05\n",
            "20, 0.64258, 0.6457, 0.6368, 0.05\n",
            "21, 0.6411, 0.6406, 0.6366, 0.05\n",
            "22, 0.65018, 0.6522, 0.6431, 0.05\n",
            "23, 0.64784, 0.6457, 0.6423, 0.05\n",
            "24, 0.65748, 0.6605, 0.6498, 0.05\n",
            "25, 0.65478, 0.6529, 0.648, 0.05\n",
            "26, 0.66462, 0.6679, 0.6582, 0.05\n",
            "27, 0.66112, 0.6593, 0.6551, 0.05\n",
            "28, 0.67136, 0.6753, 0.6657, 0.05\n",
            "29, 0.667, 0.6652, 0.6588, 0.05\n",
            "30, 0.67764, 0.6802, 0.6702, 0.05\n",
            "31, 0.67316, 0.6692, 0.6649, 0.05\n",
            "32, 0.6832, 0.685, 0.676, 0.05\n",
            "33, 0.67912, 0.6734, 0.6686, 0.05\n",
            "34, 0.68874, 0.6912, 0.6809, 0.05\n",
            "35, 0.68412, 0.6795, 0.6745, 0.05\n",
            "36, 0.69366, 0.6946, 0.6847, 0.05\n",
            "37, 0.68984, 0.6851, 0.6799, 0.05\n",
            "38, 0.69802, 0.6994, 0.6889, 0.05\n",
            "39, 0.69478, 0.6897, 0.6849, 0.05\n",
            "40, 0.7022, 0.7039, 0.6932, 0.05\n",
            "41, 0.69882, 0.6943, 0.6892, 0.05\n",
            "42, 0.70548, 0.707, 0.6968, 0.05\n",
            "43, 0.70328, 0.699, 0.692, 0.05\n",
            "44, 0.7091, 0.711, 0.7002, 0.05\n",
            "45, 0.70816, 0.7029, 0.6949, 0.05\n",
            "46, 0.7126, 0.7139, 0.7032, 0.05\n",
            "47, 0.7122, 0.7067, 0.6978, 0.05\n",
            "48, 0.71552, 0.7174, 0.7052, 0.05\n",
            "49, 0.71618, 0.7104, 0.7015, 0.05\n",
            "50, 0.71846, 0.7205, 0.7082, 0.05\n",
            "51, 0.71972, 0.7145, 0.7052, 0.05\n",
            "52, 0.72066, 0.7228, 0.7113, 0.05\n",
            "53, 0.723, 0.7188, 0.7088, 0.05\n",
            "54, 0.72312, 0.7249, 0.7133, 0.05\n",
            "55, 0.726, 0.7218, 0.7123, 0.05\n",
            "56, 0.72554, 0.7277, 0.7159, 0.05\n",
            "57, 0.72892, 0.7243, 0.7153, 0.05\n",
            "58, 0.72778, 0.7291, 0.718, 0.05\n",
            "59, 0.73126, 0.7268, 0.7182, 0.05\n",
            "60, 0.72976, 0.731, 0.7201, 0.05\n",
            "61, 0.7347, 0.7296, 0.7205, 0.05\n",
            "62, 0.73208, 0.7333, 0.7215, 0.05\n",
            "63, 0.73648, 0.7312, 0.7222, 0.05\n",
            "64, 0.73384, 0.7341, 0.7225, 0.05\n",
            "65, 0.73876, 0.733, 0.7249, 0.05\n",
            "66, 0.73586, 0.7358, 0.7236, 0.05\n",
            "67, 0.74118, 0.7349, 0.726, 0.05\n",
            "68, 0.7377, 0.7377, 0.7257, 0.05\n",
            "69, 0.74332, 0.7365, 0.727, 0.05\n",
            "70, 0.73978, 0.7387, 0.7281, 0.05\n",
            "71, 0.74514, 0.7392, 0.7301, 0.05\n",
            "72, 0.74174, 0.7407, 0.73, 0.05\n",
            "73, 0.7467, 0.7408, 0.7324, 0.05\n",
            "74, 0.74376, 0.7414, 0.7314, 0.05\n",
            "75, 0.7483, 0.7424, 0.7342, 0.05\n",
            "76, 0.7458, 0.7434, 0.7333, 0.05\n",
            "77, 0.75022, 0.7435, 0.7374, 0.05\n",
            "78, 0.74764, 0.7452, 0.7359, 0.05\n",
            "79, 0.75172, 0.7448, 0.7395, 0.05\n",
            "80, 0.74966, 0.7465, 0.7381, 0.05\n",
            "81, 0.75326, 0.7457, 0.7407, 0.05\n",
            "82, 0.75094, 0.747, 0.7394, 0.05\n",
            "83, 0.7545, 0.7468, 0.7425, 0.05\n",
            "84, 0.75248, 0.7483, 0.7403, 0.05\n",
            "85, 0.75604, 0.7488, 0.7436, 0.05\n",
            "86, 0.75432, 0.7502, 0.7415, 0.05\n",
            "87, 0.75732, 0.7513, 0.7447, 0.05\n",
            "88, 0.75598, 0.751, 0.7431, 0.05\n",
            "89, 0.75848, 0.7529, 0.7458, 0.05\n",
            "90, 0.75714, 0.7516, 0.7442, 0.05\n",
            "91, 0.75962, 0.7538, 0.7459, 0.05\n",
            "92, 0.7586, 0.7522, 0.745, 0.05\n",
            "93, 0.76048, 0.7546, 0.7462, 0.05\n",
            "94, 0.7599, 0.7529, 0.746, 0.05\n",
            "95, 0.76134, 0.7551, 0.7474, 0.05\n",
            "96, 0.76108, 0.7545, 0.7478, 0.05\n",
            "97, 0.7623, 0.7564, 0.7493, 0.05\n",
            "98, 0.76182, 0.7558, 0.7495, 0.05\n",
            "99, 0.76352, 0.757, 0.7501, 0.05\n",
            "100, 0.76318, 0.7565, 0.7507, 0.05\n",
            "101, 0.76452, 0.7575, 0.751, 0.05\n",
            "102, 0.76446, 0.7573, 0.7518, 0.05\n",
            "103, 0.76522, 0.758, 0.7521, 0.05\n",
            "104, 0.76506, 0.7572, 0.7526, 0.05\n",
            "105, 0.76632, 0.7589, 0.7532, 0.05\n",
            "106, 0.76614, 0.7582, 0.7534, 0.05\n",
            "107, 0.76688, 0.7597, 0.7539, 0.05\n",
            "108, 0.7669, 0.7593, 0.7547, 0.05\n",
            "109, 0.7674, 0.7601, 0.7548, 0.05\n",
            "110, 0.76746, 0.7597, 0.7558, 0.05\n",
            "111, 0.76822, 0.7606, 0.7553, 0.05\n",
            "112, 0.7682, 0.7602, 0.7558, 0.05\n",
            "113, 0.76914, 0.7608, 0.7563, 0.05\n",
            "114, 0.769, 0.76, 0.7567, 0.05\n",
            "115, 0.76968, 0.7613, 0.7565, 0.05\n",
            "116, 0.76982, 0.7603, 0.7575, 0.05\n",
            "117, 0.77034, 0.7614, 0.7569, 0.05\n",
            "118, 0.77012, 0.7612, 0.7583, 0.05\n",
            "119, 0.77088, 0.7624, 0.7574, 0.05\n",
            "120, 0.77094, 0.7614, 0.7585, 0.05\n",
            "121, 0.77148, 0.7628, 0.7585, 0.05\n",
            "122, 0.77176, 0.7622, 0.7586, 0.05\n",
            "123, 0.77228, 0.7634, 0.7593, 0.05\n",
            "124, 0.77238, 0.7626, 0.7596, 0.05\n",
            "125, 0.77306, 0.7628, 0.7604, 0.05\n",
            "126, 0.77314, 0.7628, 0.761, 0.05\n",
            "127, 0.77374, 0.7634, 0.7602, 0.05\n",
            "128, 0.77354, 0.7632, 0.7612, 0.05\n",
            "129, 0.7742, 0.7638, 0.761, 0.05\n",
            "130, 0.77424, 0.7637, 0.7617, 0.05\n",
            "131, 0.7749, 0.7641, 0.7612, 0.05\n",
            "132, 0.77464, 0.7643, 0.7622, 0.05\n",
            "133, 0.7752, 0.7646, 0.7619, 0.05\n",
            "134, 0.7752, 0.7647, 0.7626, 0.05\n",
            "135, 0.77558, 0.7652, 0.7623, 0.05\n",
            "136, 0.77552, 0.7652, 0.7628, 0.05\n",
            "137, 0.77582, 0.7652, 0.7626, 0.05\n",
            "138, 0.77588, 0.7657, 0.7631, 0.05\n",
            "139, 0.77618, 0.7659, 0.7632, 0.05\n",
            "140, 0.7764, 0.7659, 0.7638, 0.05\n",
            "141, 0.77668, 0.766, 0.7637, 0.05\n",
            "142, 0.7768, 0.7663, 0.7643, 0.05\n",
            "143, 0.77696, 0.7662, 0.7645, 0.05\n",
            "144, 0.77704, 0.7664, 0.7649, 0.05\n",
            "145, 0.7773, 0.7671, 0.765, 0.05\n",
            "146, 0.77738, 0.7673, 0.7652, 0.05\n",
            "147, 0.77772, 0.7674, 0.7652, 0.05\n",
            "148, 0.77798, 0.7679, 0.7655, 0.05\n",
            "149, 0.77808, 0.7684, 0.7654, 0.05\n",
            "150, 0.77842, 0.7687, 0.7657, 0.05\n",
            "151, 0.77858, 0.769, 0.7663, 0.05\n",
            "152, 0.77868, 0.7691, 0.7663, 0.05\n",
            "153, 0.77884, 0.7693, 0.7661, 0.05\n",
            "154, 0.77892, 0.7693, 0.7668, 0.05\n",
            "155, 0.77904, 0.7696, 0.7669, 0.05\n",
            "156, 0.77922, 0.7697, 0.767, 0.05\n",
            "157, 0.7795, 0.7698, 0.7674, 0.05\n",
            "158, 0.77954, 0.77, 0.7674, 0.05\n",
            "159, 0.7798, 0.7702, 0.7676, 0.05\n",
            "160, 0.78006, 0.7705, 0.7677, 0.05\n",
            "161, 0.78014, 0.7707, 0.7679, 0.05\n",
            "162, 0.78046, 0.7709, 0.768, 0.05\n",
            "163, 0.78058, 0.7709, 0.7685, 0.05\n",
            "164, 0.7808, 0.7711, 0.7686, 0.05\n",
            "165, 0.78094, 0.7716, 0.7691, 0.05\n",
            "166, 0.78106, 0.7714, 0.7691, 0.05\n",
            "167, 0.78124, 0.7717, 0.7694, 0.05\n",
            "168, 0.78136, 0.7718, 0.7692, 0.05\n",
            "169, 0.78158, 0.7719, 0.7692, 0.05\n",
            "170, 0.78168, 0.7723, 0.7693, 0.05\n",
            "171, 0.78182, 0.7725, 0.7694, 0.05\n",
            "172, 0.78188, 0.7728, 0.7693, 0.05\n",
            "173, 0.78212, 0.7728, 0.7693, 0.05\n",
            "174, 0.78224, 0.7731, 0.7694, 0.05\n",
            "175, 0.78248, 0.773, 0.7693, 0.05\n",
            "176, 0.78268, 0.7729, 0.7693, 0.05\n",
            "177, 0.7829, 0.7731, 0.7692, 0.05\n",
            "178, 0.7831, 0.7733, 0.7693, 0.05\n",
            "179, 0.78324, 0.7733, 0.7692, 0.05\n",
            "180, 0.78328, 0.7733, 0.7693, 0.05\n",
            "181, 0.78338, 0.7734, 0.7695, 0.05\n",
            "182, 0.78348, 0.7733, 0.7697, 0.05\n",
            "183, 0.78358, 0.7735, 0.7697, 0.05\n",
            "184, 0.78376, 0.7738, 0.77, 0.05\n",
            "185, 0.78384, 0.774, 0.7702, 0.05\n",
            "186, 0.78416, 0.774, 0.7706, 0.05\n",
            "187, 0.78442, 0.7743, 0.7705, 0.05\n",
            "188, 0.78458, 0.7744, 0.7708, 0.05\n",
            "189, 0.78476, 0.7745, 0.771, 0.05\n",
            "190, 0.78494, 0.7744, 0.771, 0.05\n",
            "191, 0.78512, 0.7744, 0.7709, 0.05\n",
            "192, 0.78548, 0.7745, 0.7709, 0.05\n",
            "193, 0.7856, 0.7745, 0.7709, 0.05\n",
            "194, 0.78572, 0.7745, 0.7713, 0.05\n",
            "195, 0.78574, 0.7749, 0.7714, 0.05\n",
            "196, 0.78592, 0.7749, 0.7716, 0.05\n",
            "197, 0.78602, 0.7752, 0.7717, 0.05\n",
            "198, 0.78606, 0.7752, 0.7716, 0.05\n",
            "199, 0.78628, 0.7754, 0.7719, 0.05\n",
            "200, 0.7865, 0.7755, 0.7722, 0.05\n",
            "201, 0.78668, 0.7754, 0.7724, 0.05\n",
            "202, 0.7868, 0.7754, 0.7722, 0.05\n",
            "203, 0.78686, 0.7754, 0.7723, 0.05\n",
            "204, 0.78702, 0.7754, 0.7723, 0.05\n",
            "205, 0.78716, 0.7754, 0.7724, 0.05\n",
            "206, 0.78728, 0.7757, 0.7725, 0.05\n",
            "207, 0.78734, 0.7756, 0.7724, 0.05\n",
            "208, 0.78746, 0.7757, 0.7727, 0.05\n",
            "209, 0.7876, 0.7759, 0.7728, 0.05\n",
            "210, 0.78768, 0.7762, 0.7729, 0.05\n",
            "211, 0.78798, 0.7762, 0.7731, 0.05\n",
            "212, 0.78802, 0.7762, 0.7731, 0.05\n",
            "213, 0.78822, 0.7762, 0.7731, 0.05\n",
            "214, 0.78846, 0.7762, 0.7732, 0.05\n",
            "215, 0.78862, 0.7763, 0.7732, 0.05\n",
            "216, 0.78868, 0.7764, 0.7733, 0.05\n",
            "217, 0.78886, 0.7764, 0.7737, 0.05\n",
            "218, 0.78888, 0.7767, 0.7738, 0.05\n",
            "219, 0.78892, 0.7768, 0.7742, 0.05\n",
            "220, 0.7891, 0.7768, 0.7742, 0.05\n",
            "221, 0.78928, 0.7771, 0.7742, 0.05\n",
            "222, 0.78936, 0.777, 0.7743, 0.05\n",
            "223, 0.78948, 0.777, 0.7744, 0.05\n",
            "224, 0.78968, 0.7768, 0.7747, 0.05\n",
            "225, 0.78974, 0.7769, 0.775, 0.05\n",
            "226, 0.78978, 0.777, 0.7751, 0.05\n",
            "227, 0.78976, 0.7772, 0.7753, 0.05\n",
            "228, 0.78988, 0.7774, 0.7756, 0.05\n",
            "229, 0.79, 0.7776, 0.7757, 0.05\n",
            "230, 0.7901, 0.7776, 0.7758, 0.05\n",
            "231, 0.79024, 0.778, 0.776, 0.05\n",
            "232, 0.79032, 0.7783, 0.7762, 0.05\n",
            "233, 0.79042, 0.7783, 0.7762, 0.05\n",
            "234, 0.7905, 0.7783, 0.7763, 0.05\n",
            "235, 0.79056, 0.7783, 0.7763, 0.05\n",
            "236, 0.79066, 0.7783, 0.7763, 0.05\n",
            "237, 0.79072, 0.7786, 0.7764, 0.05\n",
            "238, 0.79078, 0.7785, 0.7765, 0.05\n",
            "239, 0.79104, 0.7786, 0.7765, 0.05\n",
            "240, 0.79112, 0.7788, 0.7765, 0.05\n",
            "241, 0.79124, 0.7789, 0.7767, 0.05\n",
            "242, 0.79136, 0.779, 0.7769, 0.05\n",
            "243, 0.7915, 0.7792, 0.777, 0.05\n",
            "244, 0.79158, 0.7793, 0.7769, 0.05\n",
            "245, 0.79144, 0.7794, 0.7771, 0.05\n",
            "246, 0.79156, 0.7795, 0.7772, 0.05\n",
            "247, 0.79164, 0.7794, 0.7772, 0.05\n",
            "248, 0.79174, 0.7795, 0.7772, 0.05\n",
            "249, 0.79192, 0.7796, 0.7777, 0.05\n",
            "250, 0.79206, 0.7796, 0.7777, 0.05\n",
            "251, 0.79224, 0.7797, 0.7777, 0.05\n",
            "252, 0.79232, 0.78, 0.7776, 0.05\n",
            "253, 0.79238, 0.78, 0.7777, 0.05\n",
            "254, 0.7925, 0.78, 0.7777, 0.05\n",
            "255, 0.79256, 0.78, 0.7776, 0.05\n",
            "256, 0.7926, 0.7801, 0.7776, 0.05\n",
            "257, 0.7927, 0.7802, 0.7779, 0.05\n",
            "258, 0.79268, 0.7802, 0.7779, 0.05\n",
            "259, 0.79286, 0.7803, 0.778, 0.05\n",
            "260, 0.79298, 0.7801, 0.7783, 0.05\n",
            "261, 0.793, 0.7801, 0.7784, 0.05\n",
            "262, 0.7931, 0.7803, 0.7787, 0.05\n",
            "263, 0.7932, 0.7803, 0.7787, 0.05\n",
            "264, 0.79338, 0.7804, 0.779, 0.05\n",
            "265, 0.7935, 0.7807, 0.7791, 0.05\n",
            "266, 0.79362, 0.7809, 0.7792, 0.05\n",
            "267, 0.7937, 0.7809, 0.7793, 0.05\n",
            "268, 0.79384, 0.781, 0.7792, 0.05\n",
            "269, 0.794, 0.7809, 0.7793, 0.05\n",
            "270, 0.79398, 0.7809, 0.7793, 0.05\n",
            "271, 0.79406, 0.7811, 0.7794, 0.05\n",
            "272, 0.79422, 0.7808, 0.7797, 0.05\n",
            "273, 0.79426, 0.7808, 0.7798, 0.05\n",
            "274, 0.79434, 0.7808, 0.78, 0.05\n",
            "275, 0.79446, 0.7808, 0.7801, 0.05\n",
            "276, 0.79448, 0.7807, 0.7801, 0.05\n",
            "277, 0.79458, 0.7808, 0.7801, 0.05\n",
            "278, 0.79464, 0.7809, 0.7803, 0.05\n",
            "279, 0.79474, 0.7812, 0.7804, 0.05\n",
            "280, 0.7948, 0.7813, 0.7804, 0.05\n",
            "281, 0.79478, 0.7813, 0.7805, 0.05\n",
            "282, 0.79484, 0.7814, 0.7805, 0.05\n",
            "283, 0.79494, 0.7814, 0.7807, 0.05\n",
            "284, 0.79508, 0.7814, 0.7808, 0.05\n",
            "285, 0.79516, 0.7815, 0.7808, 0.05\n",
            "286, 0.79518, 0.7816, 0.781, 0.05\n",
            "287, 0.7952, 0.7816, 0.781, 0.05\n",
            "288, 0.79534, 0.7815, 0.781, 0.05\n",
            "289, 0.79536, 0.7813, 0.7811, 0.05\n",
            "290, 0.79542, 0.7814, 0.7811, 0.05\n",
            "291, 0.7955, 0.7814, 0.7811, 0.05\n",
            "292, 0.79562, 0.7812, 0.7811, 0.05\n",
            "293, 0.7957, 0.7812, 0.7814, 0.05\n",
            "294, 0.79576, 0.7813, 0.7816, 0.05\n",
            "295, 0.79586, 0.7813, 0.7815, 0.05\n",
            "296, 0.79582, 0.7814, 0.7815, 0.05\n",
            "297, 0.7959, 0.7815, 0.7815, 0.05\n",
            "298, 0.79604, 0.7816, 0.7816, 0.05\n",
            "299, 0.7961, 0.7814, 0.7817, 0.05\n",
            "300, 0.79618, 0.7815, 0.7818, 0.05\n",
            "301, 0.79612, 0.7816, 0.782, 0.05\n",
            "302, 0.79622, 0.7817, 0.7821, 0.05\n",
            "303, 0.7962, 0.7817, 0.7822, 0.05\n",
            "304, 0.79632, 0.7819, 0.7823, 0.05\n",
            "305, 0.79644, 0.7819, 0.7826, 0.05\n",
            "306, 0.79656, 0.782, 0.7826, 0.05\n",
            "307, 0.79666, 0.7824, 0.7827, 0.05\n",
            "308, 0.79666, 0.7827, 0.7826, 0.05\n",
            "309, 0.79676, 0.7828, 0.7828, 0.05\n",
            "310, 0.79684, 0.7828, 0.7829, 0.05\n",
            "311, 0.79686, 0.783, 0.7829, 0.05\n",
            "312, 0.79692, 0.7832, 0.7829, 0.05\n",
            "313, 0.79704, 0.7832, 0.7831, 0.05\n",
            "314, 0.79718, 0.7832, 0.7832, 0.05\n",
            "315, 0.79722, 0.7832, 0.7831, 0.05\n",
            "316, 0.79732, 0.7832, 0.7835, 0.05\n",
            "317, 0.79746, 0.7832, 0.7836, 0.05\n",
            "318, 0.79752, 0.7833, 0.7835, 0.05\n",
            "319, 0.79758, 0.7834, 0.7835, 0.05\n",
            "320, 0.79758, 0.7833, 0.7834, 0.05\n",
            "321, 0.79772, 0.7833, 0.7835, 0.05\n",
            "322, 0.7978, 0.7832, 0.7836, 0.05\n",
            "323, 0.7979, 0.7832, 0.7838, 0.05\n",
            "324, 0.798, 0.7833, 0.7838, 0.05\n",
            "325, 0.79806, 0.7833, 0.7839, 0.05\n",
            "326, 0.79812, 0.7833, 0.7841, 0.05\n",
            "327, 0.79822, 0.7833, 0.7844, 0.05\n",
            "328, 0.79818, 0.7832, 0.7844, 0.05\n",
            "329, 0.7982, 0.7831, 0.7844, 0.05\n",
            "330, 0.7983, 0.7832, 0.7844, 0.05\n",
            "331, 0.79838, 0.7831, 0.7846, 0.05\n",
            "332, 0.79834, 0.7833, 0.7846, 0.05\n",
            "333, 0.79836, 0.7834, 0.7848, 0.05\n",
            "334, 0.79846, 0.7834, 0.7849, 0.05\n",
            "335, 0.7985, 0.7834, 0.785, 0.05\n",
            "336, 0.79858, 0.7834, 0.785, 0.05\n",
            "337, 0.7986, 0.7834, 0.785, 0.05\n",
            "338, 0.79868, 0.7834, 0.785, 0.05\n",
            "339, 0.79878, 0.7836, 0.7852, 0.05\n",
            "340, 0.79884, 0.7836, 0.7853, 0.05\n",
            "341, 0.79902, 0.7836, 0.7853, 0.05\n",
            "342, 0.7991, 0.7835, 0.7853, 0.05\n",
            "343, 0.79914, 0.7835, 0.7855, 0.05\n",
            "344, 0.79924, 0.7835, 0.7857, 0.05\n",
            "345, 0.79928, 0.7835, 0.7858, 0.05\n",
            "346, 0.79928, 0.7836, 0.7859, 0.05\n",
            "347, 0.7993, 0.7837, 0.786, 0.05\n",
            "348, 0.7993, 0.7838, 0.7861, 0.05\n",
            "349, 0.79936, 0.7838, 0.7861, 0.05\n",
            "350, 0.7994, 0.7841, 0.7862, 0.05\n",
            "351, 0.79948, 0.7843, 0.7864, 0.05\n",
            "352, 0.79952, 0.7845, 0.7866, 0.05\n",
            "353, 0.79966, 0.7844, 0.7866, 0.05\n",
            "354, 0.79976, 0.785, 0.7864, 0.05\n",
            "355, 0.79974, 0.7851, 0.7864, 0.05\n",
            "356, 0.79982, 0.7852, 0.7867, 0.05\n",
            "357, 0.79988, 0.7852, 0.7867, 0.05\n",
            "358, 0.79992, 0.7853, 0.787, 0.05\n",
            "359, 0.79998, 0.7853, 0.7873, 0.05\n",
            "360, 0.80014, 0.7853, 0.7873, 0.05\n",
            "361, 0.80024, 0.7854, 0.7871, 0.05\n",
            "362, 0.80038, 0.7856, 0.7873, 0.05\n",
            "363, 0.80036, 0.7855, 0.7874, 0.05\n",
            "364, 0.8004, 0.7857, 0.7875, 0.05\n",
            "365, 0.80046, 0.7857, 0.7876, 0.05\n",
            "366, 0.80048, 0.7857, 0.7875, 0.05\n",
            "367, 0.80052, 0.7857, 0.7873, 0.05\n",
            "368, 0.8005, 0.7856, 0.7873, 0.05\n",
            "369, 0.80054, 0.7856, 0.7872, 0.05\n",
            "370, 0.80066, 0.7856, 0.7871, 0.05\n",
            "371, 0.80072, 0.7854, 0.7873, 0.05\n",
            "372, 0.80082, 0.7855, 0.7874, 0.05\n",
            "373, 0.80082, 0.7857, 0.7872, 0.05\n",
            "374, 0.80086, 0.7857, 0.7871, 0.05\n",
            "375, 0.80086, 0.7858, 0.7872, 0.05\n",
            "376, 0.80092, 0.7859, 0.7872, 0.05\n",
            "377, 0.8011, 0.7859, 0.7872, 0.05\n",
            "378, 0.80116, 0.7861, 0.7873, 0.05\n",
            "379, 0.8012, 0.786, 0.7872, 0.05\n",
            "380, 0.80126, 0.7861, 0.7873, 0.05\n",
            "381, 0.80128, 0.7861, 0.7873, 0.05\n",
            "382, 0.8013, 0.7862, 0.7874, 0.05\n",
            "383, 0.80132, 0.7862, 0.7874, 0.05\n",
            "384, 0.80142, 0.7861, 0.7875, 0.05\n",
            "385, 0.80136, 0.7862, 0.7876, 0.05\n",
            "386, 0.80142, 0.7862, 0.7876, 0.05\n",
            "387, 0.80158, 0.7864, 0.7875, 0.05\n",
            "388, 0.80164, 0.7865, 0.7875, 0.05\n",
            "389, 0.80174, 0.7864, 0.7876, 0.05\n",
            "390, 0.80176, 0.7865, 0.7876, 0.05\n",
            "391, 0.80182, 0.7866, 0.7877, 0.05\n",
            "392, 0.80182, 0.7868, 0.7877, 0.05\n",
            "393, 0.80186, 0.7868, 0.7877, 0.05\n",
            "394, 0.80184, 0.7869, 0.7877, 0.05\n",
            "395, 0.80188, 0.7868, 0.7877, 0.05\n",
            "396, 0.80188, 0.7869, 0.7878, 0.05\n",
            "397, 0.80198, 0.787, 0.7878, 0.05\n",
            "398, 0.8021, 0.7872, 0.7879, 0.05\n",
            "399, 0.80216, 0.7873, 0.788, 0.05\n",
            "400, 0.80216, 0.7874, 0.7881, 0.05\n",
            "401, 0.80226, 0.7874, 0.788, 0.05\n",
            "402, 0.80226, 0.7874, 0.788, 0.05\n",
            "403, 0.80228, 0.7874, 0.788, 0.05\n",
            "404, 0.80232, 0.7873, 0.788, 0.05\n",
            "405, 0.80236, 0.7874, 0.788, 0.05\n",
            "406, 0.80236, 0.7875, 0.788, 0.05\n",
            "407, 0.80248, 0.7874, 0.7881, 0.05\n",
            "408, 0.80248, 0.7874, 0.788, 0.05\n",
            "409, 0.80248, 0.7875, 0.788, 0.05\n",
            "410, 0.80248, 0.7872, 0.7881, 0.05\n",
            "411, 0.80248, 0.7874, 0.7882, 0.05\n",
            "412, 0.80252, 0.7873, 0.7882, 0.05\n",
            "413, 0.8026, 0.7873, 0.7882, 0.05\n",
            "414, 0.80264, 0.7873, 0.7882, 0.05\n",
            "415, 0.80278, 0.7872, 0.7883, 0.05\n",
            "416, 0.8028, 0.7871, 0.7882, 0.05\n",
            "417, 0.80282, 0.7871, 0.7882, 0.05\n",
            "418, 0.80282, 0.7872, 0.7883, 0.05\n",
            "419, 0.80284, 0.7873, 0.7885, 0.05\n",
            "420, 0.80288, 0.7874, 0.7885, 0.05\n",
            "421, 0.80292, 0.7874, 0.7884, 0.05\n",
            "422, 0.80292, 0.7874, 0.7884, 0.05\n",
            "423, 0.80292, 0.7872, 0.7884, 0.05\n",
            "424, 0.80296, 0.7871, 0.7884, 0.05\n",
            "425, 0.80302, 0.7871, 0.7883, 0.05\n",
            "426, 0.80308, 0.7872, 0.7888, 0.05\n",
            "427, 0.80308, 0.7872, 0.7888, 0.05\n",
            "428, 0.8031, 0.7872, 0.7887, 0.05\n",
            "429, 0.80308, 0.7874, 0.7888, 0.05\n",
            "430, 0.80312, 0.7875, 0.7887, 0.05\n",
            "431, 0.80314, 0.7876, 0.7888, 0.05\n",
            "432, 0.80314, 0.7877, 0.789, 0.05\n",
            "433, 0.80318, 0.7877, 0.789, 0.05\n",
            "434, 0.80324, 0.7878, 0.789, 0.05\n",
            "435, 0.80326, 0.7877, 0.789, 0.05\n",
            "436, 0.80336, 0.7879, 0.7891, 0.05\n",
            "437, 0.80336, 0.7881, 0.7891, 0.05\n",
            "438, 0.8035, 0.7881, 0.7891, 0.05\n",
            "439, 0.80348, 0.7882, 0.7891, 0.05\n",
            "440, 0.80348, 0.7881, 0.7891, 0.05\n",
            "441, 0.80356, 0.788, 0.7892, 0.05\n",
            "442, 0.80362, 0.788, 0.7892, 0.05\n",
            "443, 0.80366, 0.7879, 0.7894, 0.05\n",
            "444, 0.80368, 0.7879, 0.7894, 0.05\n",
            "445, 0.80368, 0.7879, 0.7893, 0.05\n",
            "446, 0.80366, 0.7878, 0.7895, 0.05\n",
            "447, 0.80374, 0.7878, 0.7895, 0.05\n",
            "448, 0.80374, 0.7877, 0.7895, 0.05\n",
            "449, 0.80372, 0.7878, 0.7896, 0.05\n",
            "450, 0.80374, 0.7878, 0.7897, 0.05\n",
            "451, 0.80374, 0.7878, 0.7898, 0.05\n",
            "452, 0.80378, 0.7878, 0.7896, 0.05\n",
            "453, 0.80378, 0.7879, 0.7896, 0.05\n",
            "454, 0.80382, 0.7879, 0.7897, 0.05\n",
            "455, 0.80384, 0.788, 0.7897, 0.05\n",
            "456, 0.80384, 0.788, 0.7896, 0.05\n",
            "457, 0.80382, 0.7881, 0.7897, 0.05\n",
            "458, 0.80384, 0.7882, 0.7898, 0.05\n",
            "459, 0.80384, 0.7882, 0.7899, 0.05\n",
            "460, 0.80392, 0.7882, 0.7902, 0.05\n",
            "461, 0.80402, 0.7883, 0.7902, 0.05\n",
            "462, 0.80412, 0.7883, 0.7902, 0.05\n",
            "463, 0.80412, 0.7884, 0.7904, 0.05\n",
            "464, 0.80416, 0.7884, 0.7904, 0.05\n",
            "465, 0.80418, 0.7885, 0.7904, 0.05\n",
            "466, 0.8042, 0.7885, 0.7904, 0.05\n",
            "467, 0.8042, 0.7885, 0.7904, 0.05\n",
            "468, 0.80424, 0.7886, 0.7903, 0.05\n",
            "469, 0.80426, 0.7887, 0.7903, 0.05\n",
            "470, 0.80426, 0.7887, 0.7903, 0.05\n",
            "471, 0.80428, 0.7887, 0.7903, 0.05\n",
            "472, 0.8043, 0.7887, 0.7903, 0.05\n",
            "473, 0.80442, 0.7888, 0.7903, 0.05\n",
            "474, 0.80446, 0.7888, 0.7903, 0.05\n",
            "475, 0.8045, 0.7888, 0.7902, 0.05\n",
            "476, 0.8045, 0.7888, 0.7901, 0.05\n",
            "477, 0.80454, 0.7888, 0.7901, 0.05\n",
            "478, 0.80458, 0.7889, 0.7901, 0.05\n",
            "479, 0.80464, 0.7888, 0.7902, 0.05\n",
            "480, 0.80464, 0.7888, 0.7902, 0.05\n",
            "481, 0.80468, 0.7888, 0.7903, 0.05\n",
            "482, 0.80474, 0.7888, 0.7903, 0.05\n",
            "483, 0.80474, 0.7887, 0.7903, 0.05\n",
            "484, 0.80482, 0.7889, 0.7903, 0.05\n",
            "485, 0.80484, 0.789, 0.7904, 0.05\n",
            "486, 0.80492, 0.789, 0.7904, 0.05\n",
            "487, 0.80486, 0.7889, 0.7905, 0.05\n",
            "488, 0.80488, 0.7889, 0.7906, 0.05\n",
            "489, 0.8049, 0.7888, 0.7906, 0.05\n",
            "490, 0.8049, 0.7888, 0.7906, 0.05\n",
            "491, 0.80492, 0.7888, 0.7907, 0.05\n",
            "492, 0.805, 0.7889, 0.7906, 0.05\n",
            "493, 0.8051, 0.789, 0.7905, 0.05\n",
            "494, 0.8051, 0.7891, 0.7905, 0.05\n",
            "495, 0.80512, 0.7892, 0.7906, 0.05\n",
            "496, 0.80518, 0.7893, 0.7908, 0.05\n",
            "497, 0.80524, 0.7893, 0.7908, 0.05\n",
            "498, 0.80528, 0.7894, 0.791, 0.05\n",
            "499, 0.80532, 0.7894, 0.791, 0.05\n",
            "500, 0.80528, 0.7893, 0.7912, 0.05\n"
          ]
        }
      ]
    },
    {
      "cell_type": "code",
      "source": [
        "x = train[:]\n",
        "y = train_target[:]\n",
        "model = MLP_0(M=128)\n",
        "yh = model.fit(x, y, optimizer)"
      ],
      "metadata": {
        "id": "f5X2NB5T4yxG"
      },
      "execution_count": null,
      "outputs": []
    },
    {
      "cell_type": "code",
      "execution_count": null,
      "metadata": {
        "id": "47w5dx3z6tEc"
      },
      "outputs": [],
      "source": [
        "yg = yh.predict(asdf2[:])"
      ]
    },
    {
      "cell_type": "code",
      "source": [
        "yg[:5]"
      ],
      "metadata": {
        "colab": {
          "base_uri": "https://localhost:8080/"
        },
        "id": "y_a9jvc8AedL",
        "outputId": "59693c5b-2d6f-48c9-998a-7320853f9667"
      },
      "execution_count": null,
      "outputs": [
        {
          "output_type": "execute_result",
          "data": {
            "text/plain": [
              "array([[nan, nan, nan, nan, nan, nan, nan, nan, nan, nan],\n",
              "       [nan, nan, nan, nan, nan, nan, nan, nan, nan, nan],\n",
              "       [nan, nan, nan, nan, nan, nan, nan, nan, nan, nan],\n",
              "       [nan, nan, nan, nan, nan, nan, nan, nan, nan, nan],\n",
              "       [nan, nan, nan, nan, nan, nan, nan, nan, nan, nan]])"
            ]
          },
          "metadata": {},
          "execution_count": 164
        }
      ]
    },
    {
      "cell_type": "code",
      "source": [
        "yg.shape"
      ],
      "metadata": {
        "colab": {
          "base_uri": "https://localhost:8080/"
        },
        "id": "IC2zzC726EtL",
        "outputId": "828d6546-6a66-4a09-b9c1-cbbe770e1b77"
      },
      "execution_count": null,
      "outputs": [
        {
          "output_type": "execute_result",
          "data": {
            "text/plain": [
              "(10000, 10)"
            ]
          },
          "metadata": {},
          "execution_count": 21
        }
      ]
    },
    {
      "cell_type": "markdown",
      "metadata": {
        "id": "E_d1YAHaMZoW"
      },
      "source": [
        "ACCURACY:"
      ]
    },
    {
      "cell_type": "code",
      "source": [
        "yg = yh.predict(asdf2[:])\n",
        "np.mean(test_target==np.argmax(yg,axis=1))"
      ],
      "metadata": {
        "colab": {
          "base_uri": "https://localhost:8080/"
        },
        "id": "MDsrnpTB5PT0",
        "outputId": "da4bde24-f1d0-4d44-c888-2a6de4c7d6ce"
      },
      "execution_count": null,
      "outputs": [
        {
          "output_type": "execute_result",
          "data": {
            "text/plain": [
              "0.7912"
            ]
          },
          "metadata": {},
          "execution_count": 175
        }
      ]
    },
    {
      "cell_type": "code",
      "source": [
        "from keras.datasets import fashion_mnist\n",
        "(train_X,train_Y), (test_X,test_Y) = fashion_mnist.load_data()"
      ],
      "metadata": {
        "colab": {
          "base_uri": "https://localhost:8080/"
        },
        "id": "k1rSbwrrUBVK",
        "outputId": "fb75a4f8-4125-48fd-b2f2-78298f6c952e"
      },
      "execution_count": null,
      "outputs": [
        {
          "output_type": "stream",
          "name": "stdout",
          "text": [
            "Downloading data from https://storage.googleapis.com/tensorflow/tf-keras-datasets/train-labels-idx1-ubyte.gz\n",
            "32768/29515 [=================================] - 0s 0us/step\n",
            "40960/29515 [=========================================] - 0s 0us/step\n",
            "Downloading data from https://storage.googleapis.com/tensorflow/tf-keras-datasets/train-images-idx3-ubyte.gz\n",
            "26427392/26421880 [==============================] - 0s 0us/step\n",
            "26435584/26421880 [==============================] - 0s 0us/step\n",
            "Downloading data from https://storage.googleapis.com/tensorflow/tf-keras-datasets/t10k-labels-idx1-ubyte.gz\n",
            "16384/5148 [===============================================================================================] - 0s 0us/step\n",
            "Downloading data from https://storage.googleapis.com/tensorflow/tf-keras-datasets/t10k-images-idx3-ubyte.gz\n",
            "4423680/4422102 [==============================] - 0s 0us/step\n",
            "4431872/4422102 [==============================] - 0s 0us/step\n"
          ]
        }
      ]
    },
    {
      "cell_type": "code",
      "source": [
        "train_Y"
      ],
      "metadata": {
        "colab": {
          "base_uri": "https://localhost:8080/"
        },
        "id": "JS7s9RNlZfdM",
        "outputId": "7ccf841e-5996-4a5c-f8c3-32570f4490f5"
      },
      "execution_count": null,
      "outputs": [
        {
          "output_type": "execute_result",
          "data": {
            "text/plain": [
              "array([9, 0, 0, ..., 3, 0, 5], dtype=uint8)"
            ]
          },
          "metadata": {},
          "execution_count": 92
        }
      ]
    },
    {
      "cell_type": "code",
      "source": [
        "train_X = np.reshape(train_X, (60000,784))\n",
        "validate_X = train_X[:10000]\n",
        "validate_Y = train_Y[:10000]\n",
        "train_Y = train_Y[:50000]\n",
        "test_X = np.reshape(test_X, (10000,784))"
      ],
      "metadata": {
        "id": "Bzudc-tuXhRS"
      },
      "execution_count": null,
      "outputs": []
    },
    {
      "cell_type": "code",
      "source": [
        "train_Y_fixed = np.zeros((50000,10))\n",
        "for i in range(len(train_Y)):\n",
        "  train_Y_fixed[i][train_Y[i]] = 1"
      ],
      "metadata": {
        "id": "-tJB3vGXa1Qq"
      },
      "execution_count": null,
      "outputs": []
    },
    {
      "cell_type": "code",
      "source": [
        "train_Y_fixed.shape"
      ],
      "metadata": {
        "colab": {
          "base_uri": "https://localhost:8080/"
        },
        "id": "JBO16RGdbYoP",
        "outputId": "ecffc1bb-bf75-4983-ef9f-b3cb4655b186"
      },
      "execution_count": null,
      "outputs": [
        {
          "output_type": "execute_result",
          "data": {
            "text/plain": [
              "(50000, 10)"
            ]
          },
          "metadata": {},
          "execution_count": 102
        }
      ]
    },
    {
      "cell_type": "code",
      "source": [
        "train_X = train_X[:50000]"
      ],
      "metadata": {
        "id": "aT1GQfGWbr7I"
      },
      "execution_count": null,
      "outputs": []
    },
    {
      "cell_type": "code",
      "source": [
        "x = train_X[:]\n",
        "y = train_Y_fixed[:]\n",
        "model = MLP(M=128)\n",
        "optimizer = GradientDescent(learning_rate=1.2, max_iters=250)\n",
        "yh = model.fit(x, y, optimizer)"
      ],
      "metadata": {
        "colab": {
          "base_uri": "https://localhost:8080/",
          "height": 466
        },
        "id": "vF4iQxlgUHBS",
        "outputId": "f3293538-355e-4152-a3d0-4836518f2403"
      },
      "execution_count": null,
      "outputs": [
        {
          "output_type": "stream",
          "name": "stdout",
          "text": [
            "5, 13.12254919649972, 0.10036, 0.0969, 0.0996, 1.2\n",
            "10, 13.12244736963049, 0.10036, 0.0969, 0.0996, 1.2\n",
            "15, 13.122415733344708, 0.10036, 0.0969, 0.0996, 1.2\n",
            "20, 13.122404699509032, 0.10036, 0.0969, 0.0996, 1.2\n",
            "25, 13.122398193943642, 0.10036, 0.0969, 0.0996, 1.2\n"
          ]
        },
        {
          "output_type": "error",
          "ename": "KeyboardInterrupt",
          "evalue": "ignored",
          "traceback": [
            "\u001b[0;31m---------------------------------------------------------------------------\u001b[0m",
            "\u001b[0;31mKeyboardInterrupt\u001b[0m                         Traceback (most recent call last)",
            "\u001b[0;32m<ipython-input-305-20fdb2e28017>\u001b[0m in \u001b[0;36m<module>\u001b[0;34m()\u001b[0m\n\u001b[1;32m      3\u001b[0m \u001b[0mmodel\u001b[0m \u001b[0;34m=\u001b[0m \u001b[0mMLP\u001b[0m\u001b[0;34m(\u001b[0m\u001b[0mM\u001b[0m\u001b[0;34m=\u001b[0m\u001b[0;36m128\u001b[0m\u001b[0;34m)\u001b[0m\u001b[0;34m\u001b[0m\u001b[0;34m\u001b[0m\u001b[0m\n\u001b[1;32m      4\u001b[0m \u001b[0moptimizer\u001b[0m \u001b[0;34m=\u001b[0m \u001b[0mGradientDescent\u001b[0m\u001b[0;34m(\u001b[0m\u001b[0mlearning_rate\u001b[0m\u001b[0;34m=\u001b[0m\u001b[0;36m1.2\u001b[0m\u001b[0;34m,\u001b[0m \u001b[0mmax_iters\u001b[0m\u001b[0;34m=\u001b[0m\u001b[0;36m250\u001b[0m\u001b[0;34m)\u001b[0m\u001b[0;34m\u001b[0m\u001b[0;34m\u001b[0m\u001b[0m\n\u001b[0;32m----> 5\u001b[0;31m \u001b[0myh\u001b[0m \u001b[0;34m=\u001b[0m \u001b[0mmodel\u001b[0m\u001b[0;34m.\u001b[0m\u001b[0mfit\u001b[0m\u001b[0;34m(\u001b[0m\u001b[0mx\u001b[0m\u001b[0;34m,\u001b[0m \u001b[0my\u001b[0m\u001b[0;34m,\u001b[0m \u001b[0moptimizer\u001b[0m\u001b[0;34m)\u001b[0m\u001b[0;34m\u001b[0m\u001b[0;34m\u001b[0m\u001b[0m\n\u001b[0m",
            "\u001b[0;32m<ipython-input-239-35757f9167bc>\u001b[0m in \u001b[0;36mfit\u001b[0;34m(self, x, y, optimizer)\u001b[0m\n\u001b[1;32m    110\u001b[0m         \u001b[0;31m# print(v)\u001b[0m\u001b[0;34m\u001b[0m\u001b[0;34m\u001b[0m\u001b[0;34m\u001b[0m\u001b[0m\n\u001b[1;32m    111\u001b[0m         \u001b[0mparams0\u001b[0m \u001b[0;34m=\u001b[0m \u001b[0;34m[\u001b[0m\u001b[0mv\u001b[0m\u001b[0;34m,\u001b[0m\u001b[0mw\u001b[0m\u001b[0;34m]\u001b[0m\u001b[0;34m\u001b[0m\u001b[0;34m\u001b[0m\u001b[0m\n\u001b[0;32m--> 112\u001b[0;31m         \u001b[0mself\u001b[0m\u001b[0;34m.\u001b[0m\u001b[0mparams\u001b[0m \u001b[0;34m=\u001b[0m \u001b[0moptimizer\u001b[0m\u001b[0;34m.\u001b[0m\u001b[0mrun\u001b[0m\u001b[0;34m(\u001b[0m\u001b[0mgradient\u001b[0m\u001b[0;34m,\u001b[0m \u001b[0mx\u001b[0m\u001b[0;34m,\u001b[0m \u001b[0my\u001b[0m\u001b[0;34m,\u001b[0m \u001b[0mparams0\u001b[0m\u001b[0;34m,\u001b[0m \u001b[0mpredict2\u001b[0m\u001b[0;34m)\u001b[0m \u001b[0;31m# Optimizer returns the weights, the parameters\u001b[0m\u001b[0;34m\u001b[0m\u001b[0;34m\u001b[0m\u001b[0m\n\u001b[0m\u001b[1;32m    113\u001b[0m         \u001b[0;32mreturn\u001b[0m \u001b[0mself\u001b[0m\u001b[0;34m\u001b[0m\u001b[0;34m\u001b[0m\u001b[0m\n\u001b[1;32m    114\u001b[0m \u001b[0;34m\u001b[0m\u001b[0m\n",
            "\u001b[0;32m<ipython-input-304-5ac1d4da4375>\u001b[0m in \u001b[0;36mrun\u001b[0;34m(self, gradient_fn, x, y, params, predict_fn)\u001b[0m\n\u001b[1;32m     34\u001b[0m             \u001b[0;31m#   params[0] -= self.learning_rate * grad[0]\u001b[0m\u001b[0;34m\u001b[0m\u001b[0;34m\u001b[0m\u001b[0;34m\u001b[0m\u001b[0m\n\u001b[1;32m     35\u001b[0m             \u001b[0;31m#   params[1] -= self.learning_rate * grad[1]\u001b[0m\u001b[0;34m\u001b[0m\u001b[0;34m\u001b[0m\u001b[0;34m\u001b[0m\u001b[0m\n\u001b[0;32m---> 36\u001b[0;31m             \u001b[0mgrad\u001b[0m \u001b[0;34m=\u001b[0m \u001b[0mgradient_fn\u001b[0m\u001b[0;34m(\u001b[0m\u001b[0mx\u001b[0m\u001b[0;34m,\u001b[0m \u001b[0my\u001b[0m\u001b[0;34m,\u001b[0m \u001b[0mparams\u001b[0m\u001b[0;34m)\u001b[0m\u001b[0;34m\u001b[0m\u001b[0;34m\u001b[0m\u001b[0m\n\u001b[0m\u001b[1;32m     37\u001b[0m             \u001b[0;32mif\u001b[0m \u001b[0mt\u001b[0m \u001b[0;34m%\u001b[0m \u001b[0;36m5\u001b[0m \u001b[0;34m==\u001b[0m \u001b[0;36m0\u001b[0m\u001b[0;34m:\u001b[0m\u001b[0;34m\u001b[0m\u001b[0;34m\u001b[0m\u001b[0m\n\u001b[1;32m     38\u001b[0m               \u001b[0;31m# print(x.shape[0])\u001b[0m\u001b[0;34m\u001b[0m\u001b[0;34m\u001b[0m\u001b[0;34m\u001b[0m\u001b[0m\n",
            "\u001b[0;32m<ipython-input-239-35757f9167bc>\u001b[0m in \u001b[0;36mgradient\u001b[0;34m(x, y, params)\u001b[0m\n\u001b[1;32m     94\u001b[0m             \u001b[0;31m# print(f'dz: {dz}')\u001b[0m\u001b[0;34m\u001b[0m\u001b[0;34m\u001b[0m\u001b[0;34m\u001b[0m\u001b[0m\n\u001b[1;32m     95\u001b[0m             \u001b[0;31m# x is 60,000 x 728 | x.T is 728 x 60,000\u001b[0m\u001b[0;34m\u001b[0m\u001b[0;34m\u001b[0m\u001b[0;34m\u001b[0m\u001b[0m\n\u001b[0;32m---> 96\u001b[0;31m             \u001b[0mdv\u001b[0m \u001b[0;34m=\u001b[0m \u001b[0mnp\u001b[0m\u001b[0;34m.\u001b[0m\u001b[0mdot\u001b[0m\u001b[0;34m(\u001b[0m\u001b[0mx\u001b[0m\u001b[0;34m.\u001b[0m\u001b[0mT\u001b[0m\u001b[0;34m,\u001b[0m \u001b[0mdz\u001b[0m \u001b[0;34m*\u001b[0m \u001b[0mz\u001b[0m \u001b[0;34m*\u001b[0m \u001b[0;34m(\u001b[0m\u001b[0;36m1\u001b[0m \u001b[0;34m-\u001b[0m \u001b[0mz\u001b[0m\u001b[0;34m)\u001b[0m\u001b[0;34m)\u001b[0m\u001b[0;34m/\u001b[0m\u001b[0mN\u001b[0m \u001b[0;31m#D x M\u001b[0m\u001b[0;34m\u001b[0m\u001b[0;34m\u001b[0m\u001b[0m\n\u001b[0m\u001b[1;32m     97\u001b[0m             \u001b[0;31m# print(f'dv: {dv}')\u001b[0m\u001b[0;34m\u001b[0m\u001b[0;34m\u001b[0m\u001b[0;34m\u001b[0m\u001b[0m\n\u001b[1;32m     98\u001b[0m             \u001b[0mdparams\u001b[0m \u001b[0;34m=\u001b[0m \u001b[0;34m[\u001b[0m\u001b[0mdv\u001b[0m\u001b[0;34m,\u001b[0m \u001b[0mdw\u001b[0m\u001b[0;34m,\u001b[0m \u001b[0mnll\u001b[0m\u001b[0;34m]\u001b[0m\u001b[0;34m\u001b[0m\u001b[0;34m\u001b[0m\u001b[0m\n",
            "\u001b[0;32m<__array_function__ internals>\u001b[0m in \u001b[0;36mdot\u001b[0;34m(*args, **kwargs)\u001b[0m\n",
            "\u001b[0;31mKeyboardInterrupt\u001b[0m: "
          ]
        }
      ]
    },
    {
      "cell_type": "code",
      "source": [
        "indexes =[]\n",
        "classes = [0,1,2,3,4,5,6,7,8,9]\n",
        "for clas in classes:\n",
        "  count = 0 \n",
        "  for i in range(len(train_Y)):\n",
        "    if clas == train_Y[i]:\n",
        "      indexes.append(i)\n",
        "      count += 1\n",
        "      if  count == 1:\n",
        "        break\n",
        "\n",
        "new_train_Y = [train_Y[i] for i in indexes] \n",
        "new_train_X = [train_X[i] for i in indexes]\n",
        "new_train_Y=np.array(new_train_Y)\n",
        "new_train_X=np.array(new_train_X)\n",
        "new_train_Y_fixed = np.zeros((10,10))\n",
        "for i in range(len(new_train_Y)):\n",
        "  new_train_Y_fixed[i][new_train_Y[i]] = 1"
      ],
      "metadata": {
        "id": "lun1R7THdEbC"
      },
      "execution_count": null,
      "outputs": []
    },
    {
      "cell_type": "code",
      "source": [
        "new_train_Y"
      ],
      "metadata": {
        "colab": {
          "base_uri": "https://localhost:8080/"
        },
        "id": "hCGD5JXLikts",
        "outputId": "9d783aac-073e-4681-f8c5-de9468d950c6"
      },
      "execution_count": null,
      "outputs": [
        {
          "output_type": "execute_result",
          "data": {
            "text/plain": [
              "array([0, 0, 0, 0, 0, 0, 0, 0, 0, 0, 1, 1, 1, 1, 1, 1, 1, 1, 1, 1, 2, 2,\n",
              "       2, 2, 2, 2, 2, 2, 2, 2, 3, 3, 3, 3, 3, 3, 3, 3, 3, 3, 4, 4, 4, 4,\n",
              "       4, 4, 4, 4, 4, 4, 5, 5, 5, 5, 5, 5, 5, 5, 5, 5, 6, 6, 6, 6, 6, 6,\n",
              "       6, 6, 6, 6, 7, 7, 7, 7, 7, 7, 7, 7, 7, 7, 8, 8, 8, 8, 8, 8, 8, 8,\n",
              "       8, 8, 9, 9, 9, 9, 9, 9, 9, 9, 9, 9], dtype=uint8)"
            ]
          },
          "metadata": {},
          "execution_count": 161
        }
      ]
    },
    {
      "cell_type": "code",
      "source": [
        "new_train_Y.shape\n",
        "# new_train_Y[:10]"
      ],
      "metadata": {
        "colab": {
          "base_uri": "https://localhost:8080/"
        },
        "id": "F-Nro-7CnPor",
        "outputId": "9a930265-c472-4307-9d7f-847f7b5ac7ab"
      },
      "execution_count": null,
      "outputs": [
        {
          "output_type": "execute_result",
          "data": {
            "text/plain": [
              "(10000,)"
            ]
          },
          "metadata": {},
          "execution_count": 182
        }
      ]
    },
    {
      "cell_type": "code",
      "source": [
        "x = new_train_X[:1]\n",
        "y = new_train_Y_fixed[:1]\n",
        "model = MLP(M=128)\n",
        "optimizer = GradientDescent(learning_rate=0.00005, max_iters=250)\n",
        "yh = model.fit(x, y, optimizer)"
      ],
      "metadata": {
        "colab": {
          "base_uri": "https://localhost:8080/"
        },
        "id": "mgUfx-Tai8yK",
        "outputId": "60ea8cfc-b520-4a46-d76b-fda697976451"
      },
      "execution_count": null,
      "outputs": [
        {
          "output_type": "stream",
          "name": "stdout",
          "text": [
            "5: 2.2505445491336173, 0.0, 0.1025, 0.0971, lr: 5e-05\n",
            "10: 2.2280455697006634, 0.0, 0.1023, 0.0967, lr: 5e-05\n",
            "15: 2.2131213531496563, 0.0, 0.1026, 0.0972, lr: 5e-05\n",
            "20: 2.1743226070647106, 1.0, 0.1038, 0.0999, lr: 5e-05\n",
            "25: 2.1616711556779458, 1.0, 0.1085, 0.103, lr: 5e-05\n",
            "30: 2.149703551417788, 1.0, 0.1113, 0.1087, lr: 5e-05\n",
            "35: 2.1378829869219995, 1.0, 0.1157, 0.1157, lr: 5e-05\n",
            "40: 2.1261441481732035, 1.0, 0.1189, 0.1208, lr: 5e-05\n",
            "45: 2.1144641227895296, 1.0, 0.123, 0.124, lr: 5e-05\n",
            "50: 2.102827923523081, 1.0, 0.1276, 0.1296, lr: 5e-05\n",
            "55: 2.091215126935192, 1.0, 0.13, 0.1327, lr: 5e-05\n",
            "60: 2.079576735554876, 1.0, 0.1321, 0.1341, lr: 5e-05\n",
            "65: 2.0677967077566715, 1.0, 0.1303, 0.1363, lr: 5e-05\n",
            "70: 2.0559327443261997, 1.0, 0.1286, 0.1355, lr: 5e-05\n",
            "75: 2.044219710926187, 1.0, 0.127, 0.1322, lr: 5e-05\n",
            "80: 2.0326005458800256, 1.0, 0.1246, 0.13, lr: 5e-05\n",
            "85: 2.021022748584861, 1.0, 0.122, 0.1263, lr: 5e-05\n",
            "90: 2.0094485226829724, 1.0, 0.1174, 0.1212, lr: 5e-05\n",
            "95: 1.9978052895264984, 1.0, 0.1133, 0.1152, lr: 5e-05\n",
            "100: 1.9860462633096483, 1.0, 0.1093, 0.1118, lr: 5e-05\n",
            "105: 1.9743575719580095, 1.0, 0.1047, 0.1094, lr: 5e-05\n",
            "110: 1.9627846022688387, 1.0, 0.1018, 0.1075, lr: 5e-05\n",
            "115: 1.951282894535568, 1.0, 0.0991, 0.1064, lr: 5e-05\n",
            "120: 1.939835038564084, 1.0, 0.0973, 0.1047, lr: 5e-05\n",
            "125: 1.9284353876524556, 1.0, 0.0956, 0.1029, lr: 5e-05\n",
            "130: 1.917081924480641, 1.0, 0.0946, 0.102, lr: 5e-05\n",
            "135: 1.9057738979310357, 1.0, 0.0946, 0.1011, lr: 5e-05\n",
            "140: 1.8945110632389328, 1.0, 0.0944, 0.1006, lr: 5e-05\n",
            "145: 1.8832934010385178, 1.0, 0.0944, 0.1003, lr: 5e-05\n",
            "150: 1.872121000456025, 1.0, 0.0945, 0.1002, lr: 5e-05\n",
            "155: 1.8609940056564422, 1.0, 0.0944, 0.1001, lr: 5e-05\n",
            "160: 1.8499125895035822, 1.0, 0.0943, 0.1001, lr: 5e-05\n",
            "165: 1.838876939778405, 1.0, 0.0943, 0.1001, lr: 5e-05\n",
            "170: 1.8278872516061007, 1.0, 0.0943, 0.1001, lr: 5e-05\n",
            "175: 1.8169437231190586, 1.0, 0.0943, 0.1001, lr: 5e-05\n",
            "180: 1.80604655287965, 1.0, 0.0942, 0.1001, lr: 5e-05\n",
            "185: 1.795195938293249, 1.0, 0.0942, 0.1001, lr: 5e-05\n",
            "190: 1.784392074593555, 1.0, 0.0942, 0.1001, lr: 5e-05\n",
            "195: 1.7736351541652338, 1.0, 0.0942, 0.1001, lr: 5e-05\n",
            "200: 1.7629253660676754, 1.0, 0.0942, 0.1001, lr: 5e-05\n",
            "205: 1.7522628956785882, 1.0, 0.0942, 0.1001, lr: 5e-05\n",
            "210: 1.7416479244073368, 1.0, 0.0942, 0.1, lr: 5e-05\n",
            "215: 1.7310806294458487, 1.0, 0.0942, 0.1, lr: 5e-05\n",
            "220: 1.7205611835350592, 1.0, 0.0942, 0.1, lr: 5e-05\n",
            "225: 1.7100897547303002, 1.0, 0.0942, 0.1, lr: 5e-05\n",
            "230: 1.6996665061513712, 1.0, 0.0942, 0.1, lr: 5e-05\n",
            "235: 1.6892915957030068, 1.0, 0.0942, 0.1, lr: 5e-05\n",
            "240: 1.678965175749435, 1.0, 0.0942, 0.1, lr: 5e-05\n",
            "245: 1.668687392722392, 1.0, 0.0942, 0.1, lr: 5e-05\n",
            "250: 1.6584583866348401, 1.0, 0.0942, 0.1, lr: 5e-05\n"
          ]
        }
      ]
    }
  ],
  "metadata": {
    "colab": {
      "collapsed_sections": [],
      "name": "551A3.ipynb",
      "provenance": []
    },
    "kernelspec": {
      "display_name": "Python 3",
      "name": "python3"
    },
    "language_info": {
      "name": "python"
    },
    "widgets": {
      "application/vnd.jupyter.widget-state+json": {
        "66c2727ea25640b78f29d41d6053bee1": {
          "model_module": "@jupyter-widgets/controls",
          "model_name": "HBoxModel",
          "model_module_version": "1.5.0",
          "state": {
            "_dom_classes": [],
            "_model_module": "@jupyter-widgets/controls",
            "_model_module_version": "1.5.0",
            "_model_name": "HBoxModel",
            "_view_count": null,
            "_view_module": "@jupyter-widgets/controls",
            "_view_module_version": "1.5.0",
            "_view_name": "HBoxView",
            "box_style": "",
            "children": [
              "IPY_MODEL_651330ec82ae4f7dae25de397daa051e",
              "IPY_MODEL_c7e605ed057d46219134b40ba2209f12",
              "IPY_MODEL_06d2214a69014984a04f670e30f0fdce"
            ],
            "layout": "IPY_MODEL_68377d7e86dd4af3a97bdbe840e830b2"
          }
        },
        "651330ec82ae4f7dae25de397daa051e": {
          "model_module": "@jupyter-widgets/controls",
          "model_name": "HTMLModel",
          "model_module_version": "1.5.0",
          "state": {
            "_dom_classes": [],
            "_model_module": "@jupyter-widgets/controls",
            "_model_module_version": "1.5.0",
            "_model_name": "HTMLModel",
            "_view_count": null,
            "_view_module": "@jupyter-widgets/controls",
            "_view_module_version": "1.5.0",
            "_view_name": "HTMLView",
            "description": "",
            "description_tooltip": null,
            "layout": "IPY_MODEL_1dcd2a440b8e4bdab2c9505fd2cb6945",
            "placeholder": "​",
            "style": "IPY_MODEL_e77cc56e4a6f423e913e9a591c6c9782",
            "value": ""
          }
        },
        "c7e605ed057d46219134b40ba2209f12": {
          "model_module": "@jupyter-widgets/controls",
          "model_name": "FloatProgressModel",
          "model_module_version": "1.5.0",
          "state": {
            "_dom_classes": [],
            "_model_module": "@jupyter-widgets/controls",
            "_model_module_version": "1.5.0",
            "_model_name": "FloatProgressModel",
            "_view_count": null,
            "_view_module": "@jupyter-widgets/controls",
            "_view_module_version": "1.5.0",
            "_view_name": "ProgressView",
            "bar_style": "success",
            "description": "",
            "description_tooltip": null,
            "layout": "IPY_MODEL_26dab811dbe0456f93350e7cafddfbe1",
            "max": 26421880,
            "min": 0,
            "orientation": "horizontal",
            "style": "IPY_MODEL_521bc1f053034f8a915cbf95f1661e03",
            "value": 26421880
          }
        },
        "06d2214a69014984a04f670e30f0fdce": {
          "model_module": "@jupyter-widgets/controls",
          "model_name": "HTMLModel",
          "model_module_version": "1.5.0",
          "state": {
            "_dom_classes": [],
            "_model_module": "@jupyter-widgets/controls",
            "_model_module_version": "1.5.0",
            "_model_name": "HTMLModel",
            "_view_count": null,
            "_view_module": "@jupyter-widgets/controls",
            "_view_module_version": "1.5.0",
            "_view_name": "HTMLView",
            "description": "",
            "description_tooltip": null,
            "layout": "IPY_MODEL_cf57850df3cc4f968b04600d0ed7482a",
            "placeholder": "​",
            "style": "IPY_MODEL_dafeaaadc5c2477eb61d249d8692146f",
            "value": " 26422272/? [00:01&lt;00:00, 23836400.76it/s]"
          }
        },
        "68377d7e86dd4af3a97bdbe840e830b2": {
          "model_module": "@jupyter-widgets/base",
          "model_name": "LayoutModel",
          "model_module_version": "1.2.0",
          "state": {
            "_model_module": "@jupyter-widgets/base",
            "_model_module_version": "1.2.0",
            "_model_name": "LayoutModel",
            "_view_count": null,
            "_view_module": "@jupyter-widgets/base",
            "_view_module_version": "1.2.0",
            "_view_name": "LayoutView",
            "align_content": null,
            "align_items": null,
            "align_self": null,
            "border": null,
            "bottom": null,
            "display": null,
            "flex": null,
            "flex_flow": null,
            "grid_area": null,
            "grid_auto_columns": null,
            "grid_auto_flow": null,
            "grid_auto_rows": null,
            "grid_column": null,
            "grid_gap": null,
            "grid_row": null,
            "grid_template_areas": null,
            "grid_template_columns": null,
            "grid_template_rows": null,
            "height": null,
            "justify_content": null,
            "justify_items": null,
            "left": null,
            "margin": null,
            "max_height": null,
            "max_width": null,
            "min_height": null,
            "min_width": null,
            "object_fit": null,
            "object_position": null,
            "order": null,
            "overflow": null,
            "overflow_x": null,
            "overflow_y": null,
            "padding": null,
            "right": null,
            "top": null,
            "visibility": null,
            "width": null
          }
        },
        "1dcd2a440b8e4bdab2c9505fd2cb6945": {
          "model_module": "@jupyter-widgets/base",
          "model_name": "LayoutModel",
          "model_module_version": "1.2.0",
          "state": {
            "_model_module": "@jupyter-widgets/base",
            "_model_module_version": "1.2.0",
            "_model_name": "LayoutModel",
            "_view_count": null,
            "_view_module": "@jupyter-widgets/base",
            "_view_module_version": "1.2.0",
            "_view_name": "LayoutView",
            "align_content": null,
            "align_items": null,
            "align_self": null,
            "border": null,
            "bottom": null,
            "display": null,
            "flex": null,
            "flex_flow": null,
            "grid_area": null,
            "grid_auto_columns": null,
            "grid_auto_flow": null,
            "grid_auto_rows": null,
            "grid_column": null,
            "grid_gap": null,
            "grid_row": null,
            "grid_template_areas": null,
            "grid_template_columns": null,
            "grid_template_rows": null,
            "height": null,
            "justify_content": null,
            "justify_items": null,
            "left": null,
            "margin": null,
            "max_height": null,
            "max_width": null,
            "min_height": null,
            "min_width": null,
            "object_fit": null,
            "object_position": null,
            "order": null,
            "overflow": null,
            "overflow_x": null,
            "overflow_y": null,
            "padding": null,
            "right": null,
            "top": null,
            "visibility": null,
            "width": null
          }
        },
        "e77cc56e4a6f423e913e9a591c6c9782": {
          "model_module": "@jupyter-widgets/controls",
          "model_name": "DescriptionStyleModel",
          "model_module_version": "1.5.0",
          "state": {
            "_model_module": "@jupyter-widgets/controls",
            "_model_module_version": "1.5.0",
            "_model_name": "DescriptionStyleModel",
            "_view_count": null,
            "_view_module": "@jupyter-widgets/base",
            "_view_module_version": "1.2.0",
            "_view_name": "StyleView",
            "description_width": ""
          }
        },
        "26dab811dbe0456f93350e7cafddfbe1": {
          "model_module": "@jupyter-widgets/base",
          "model_name": "LayoutModel",
          "model_module_version": "1.2.0",
          "state": {
            "_model_module": "@jupyter-widgets/base",
            "_model_module_version": "1.2.0",
            "_model_name": "LayoutModel",
            "_view_count": null,
            "_view_module": "@jupyter-widgets/base",
            "_view_module_version": "1.2.0",
            "_view_name": "LayoutView",
            "align_content": null,
            "align_items": null,
            "align_self": null,
            "border": null,
            "bottom": null,
            "display": null,
            "flex": null,
            "flex_flow": null,
            "grid_area": null,
            "grid_auto_columns": null,
            "grid_auto_flow": null,
            "grid_auto_rows": null,
            "grid_column": null,
            "grid_gap": null,
            "grid_row": null,
            "grid_template_areas": null,
            "grid_template_columns": null,
            "grid_template_rows": null,
            "height": null,
            "justify_content": null,
            "justify_items": null,
            "left": null,
            "margin": null,
            "max_height": null,
            "max_width": null,
            "min_height": null,
            "min_width": null,
            "object_fit": null,
            "object_position": null,
            "order": null,
            "overflow": null,
            "overflow_x": null,
            "overflow_y": null,
            "padding": null,
            "right": null,
            "top": null,
            "visibility": null,
            "width": null
          }
        },
        "521bc1f053034f8a915cbf95f1661e03": {
          "model_module": "@jupyter-widgets/controls",
          "model_name": "ProgressStyleModel",
          "model_module_version": "1.5.0",
          "state": {
            "_model_module": "@jupyter-widgets/controls",
            "_model_module_version": "1.5.0",
            "_model_name": "ProgressStyleModel",
            "_view_count": null,
            "_view_module": "@jupyter-widgets/base",
            "_view_module_version": "1.2.0",
            "_view_name": "StyleView",
            "bar_color": null,
            "description_width": ""
          }
        },
        "cf57850df3cc4f968b04600d0ed7482a": {
          "model_module": "@jupyter-widgets/base",
          "model_name": "LayoutModel",
          "model_module_version": "1.2.0",
          "state": {
            "_model_module": "@jupyter-widgets/base",
            "_model_module_version": "1.2.0",
            "_model_name": "LayoutModel",
            "_view_count": null,
            "_view_module": "@jupyter-widgets/base",
            "_view_module_version": "1.2.0",
            "_view_name": "LayoutView",
            "align_content": null,
            "align_items": null,
            "align_self": null,
            "border": null,
            "bottom": null,
            "display": null,
            "flex": null,
            "flex_flow": null,
            "grid_area": null,
            "grid_auto_columns": null,
            "grid_auto_flow": null,
            "grid_auto_rows": null,
            "grid_column": null,
            "grid_gap": null,
            "grid_row": null,
            "grid_template_areas": null,
            "grid_template_columns": null,
            "grid_template_rows": null,
            "height": null,
            "justify_content": null,
            "justify_items": null,
            "left": null,
            "margin": null,
            "max_height": null,
            "max_width": null,
            "min_height": null,
            "min_width": null,
            "object_fit": null,
            "object_position": null,
            "order": null,
            "overflow": null,
            "overflow_x": null,
            "overflow_y": null,
            "padding": null,
            "right": null,
            "top": null,
            "visibility": null,
            "width": null
          }
        },
        "dafeaaadc5c2477eb61d249d8692146f": {
          "model_module": "@jupyter-widgets/controls",
          "model_name": "DescriptionStyleModel",
          "model_module_version": "1.5.0",
          "state": {
            "_model_module": "@jupyter-widgets/controls",
            "_model_module_version": "1.5.0",
            "_model_name": "DescriptionStyleModel",
            "_view_count": null,
            "_view_module": "@jupyter-widgets/base",
            "_view_module_version": "1.2.0",
            "_view_name": "StyleView",
            "description_width": ""
          }
        },
        "f68ebdd3d9f04c2595255af0f3ff017e": {
          "model_module": "@jupyter-widgets/controls",
          "model_name": "HBoxModel",
          "model_module_version": "1.5.0",
          "state": {
            "_dom_classes": [],
            "_model_module": "@jupyter-widgets/controls",
            "_model_module_version": "1.5.0",
            "_model_name": "HBoxModel",
            "_view_count": null,
            "_view_module": "@jupyter-widgets/controls",
            "_view_module_version": "1.5.0",
            "_view_name": "HBoxView",
            "box_style": "",
            "children": [
              "IPY_MODEL_415578420ba041ff93d350506f659a61",
              "IPY_MODEL_3ccb786bb1dc40499f963aa67e3f3bb7",
              "IPY_MODEL_167f3587622346ecb0eff786ed6e1d9b"
            ],
            "layout": "IPY_MODEL_0148596bb45a4bf38d0cfc7852c7ef34"
          }
        },
        "415578420ba041ff93d350506f659a61": {
          "model_module": "@jupyter-widgets/controls",
          "model_name": "HTMLModel",
          "model_module_version": "1.5.0",
          "state": {
            "_dom_classes": [],
            "_model_module": "@jupyter-widgets/controls",
            "_model_module_version": "1.5.0",
            "_model_name": "HTMLModel",
            "_view_count": null,
            "_view_module": "@jupyter-widgets/controls",
            "_view_module_version": "1.5.0",
            "_view_name": "HTMLView",
            "description": "",
            "description_tooltip": null,
            "layout": "IPY_MODEL_4cfa6dd804e049c09e7647ef3daadd9a",
            "placeholder": "​",
            "style": "IPY_MODEL_346d4d94e87142c88ce6e686a6fed6c0",
            "value": ""
          }
        },
        "3ccb786bb1dc40499f963aa67e3f3bb7": {
          "model_module": "@jupyter-widgets/controls",
          "model_name": "FloatProgressModel",
          "model_module_version": "1.5.0",
          "state": {
            "_dom_classes": [],
            "_model_module": "@jupyter-widgets/controls",
            "_model_module_version": "1.5.0",
            "_model_name": "FloatProgressModel",
            "_view_count": null,
            "_view_module": "@jupyter-widgets/controls",
            "_view_module_version": "1.5.0",
            "_view_name": "ProgressView",
            "bar_style": "success",
            "description": "",
            "description_tooltip": null,
            "layout": "IPY_MODEL_90daf440c613470f9751ef9230865066",
            "max": 29515,
            "min": 0,
            "orientation": "horizontal",
            "style": "IPY_MODEL_b344913a12fa4777941d12c82d8b53ac",
            "value": 29515
          }
        },
        "167f3587622346ecb0eff786ed6e1d9b": {
          "model_module": "@jupyter-widgets/controls",
          "model_name": "HTMLModel",
          "model_module_version": "1.5.0",
          "state": {
            "_dom_classes": [],
            "_model_module": "@jupyter-widgets/controls",
            "_model_module_version": "1.5.0",
            "_model_name": "HTMLModel",
            "_view_count": null,
            "_view_module": "@jupyter-widgets/controls",
            "_view_module_version": "1.5.0",
            "_view_name": "HTMLView",
            "description": "",
            "description_tooltip": null,
            "layout": "IPY_MODEL_4564c1a38da9414abd26391860bac0b6",
            "placeholder": "​",
            "style": "IPY_MODEL_0302958ff35743189f9a482da2184ab6",
            "value": " 29696/? [00:00&lt;00:00, 178369.84it/s]"
          }
        },
        "0148596bb45a4bf38d0cfc7852c7ef34": {
          "model_module": "@jupyter-widgets/base",
          "model_name": "LayoutModel",
          "model_module_version": "1.2.0",
          "state": {
            "_model_module": "@jupyter-widgets/base",
            "_model_module_version": "1.2.0",
            "_model_name": "LayoutModel",
            "_view_count": null,
            "_view_module": "@jupyter-widgets/base",
            "_view_module_version": "1.2.0",
            "_view_name": "LayoutView",
            "align_content": null,
            "align_items": null,
            "align_self": null,
            "border": null,
            "bottom": null,
            "display": null,
            "flex": null,
            "flex_flow": null,
            "grid_area": null,
            "grid_auto_columns": null,
            "grid_auto_flow": null,
            "grid_auto_rows": null,
            "grid_column": null,
            "grid_gap": null,
            "grid_row": null,
            "grid_template_areas": null,
            "grid_template_columns": null,
            "grid_template_rows": null,
            "height": null,
            "justify_content": null,
            "justify_items": null,
            "left": null,
            "margin": null,
            "max_height": null,
            "max_width": null,
            "min_height": null,
            "min_width": null,
            "object_fit": null,
            "object_position": null,
            "order": null,
            "overflow": null,
            "overflow_x": null,
            "overflow_y": null,
            "padding": null,
            "right": null,
            "top": null,
            "visibility": null,
            "width": null
          }
        },
        "4cfa6dd804e049c09e7647ef3daadd9a": {
          "model_module": "@jupyter-widgets/base",
          "model_name": "LayoutModel",
          "model_module_version": "1.2.0",
          "state": {
            "_model_module": "@jupyter-widgets/base",
            "_model_module_version": "1.2.0",
            "_model_name": "LayoutModel",
            "_view_count": null,
            "_view_module": "@jupyter-widgets/base",
            "_view_module_version": "1.2.0",
            "_view_name": "LayoutView",
            "align_content": null,
            "align_items": null,
            "align_self": null,
            "border": null,
            "bottom": null,
            "display": null,
            "flex": null,
            "flex_flow": null,
            "grid_area": null,
            "grid_auto_columns": null,
            "grid_auto_flow": null,
            "grid_auto_rows": null,
            "grid_column": null,
            "grid_gap": null,
            "grid_row": null,
            "grid_template_areas": null,
            "grid_template_columns": null,
            "grid_template_rows": null,
            "height": null,
            "justify_content": null,
            "justify_items": null,
            "left": null,
            "margin": null,
            "max_height": null,
            "max_width": null,
            "min_height": null,
            "min_width": null,
            "object_fit": null,
            "object_position": null,
            "order": null,
            "overflow": null,
            "overflow_x": null,
            "overflow_y": null,
            "padding": null,
            "right": null,
            "top": null,
            "visibility": null,
            "width": null
          }
        },
        "346d4d94e87142c88ce6e686a6fed6c0": {
          "model_module": "@jupyter-widgets/controls",
          "model_name": "DescriptionStyleModel",
          "model_module_version": "1.5.0",
          "state": {
            "_model_module": "@jupyter-widgets/controls",
            "_model_module_version": "1.5.0",
            "_model_name": "DescriptionStyleModel",
            "_view_count": null,
            "_view_module": "@jupyter-widgets/base",
            "_view_module_version": "1.2.0",
            "_view_name": "StyleView",
            "description_width": ""
          }
        },
        "90daf440c613470f9751ef9230865066": {
          "model_module": "@jupyter-widgets/base",
          "model_name": "LayoutModel",
          "model_module_version": "1.2.0",
          "state": {
            "_model_module": "@jupyter-widgets/base",
            "_model_module_version": "1.2.0",
            "_model_name": "LayoutModel",
            "_view_count": null,
            "_view_module": "@jupyter-widgets/base",
            "_view_module_version": "1.2.0",
            "_view_name": "LayoutView",
            "align_content": null,
            "align_items": null,
            "align_self": null,
            "border": null,
            "bottom": null,
            "display": null,
            "flex": null,
            "flex_flow": null,
            "grid_area": null,
            "grid_auto_columns": null,
            "grid_auto_flow": null,
            "grid_auto_rows": null,
            "grid_column": null,
            "grid_gap": null,
            "grid_row": null,
            "grid_template_areas": null,
            "grid_template_columns": null,
            "grid_template_rows": null,
            "height": null,
            "justify_content": null,
            "justify_items": null,
            "left": null,
            "margin": null,
            "max_height": null,
            "max_width": null,
            "min_height": null,
            "min_width": null,
            "object_fit": null,
            "object_position": null,
            "order": null,
            "overflow": null,
            "overflow_x": null,
            "overflow_y": null,
            "padding": null,
            "right": null,
            "top": null,
            "visibility": null,
            "width": null
          }
        },
        "b344913a12fa4777941d12c82d8b53ac": {
          "model_module": "@jupyter-widgets/controls",
          "model_name": "ProgressStyleModel",
          "model_module_version": "1.5.0",
          "state": {
            "_model_module": "@jupyter-widgets/controls",
            "_model_module_version": "1.5.0",
            "_model_name": "ProgressStyleModel",
            "_view_count": null,
            "_view_module": "@jupyter-widgets/base",
            "_view_module_version": "1.2.0",
            "_view_name": "StyleView",
            "bar_color": null,
            "description_width": ""
          }
        },
        "4564c1a38da9414abd26391860bac0b6": {
          "model_module": "@jupyter-widgets/base",
          "model_name": "LayoutModel",
          "model_module_version": "1.2.0",
          "state": {
            "_model_module": "@jupyter-widgets/base",
            "_model_module_version": "1.2.0",
            "_model_name": "LayoutModel",
            "_view_count": null,
            "_view_module": "@jupyter-widgets/base",
            "_view_module_version": "1.2.0",
            "_view_name": "LayoutView",
            "align_content": null,
            "align_items": null,
            "align_self": null,
            "border": null,
            "bottom": null,
            "display": null,
            "flex": null,
            "flex_flow": null,
            "grid_area": null,
            "grid_auto_columns": null,
            "grid_auto_flow": null,
            "grid_auto_rows": null,
            "grid_column": null,
            "grid_gap": null,
            "grid_row": null,
            "grid_template_areas": null,
            "grid_template_columns": null,
            "grid_template_rows": null,
            "height": null,
            "justify_content": null,
            "justify_items": null,
            "left": null,
            "margin": null,
            "max_height": null,
            "max_width": null,
            "min_height": null,
            "min_width": null,
            "object_fit": null,
            "object_position": null,
            "order": null,
            "overflow": null,
            "overflow_x": null,
            "overflow_y": null,
            "padding": null,
            "right": null,
            "top": null,
            "visibility": null,
            "width": null
          }
        },
        "0302958ff35743189f9a482da2184ab6": {
          "model_module": "@jupyter-widgets/controls",
          "model_name": "DescriptionStyleModel",
          "model_module_version": "1.5.0",
          "state": {
            "_model_module": "@jupyter-widgets/controls",
            "_model_module_version": "1.5.0",
            "_model_name": "DescriptionStyleModel",
            "_view_count": null,
            "_view_module": "@jupyter-widgets/base",
            "_view_module_version": "1.2.0",
            "_view_name": "StyleView",
            "description_width": ""
          }
        },
        "410e50df2ad248abab9b0cc0f0c4ffcf": {
          "model_module": "@jupyter-widgets/controls",
          "model_name": "HBoxModel",
          "model_module_version": "1.5.0",
          "state": {
            "_dom_classes": [],
            "_model_module": "@jupyter-widgets/controls",
            "_model_module_version": "1.5.0",
            "_model_name": "HBoxModel",
            "_view_count": null,
            "_view_module": "@jupyter-widgets/controls",
            "_view_module_version": "1.5.0",
            "_view_name": "HBoxView",
            "box_style": "",
            "children": [
              "IPY_MODEL_41797b860d1f43b48deedf905fce6441",
              "IPY_MODEL_9f3e5d8e478d446789ef71e5fff1a443",
              "IPY_MODEL_c104523b8f9f47b7aa494cabbdf8ec7c"
            ],
            "layout": "IPY_MODEL_9efe7373745b4d1ca47f8e9d1ec1a183"
          }
        },
        "41797b860d1f43b48deedf905fce6441": {
          "model_module": "@jupyter-widgets/controls",
          "model_name": "HTMLModel",
          "model_module_version": "1.5.0",
          "state": {
            "_dom_classes": [],
            "_model_module": "@jupyter-widgets/controls",
            "_model_module_version": "1.5.0",
            "_model_name": "HTMLModel",
            "_view_count": null,
            "_view_module": "@jupyter-widgets/controls",
            "_view_module_version": "1.5.0",
            "_view_name": "HTMLView",
            "description": "",
            "description_tooltip": null,
            "layout": "IPY_MODEL_8d00545b99044582a93662c0e2a70914",
            "placeholder": "​",
            "style": "IPY_MODEL_f5bfa997d03a48b6805197b71195172b",
            "value": ""
          }
        },
        "9f3e5d8e478d446789ef71e5fff1a443": {
          "model_module": "@jupyter-widgets/controls",
          "model_name": "FloatProgressModel",
          "model_module_version": "1.5.0",
          "state": {
            "_dom_classes": [],
            "_model_module": "@jupyter-widgets/controls",
            "_model_module_version": "1.5.0",
            "_model_name": "FloatProgressModel",
            "_view_count": null,
            "_view_module": "@jupyter-widgets/controls",
            "_view_module_version": "1.5.0",
            "_view_name": "ProgressView",
            "bar_style": "success",
            "description": "",
            "description_tooltip": null,
            "layout": "IPY_MODEL_270433ac8ba74f5589d12fec6baddfbd",
            "max": 4422102,
            "min": 0,
            "orientation": "horizontal",
            "style": "IPY_MODEL_3598b15cc0f845808f6bb67b50169649",
            "value": 4422102
          }
        },
        "c104523b8f9f47b7aa494cabbdf8ec7c": {
          "model_module": "@jupyter-widgets/controls",
          "model_name": "HTMLModel",
          "model_module_version": "1.5.0",
          "state": {
            "_dom_classes": [],
            "_model_module": "@jupyter-widgets/controls",
            "_model_module_version": "1.5.0",
            "_model_name": "HTMLModel",
            "_view_count": null,
            "_view_module": "@jupyter-widgets/controls",
            "_view_module_version": "1.5.0",
            "_view_name": "HTMLView",
            "description": "",
            "description_tooltip": null,
            "layout": "IPY_MODEL_af8a2ff0dc4a4f0a8bda45fc3a75b7a0",
            "placeholder": "​",
            "style": "IPY_MODEL_931c01697adb46439ee8d06f3c4fd1db",
            "value": " 4422656/? [00:00&lt;00:00, 10128148.13it/s]"
          }
        },
        "9efe7373745b4d1ca47f8e9d1ec1a183": {
          "model_module": "@jupyter-widgets/base",
          "model_name": "LayoutModel",
          "model_module_version": "1.2.0",
          "state": {
            "_model_module": "@jupyter-widgets/base",
            "_model_module_version": "1.2.0",
            "_model_name": "LayoutModel",
            "_view_count": null,
            "_view_module": "@jupyter-widgets/base",
            "_view_module_version": "1.2.0",
            "_view_name": "LayoutView",
            "align_content": null,
            "align_items": null,
            "align_self": null,
            "border": null,
            "bottom": null,
            "display": null,
            "flex": null,
            "flex_flow": null,
            "grid_area": null,
            "grid_auto_columns": null,
            "grid_auto_flow": null,
            "grid_auto_rows": null,
            "grid_column": null,
            "grid_gap": null,
            "grid_row": null,
            "grid_template_areas": null,
            "grid_template_columns": null,
            "grid_template_rows": null,
            "height": null,
            "justify_content": null,
            "justify_items": null,
            "left": null,
            "margin": null,
            "max_height": null,
            "max_width": null,
            "min_height": null,
            "min_width": null,
            "object_fit": null,
            "object_position": null,
            "order": null,
            "overflow": null,
            "overflow_x": null,
            "overflow_y": null,
            "padding": null,
            "right": null,
            "top": null,
            "visibility": null,
            "width": null
          }
        },
        "8d00545b99044582a93662c0e2a70914": {
          "model_module": "@jupyter-widgets/base",
          "model_name": "LayoutModel",
          "model_module_version": "1.2.0",
          "state": {
            "_model_module": "@jupyter-widgets/base",
            "_model_module_version": "1.2.0",
            "_model_name": "LayoutModel",
            "_view_count": null,
            "_view_module": "@jupyter-widgets/base",
            "_view_module_version": "1.2.0",
            "_view_name": "LayoutView",
            "align_content": null,
            "align_items": null,
            "align_self": null,
            "border": null,
            "bottom": null,
            "display": null,
            "flex": null,
            "flex_flow": null,
            "grid_area": null,
            "grid_auto_columns": null,
            "grid_auto_flow": null,
            "grid_auto_rows": null,
            "grid_column": null,
            "grid_gap": null,
            "grid_row": null,
            "grid_template_areas": null,
            "grid_template_columns": null,
            "grid_template_rows": null,
            "height": null,
            "justify_content": null,
            "justify_items": null,
            "left": null,
            "margin": null,
            "max_height": null,
            "max_width": null,
            "min_height": null,
            "min_width": null,
            "object_fit": null,
            "object_position": null,
            "order": null,
            "overflow": null,
            "overflow_x": null,
            "overflow_y": null,
            "padding": null,
            "right": null,
            "top": null,
            "visibility": null,
            "width": null
          }
        },
        "f5bfa997d03a48b6805197b71195172b": {
          "model_module": "@jupyter-widgets/controls",
          "model_name": "DescriptionStyleModel",
          "model_module_version": "1.5.0",
          "state": {
            "_model_module": "@jupyter-widgets/controls",
            "_model_module_version": "1.5.0",
            "_model_name": "DescriptionStyleModel",
            "_view_count": null,
            "_view_module": "@jupyter-widgets/base",
            "_view_module_version": "1.2.0",
            "_view_name": "StyleView",
            "description_width": ""
          }
        },
        "270433ac8ba74f5589d12fec6baddfbd": {
          "model_module": "@jupyter-widgets/base",
          "model_name": "LayoutModel",
          "model_module_version": "1.2.0",
          "state": {
            "_model_module": "@jupyter-widgets/base",
            "_model_module_version": "1.2.0",
            "_model_name": "LayoutModel",
            "_view_count": null,
            "_view_module": "@jupyter-widgets/base",
            "_view_module_version": "1.2.0",
            "_view_name": "LayoutView",
            "align_content": null,
            "align_items": null,
            "align_self": null,
            "border": null,
            "bottom": null,
            "display": null,
            "flex": null,
            "flex_flow": null,
            "grid_area": null,
            "grid_auto_columns": null,
            "grid_auto_flow": null,
            "grid_auto_rows": null,
            "grid_column": null,
            "grid_gap": null,
            "grid_row": null,
            "grid_template_areas": null,
            "grid_template_columns": null,
            "grid_template_rows": null,
            "height": null,
            "justify_content": null,
            "justify_items": null,
            "left": null,
            "margin": null,
            "max_height": null,
            "max_width": null,
            "min_height": null,
            "min_width": null,
            "object_fit": null,
            "object_position": null,
            "order": null,
            "overflow": null,
            "overflow_x": null,
            "overflow_y": null,
            "padding": null,
            "right": null,
            "top": null,
            "visibility": null,
            "width": null
          }
        },
        "3598b15cc0f845808f6bb67b50169649": {
          "model_module": "@jupyter-widgets/controls",
          "model_name": "ProgressStyleModel",
          "model_module_version": "1.5.0",
          "state": {
            "_model_module": "@jupyter-widgets/controls",
            "_model_module_version": "1.5.0",
            "_model_name": "ProgressStyleModel",
            "_view_count": null,
            "_view_module": "@jupyter-widgets/base",
            "_view_module_version": "1.2.0",
            "_view_name": "StyleView",
            "bar_color": null,
            "description_width": ""
          }
        },
        "af8a2ff0dc4a4f0a8bda45fc3a75b7a0": {
          "model_module": "@jupyter-widgets/base",
          "model_name": "LayoutModel",
          "model_module_version": "1.2.0",
          "state": {
            "_model_module": "@jupyter-widgets/base",
            "_model_module_version": "1.2.0",
            "_model_name": "LayoutModel",
            "_view_count": null,
            "_view_module": "@jupyter-widgets/base",
            "_view_module_version": "1.2.0",
            "_view_name": "LayoutView",
            "align_content": null,
            "align_items": null,
            "align_self": null,
            "border": null,
            "bottom": null,
            "display": null,
            "flex": null,
            "flex_flow": null,
            "grid_area": null,
            "grid_auto_columns": null,
            "grid_auto_flow": null,
            "grid_auto_rows": null,
            "grid_column": null,
            "grid_gap": null,
            "grid_row": null,
            "grid_template_areas": null,
            "grid_template_columns": null,
            "grid_template_rows": null,
            "height": null,
            "justify_content": null,
            "justify_items": null,
            "left": null,
            "margin": null,
            "max_height": null,
            "max_width": null,
            "min_height": null,
            "min_width": null,
            "object_fit": null,
            "object_position": null,
            "order": null,
            "overflow": null,
            "overflow_x": null,
            "overflow_y": null,
            "padding": null,
            "right": null,
            "top": null,
            "visibility": null,
            "width": null
          }
        },
        "931c01697adb46439ee8d06f3c4fd1db": {
          "model_module": "@jupyter-widgets/controls",
          "model_name": "DescriptionStyleModel",
          "model_module_version": "1.5.0",
          "state": {
            "_model_module": "@jupyter-widgets/controls",
            "_model_module_version": "1.5.0",
            "_model_name": "DescriptionStyleModel",
            "_view_count": null,
            "_view_module": "@jupyter-widgets/base",
            "_view_module_version": "1.2.0",
            "_view_name": "StyleView",
            "description_width": ""
          }
        },
        "a0f819c477234b6289aa78722989a781": {
          "model_module": "@jupyter-widgets/controls",
          "model_name": "HBoxModel",
          "model_module_version": "1.5.0",
          "state": {
            "_dom_classes": [],
            "_model_module": "@jupyter-widgets/controls",
            "_model_module_version": "1.5.0",
            "_model_name": "HBoxModel",
            "_view_count": null,
            "_view_module": "@jupyter-widgets/controls",
            "_view_module_version": "1.5.0",
            "_view_name": "HBoxView",
            "box_style": "",
            "children": [
              "IPY_MODEL_71cf514a02a84f8393c1a4008a6b812d",
              "IPY_MODEL_1d20f3b8f7d24b6895f8d321347ef81f",
              "IPY_MODEL_84ef6c7919a64b0c99604abdb289f88d"
            ],
            "layout": "IPY_MODEL_9572a3d05f8b4b60b6929e3a4da304e3"
          }
        },
        "71cf514a02a84f8393c1a4008a6b812d": {
          "model_module": "@jupyter-widgets/controls",
          "model_name": "HTMLModel",
          "model_module_version": "1.5.0",
          "state": {
            "_dom_classes": [],
            "_model_module": "@jupyter-widgets/controls",
            "_model_module_version": "1.5.0",
            "_model_name": "HTMLModel",
            "_view_count": null,
            "_view_module": "@jupyter-widgets/controls",
            "_view_module_version": "1.5.0",
            "_view_name": "HTMLView",
            "description": "",
            "description_tooltip": null,
            "layout": "IPY_MODEL_66bf9eb9c2f2407b97b032d9e9e7c350",
            "placeholder": "​",
            "style": "IPY_MODEL_3cdb521ba1c24e52b6b0fefe58be2720",
            "value": ""
          }
        },
        "1d20f3b8f7d24b6895f8d321347ef81f": {
          "model_module": "@jupyter-widgets/controls",
          "model_name": "FloatProgressModel",
          "model_module_version": "1.5.0",
          "state": {
            "_dom_classes": [],
            "_model_module": "@jupyter-widgets/controls",
            "_model_module_version": "1.5.0",
            "_model_name": "FloatProgressModel",
            "_view_count": null,
            "_view_module": "@jupyter-widgets/controls",
            "_view_module_version": "1.5.0",
            "_view_name": "ProgressView",
            "bar_style": "success",
            "description": "",
            "description_tooltip": null,
            "layout": "IPY_MODEL_d09bf8e6dcc94e6f89214ca00d7070d5",
            "max": 5148,
            "min": 0,
            "orientation": "horizontal",
            "style": "IPY_MODEL_68e20345a4574ec28cffc7bcc69ed4ae",
            "value": 5148
          }
        },
        "84ef6c7919a64b0c99604abdb289f88d": {
          "model_module": "@jupyter-widgets/controls",
          "model_name": "HTMLModel",
          "model_module_version": "1.5.0",
          "state": {
            "_dom_classes": [],
            "_model_module": "@jupyter-widgets/controls",
            "_model_module_version": "1.5.0",
            "_model_name": "HTMLModel",
            "_view_count": null,
            "_view_module": "@jupyter-widgets/controls",
            "_view_module_version": "1.5.0",
            "_view_name": "HTMLView",
            "description": "",
            "description_tooltip": null,
            "layout": "IPY_MODEL_012e65d4fcae4d79902fc494c1cd63f4",
            "placeholder": "​",
            "style": "IPY_MODEL_16ac44c8034d488d9357e77efce49b90",
            "value": " 6144/? [00:00&lt;00:00, 129252.93it/s]"
          }
        },
        "9572a3d05f8b4b60b6929e3a4da304e3": {
          "model_module": "@jupyter-widgets/base",
          "model_name": "LayoutModel",
          "model_module_version": "1.2.0",
          "state": {
            "_model_module": "@jupyter-widgets/base",
            "_model_module_version": "1.2.0",
            "_model_name": "LayoutModel",
            "_view_count": null,
            "_view_module": "@jupyter-widgets/base",
            "_view_module_version": "1.2.0",
            "_view_name": "LayoutView",
            "align_content": null,
            "align_items": null,
            "align_self": null,
            "border": null,
            "bottom": null,
            "display": null,
            "flex": null,
            "flex_flow": null,
            "grid_area": null,
            "grid_auto_columns": null,
            "grid_auto_flow": null,
            "grid_auto_rows": null,
            "grid_column": null,
            "grid_gap": null,
            "grid_row": null,
            "grid_template_areas": null,
            "grid_template_columns": null,
            "grid_template_rows": null,
            "height": null,
            "justify_content": null,
            "justify_items": null,
            "left": null,
            "margin": null,
            "max_height": null,
            "max_width": null,
            "min_height": null,
            "min_width": null,
            "object_fit": null,
            "object_position": null,
            "order": null,
            "overflow": null,
            "overflow_x": null,
            "overflow_y": null,
            "padding": null,
            "right": null,
            "top": null,
            "visibility": null,
            "width": null
          }
        },
        "66bf9eb9c2f2407b97b032d9e9e7c350": {
          "model_module": "@jupyter-widgets/base",
          "model_name": "LayoutModel",
          "model_module_version": "1.2.0",
          "state": {
            "_model_module": "@jupyter-widgets/base",
            "_model_module_version": "1.2.0",
            "_model_name": "LayoutModel",
            "_view_count": null,
            "_view_module": "@jupyter-widgets/base",
            "_view_module_version": "1.2.0",
            "_view_name": "LayoutView",
            "align_content": null,
            "align_items": null,
            "align_self": null,
            "border": null,
            "bottom": null,
            "display": null,
            "flex": null,
            "flex_flow": null,
            "grid_area": null,
            "grid_auto_columns": null,
            "grid_auto_flow": null,
            "grid_auto_rows": null,
            "grid_column": null,
            "grid_gap": null,
            "grid_row": null,
            "grid_template_areas": null,
            "grid_template_columns": null,
            "grid_template_rows": null,
            "height": null,
            "justify_content": null,
            "justify_items": null,
            "left": null,
            "margin": null,
            "max_height": null,
            "max_width": null,
            "min_height": null,
            "min_width": null,
            "object_fit": null,
            "object_position": null,
            "order": null,
            "overflow": null,
            "overflow_x": null,
            "overflow_y": null,
            "padding": null,
            "right": null,
            "top": null,
            "visibility": null,
            "width": null
          }
        },
        "3cdb521ba1c24e52b6b0fefe58be2720": {
          "model_module": "@jupyter-widgets/controls",
          "model_name": "DescriptionStyleModel",
          "model_module_version": "1.5.0",
          "state": {
            "_model_module": "@jupyter-widgets/controls",
            "_model_module_version": "1.5.0",
            "_model_name": "DescriptionStyleModel",
            "_view_count": null,
            "_view_module": "@jupyter-widgets/base",
            "_view_module_version": "1.2.0",
            "_view_name": "StyleView",
            "description_width": ""
          }
        },
        "d09bf8e6dcc94e6f89214ca00d7070d5": {
          "model_module": "@jupyter-widgets/base",
          "model_name": "LayoutModel",
          "model_module_version": "1.2.0",
          "state": {
            "_model_module": "@jupyter-widgets/base",
            "_model_module_version": "1.2.0",
            "_model_name": "LayoutModel",
            "_view_count": null,
            "_view_module": "@jupyter-widgets/base",
            "_view_module_version": "1.2.0",
            "_view_name": "LayoutView",
            "align_content": null,
            "align_items": null,
            "align_self": null,
            "border": null,
            "bottom": null,
            "display": null,
            "flex": null,
            "flex_flow": null,
            "grid_area": null,
            "grid_auto_columns": null,
            "grid_auto_flow": null,
            "grid_auto_rows": null,
            "grid_column": null,
            "grid_gap": null,
            "grid_row": null,
            "grid_template_areas": null,
            "grid_template_columns": null,
            "grid_template_rows": null,
            "height": null,
            "justify_content": null,
            "justify_items": null,
            "left": null,
            "margin": null,
            "max_height": null,
            "max_width": null,
            "min_height": null,
            "min_width": null,
            "object_fit": null,
            "object_position": null,
            "order": null,
            "overflow": null,
            "overflow_x": null,
            "overflow_y": null,
            "padding": null,
            "right": null,
            "top": null,
            "visibility": null,
            "width": null
          }
        },
        "68e20345a4574ec28cffc7bcc69ed4ae": {
          "model_module": "@jupyter-widgets/controls",
          "model_name": "ProgressStyleModel",
          "model_module_version": "1.5.0",
          "state": {
            "_model_module": "@jupyter-widgets/controls",
            "_model_module_version": "1.5.0",
            "_model_name": "ProgressStyleModel",
            "_view_count": null,
            "_view_module": "@jupyter-widgets/base",
            "_view_module_version": "1.2.0",
            "_view_name": "StyleView",
            "bar_color": null,
            "description_width": ""
          }
        },
        "012e65d4fcae4d79902fc494c1cd63f4": {
          "model_module": "@jupyter-widgets/base",
          "model_name": "LayoutModel",
          "model_module_version": "1.2.0",
          "state": {
            "_model_module": "@jupyter-widgets/base",
            "_model_module_version": "1.2.0",
            "_model_name": "LayoutModel",
            "_view_count": null,
            "_view_module": "@jupyter-widgets/base",
            "_view_module_version": "1.2.0",
            "_view_name": "LayoutView",
            "align_content": null,
            "align_items": null,
            "align_self": null,
            "border": null,
            "bottom": null,
            "display": null,
            "flex": null,
            "flex_flow": null,
            "grid_area": null,
            "grid_auto_columns": null,
            "grid_auto_flow": null,
            "grid_auto_rows": null,
            "grid_column": null,
            "grid_gap": null,
            "grid_row": null,
            "grid_template_areas": null,
            "grid_template_columns": null,
            "grid_template_rows": null,
            "height": null,
            "justify_content": null,
            "justify_items": null,
            "left": null,
            "margin": null,
            "max_height": null,
            "max_width": null,
            "min_height": null,
            "min_width": null,
            "object_fit": null,
            "object_position": null,
            "order": null,
            "overflow": null,
            "overflow_x": null,
            "overflow_y": null,
            "padding": null,
            "right": null,
            "top": null,
            "visibility": null,
            "width": null
          }
        },
        "16ac44c8034d488d9357e77efce49b90": {
          "model_module": "@jupyter-widgets/controls",
          "model_name": "DescriptionStyleModel",
          "model_module_version": "1.5.0",
          "state": {
            "_model_module": "@jupyter-widgets/controls",
            "_model_module_version": "1.5.0",
            "_model_name": "DescriptionStyleModel",
            "_view_count": null,
            "_view_module": "@jupyter-widgets/base",
            "_view_module_version": "1.2.0",
            "_view_name": "StyleView",
            "description_width": ""
          }
        }
      }
    }
  },
  "nbformat": 4,
  "nbformat_minor": 0
}