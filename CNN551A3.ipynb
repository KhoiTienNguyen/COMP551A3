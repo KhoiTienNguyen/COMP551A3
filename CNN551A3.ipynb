{
  "nbformat": 4,
  "nbformat_minor": 0,
  "metadata": {
    "colab": {
      "name": "CNN551A3.ipynb",
      "provenance": [],
      "collapsed_sections": []
    },
    "kernelspec": {
      "name": "python3",
      "display_name": "Python 3"
    },
    "language_info": {
      "name": "python"
    }
  },
  "cells": [
    {
      "cell_type": "code",
      "source": [
        "# import torchvision module to handle image manipulation\n",
        "import torchvision\n",
        "import torchvision.transforms as transforms\n",
        "import numpy as np\n",
        "\n",
        "from keras.datasets import fashion_mnist\n",
        "(train_X,train_Y), (test_X,test_Y) = fashion_mnist.load_data()"
      ],
      "metadata": {
        "id": "pKhS0rtzR9M4"
      },
      "execution_count": null,
      "outputs": []
    },
    {
      "cell_type": "markdown",
      "source": [
        "Analyzing the DATASET"
      ],
      "metadata": {
        "id": "2UjlpuV8O0KG"
      }
    },
    {
      "cell_type": "code",
      "source": [
        "import numpy as np\n",
        "import keras\n",
        "from tensorflow.keras.utils import to_categorical\n",
        "import matplotlib.pyplot as plt\n",
        "%matplotlib inline\n",
        "\n",
        "print('Training data shape : ', train_X.shape, train_Y.shape)\n",
        "\n",
        "print('Testing data shape : ', test_X.shape, test_Y.shape)"
      ],
      "metadata": {
        "colab": {
          "base_uri": "https://localhost:8080/"
        },
        "id": "a1U8eVK8OsXy",
        "outputId": "63db27e6-a2c4-48d0-e466-f69b03c1cf18"
      },
      "execution_count": null,
      "outputs": [
        {
          "output_type": "stream",
          "name": "stdout",
          "text": [
            "Training data shape :  (60000, 28, 28) (60000,)\n",
            "Testing data shape :  (10000, 28, 28) (10000,)\n"
          ]
        }
      ]
    },
    {
      "cell_type": "markdown",
      "source": [
        "Data preprocessing - convert each 28 x 28 image of the train and test set into a matrix of size 28 x 28 x 1 which is fed into the network."
      ],
      "metadata": {
        "id": "TVMNs76HQBFD"
      }
    },
    {
      "cell_type": "code",
      "source": [
        "train_X = train_X.reshape(-1, 28,28, 1)\n",
        "test_X = test_X.reshape(-1, 28,28, 1)\n",
        "train_X.shape, test_X.shape\n",
        "\n",
        "train_X = train_X.astype('float32')\n",
        "test_X = test_X.astype('float32')\n",
        "#normalizing\n",
        "train_X = train_X / 255.\n",
        "test_X = test_X / 255.\n",
        "\n",
        "#one hot encoding\n",
        "train_Y_one_hot = to_categorical(train_Y)\n",
        "test_Y_one_hot = to_categorical(test_Y)\n",
        "print('Original label:', train_Y[0])\n",
        "print('After conversion to one-hot:', train_Y_one_hot[0])\n",
        "\n",
        "#data splitting\n",
        "from sklearn.model_selection import train_test_split\n",
        "train_X,valid_X,train_label,valid_label = train_test_split(train_X, train_Y_one_hot, test_size=0.2, random_state=123)\n",
        "\n",
        "train_X.shape,valid_X.shape,train_label.shape,valid_label.shape"
      ],
      "metadata": {
        "colab": {
          "base_uri": "https://localhost:8080/"
        },
        "id": "t5Qp7XZlQAp7",
        "outputId": "de92debe-1340-4b6c-bfef-734b96b62c44"
      },
      "execution_count": null,
      "outputs": [
        {
          "output_type": "stream",
          "name": "stdout",
          "text": [
            "Original label: 9\n",
            "After conversion to one-hot: [0. 0. 0. 0. 0. 0. 0. 0. 0. 1.]\n"
          ]
        },
        {
          "output_type": "execute_result",
          "data": {
            "text/plain": [
              "((48000, 28, 28, 1), (12000, 28, 28, 1), (48000, 10), (12000, 10))"
            ]
          },
          "metadata": {},
          "execution_count": 4
        }
      ]
    },
    {
      "cell_type": "code",
      "source": [
        "from tensorflow import keras\n",
        "from keras.models import Sequential,Input,Model\n",
        "from keras.layers import Dense, Dropout, Flatten\n",
        "from keras.layers import Conv2D, MaxPooling2D\n",
        "from tensorflow.keras.layers import BatchNormalization\n",
        "from keras.layers.advanced_activations import LeakyReLU\n",
        "from keras.layers.advanced_activations import ReLU\n",
        "\n",
        "from tensorflow.keras import layers\n",
        "from tensorflow.keras import activations\n"
      ],
      "metadata": {
        "id": "23ZNWTleWEZs"
      },
      "execution_count": null,
      "outputs": []
    },
    {
      "cell_type": "code",
      "source": [
        "batch_size = 64\n",
        "epochs = 10\n",
        "num_classes = 10"
      ],
      "metadata": {
        "id": "gSiu_4Kua48I"
      },
      "execution_count": null,
      "outputs": []
    },
    {
      "cell_type": "code",
      "source": [
        "fashion_model = Sequential()\n",
        "\n",
        "fashion_model.add(Conv2D(32, kernel_size=(3, 3),activation='linear',input_shape=(28,28,1),padding='same'))\n",
        "fashion_model.add(layers.Activation(activations.relu))\n",
        "fashion_model.add(MaxPooling2D((2, 2),padding='same'))\n",
        "\n",
        "#fashion_model.add(Conv2D(64, (3, 3), activation='linear',padding='same'))\n",
        "#fashion_model.add(layers.Activation(activations.relu))\n",
        "#fashion_model.add(MaxPooling2D(pool_size=(2, 2),padding='same'))\n",
        "\n",
        "fashion_model.add(Conv2D(128, (3, 3), activation='linear',padding='same'))\n",
        "fashion_model.add(layers.Activation(activations.relu))                  \n",
        "fashion_model.add(MaxPooling2D(pool_size=(2, 2),padding='same'))\n",
        "\n",
        "\n",
        "fashion_model.add(Flatten())\n",
        "fashion_model.add(Dense(128, activation='linear'))\n",
        "fashion_model.add(layers.Activation(activations.relu))                  \n",
        "fashion_model.add(Dense(num_classes, activation='softmax'))"
      ],
      "metadata": {
        "id": "niG5T1O5dpGM"
      },
      "execution_count": null,
      "outputs": []
    },
    {
      "cell_type": "code",
      "source": [
        "fashion_model.compile(loss=keras.losses.categorical_crossentropy, optimizer=keras.optimizers.Adam(),metrics=['accuracy'])"
      ],
      "metadata": {
        "id": "Ht3o-C7qhN4Z"
      },
      "execution_count": null,
      "outputs": []
    },
    {
      "cell_type": "code",
      "source": [
        "fashion_model.summary()"
      ],
      "metadata": {
        "colab": {
          "base_uri": "https://localhost:8080/"
        },
        "id": "Hj0CNXb9iEW1",
        "outputId": "f0d379dc-179b-4f16-9dd2-a1ebbb848960"
      },
      "execution_count": null,
      "outputs": [
        {
          "output_type": "stream",
          "name": "stdout",
          "text": [
            "Model: \"sequential_10\"\n",
            "_________________________________________________________________\n",
            " Layer (type)                Output Shape              Param #   \n",
            "=================================================================\n",
            " conv2d_19 (Conv2D)          (None, 28, 28, 32)        320       \n",
            "                                                                 \n",
            " activation_21 (Activation)  (None, 28, 28, 32)        0         \n",
            "                                                                 \n",
            " max_pooling2d_15 (MaxPoolin  (None, 14, 14, 32)       0         \n",
            " g2D)                                                            \n",
            "                                                                 \n",
            " conv2d_20 (Conv2D)          (None, 14, 14, 128)       36992     \n",
            "                                                                 \n",
            " activation_22 (Activation)  (None, 14, 14, 128)       0         \n",
            "                                                                 \n",
            " max_pooling2d_16 (MaxPoolin  (None, 7, 7, 128)        0         \n",
            " g2D)                                                            \n",
            "                                                                 \n",
            " flatten_6 (Flatten)         (None, 6272)              0         \n",
            "                                                                 \n",
            " dense_12 (Dense)            (None, 128)               802944    \n",
            "                                                                 \n",
            " activation_23 (Activation)  (None, 128)               0         \n",
            "                                                                 \n",
            " dense_13 (Dense)            (None, 10)                1290      \n",
            "                                                                 \n",
            "=================================================================\n",
            "Total params: 841,546\n",
            "Trainable params: 841,546\n",
            "Non-trainable params: 0\n",
            "_________________________________________________________________\n"
          ]
        }
      ]
    },
    {
      "cell_type": "code",
      "source": [
        "fashion_train = fashion_model.fit(train_X, train_label, batch_size=batch_size,epochs=epochs,verbose=1,validation_data=(valid_X, valid_label))"
      ],
      "metadata": {
        "colab": {
          "base_uri": "https://localhost:8080/"
        },
        "id": "DS5eEP5QjCDl",
        "outputId": "bfdaa42f-bc11-483b-a050-78a795088a7b"
      },
      "execution_count": null,
      "outputs": [
        {
          "output_type": "stream",
          "name": "stdout",
          "text": [
            "Epoch 1/10\n",
            "750/750 [==============================] - 89s 118ms/step - loss: 0.4368 - accuracy: 0.8431 - val_loss: 0.3335 - val_accuracy: 0.8826\n",
            "Epoch 2/10\n",
            "750/750 [==============================] - 86s 115ms/step - loss: 0.2805 - accuracy: 0.8994 - val_loss: 0.2701 - val_accuracy: 0.9008\n",
            "Epoch 3/10\n",
            "750/750 [==============================] - 86s 115ms/step - loss: 0.2352 - accuracy: 0.9136 - val_loss: 0.2557 - val_accuracy: 0.9036\n",
            "Epoch 4/10\n",
            "750/750 [==============================] - 86s 114ms/step - loss: 0.1986 - accuracy: 0.9270 - val_loss: 0.2273 - val_accuracy: 0.9221\n",
            "Epoch 5/10\n",
            "750/750 [==============================] - 85s 114ms/step - loss: 0.1753 - accuracy: 0.9363 - val_loss: 0.2370 - val_accuracy: 0.9178\n",
            "Epoch 6/10\n",
            "750/750 [==============================] - 86s 114ms/step - loss: 0.1496 - accuracy: 0.9453 - val_loss: 0.2256 - val_accuracy: 0.9203\n",
            "Epoch 7/10\n",
            "750/750 [==============================] - 85s 114ms/step - loss: 0.1280 - accuracy: 0.9532 - val_loss: 0.2328 - val_accuracy: 0.9223\n",
            "Epoch 8/10\n",
            "750/750 [==============================] - 85s 113ms/step - loss: 0.1072 - accuracy: 0.9605 - val_loss: 0.2603 - val_accuracy: 0.9178\n",
            "Epoch 9/10\n",
            "750/750 [==============================] - 85s 114ms/step - loss: 0.0922 - accuracy: 0.9665 - val_loss: 0.2472 - val_accuracy: 0.9222\n",
            "Epoch 10/10\n",
            "750/750 [==============================] - 85s 114ms/step - loss: 0.0753 - accuracy: 0.9724 - val_loss: 0.2604 - val_accuracy: 0.9217\n"
          ]
        }
      ]
    },
    {
      "cell_type": "code",
      "source": [
        "test_eval = fashion_model.evaluate(test_X, test_Y_one_hot, verbose=0)"
      ],
      "metadata": {
        "id": "HUVdpf25qV8E"
      },
      "execution_count": null,
      "outputs": []
    },
    {
      "cell_type": "code",
      "source": [
        "print('Test loss:', test_eval[0])\n",
        "print('Test accuracy:', test_eval[1])"
      ],
      "metadata": {
        "colab": {
          "base_uri": "https://localhost:8080/"
        },
        "id": "mopVi7noqbab",
        "outputId": "beb68e21-f23d-4af1-f749-f1690a81c362"
      },
      "execution_count": null,
      "outputs": [
        {
          "output_type": "stream",
          "name": "stdout",
          "text": [
            "Test loss: 0.27907198667526245\n",
            "Test accuracy: 0.9187999963760376\n"
          ]
        }
      ]
    },
    {
      "cell_type": "code",
      "source": [
        "accuracy = fashion_train.history['accuracy']\n",
        "val_accuracy = fashion_train.history['val_accuracy']\n",
        "loss = fashion_train.history['loss']\n",
        "val_loss = fashion_train.history['val_loss']\n",
        "epochs = range(len(accuracy))\n",
        "plt.plot(epochs, accuracy, 'bo', label='Training accuracy')\n",
        "plt.plot(epochs, val_accuracy, 'b', label='Validation accuracy')\n",
        "plt.title('Training and validation accuracy')\n",
        "plt.legend()\n",
        "plt.figure()\n",
        "plt.plot(epochs, loss, 'bo', label='Training loss')\n",
        "plt.plot(epochs, val_loss, 'b', label='Validation loss')\n",
        "plt.title('Training and validation loss')\n",
        "plt.legend()\n",
        "plt.show()"
      ],
      "metadata": {
        "colab": {
          "base_uri": "https://localhost:8080/",
          "height": 545
        },
        "id": "IdGRYAs5rzmC",
        "outputId": "394832c0-7c2f-4c13-842c-b8f48c8a3e0c"
      },
      "execution_count": null,
      "outputs": [
        {
          "output_type": "display_data",
          "data": {
            "text/plain": [
              "<Figure size 432x288 with 1 Axes>"
            ],
            "image/png": "[encoded data removed]"
          },
          "metadata": {
            "needs_background": "light"
          }
        },
        {
          "output_type": "display_data",
          "data": {
            "text/plain": [
              "<Figure size 432x288 with 1 Axes>"
            ],
            "image/png": "[encoded data removed]"
          },
          "metadata": {
            "needs_background": "light"
          }
        }
      ]
    },
    {
      "cell_type": "markdown",
      "source": [
        "From the above two plots, you can see that the validation accuracy almost became stagnant after 3 epochs and rarely increased at certain epochs. In the beginning, the validation accuracy was linearly increasing with loss, but then it did not increase much.\n",
        "\n",
        "The validation loss shows that this is the sign of overfitting, similar to validation accuracy it linearly decreased but after 4-5 epochs, it started to increase. This means that the model tried to memorize the data and succeeded.\n",
        "\n",
        "With this in mind, it's time to introduce some dropout into our model and see if it helps in reducing overfitting."
      ],
      "metadata": {
        "id": "vF6ci4OTsVRV"
      }
    },
    {
      "cell_type": "code",
      "source": [
        "fashion_model2 = Sequential()\n",
        "\n",
        "fashion_model2.add(Conv2D(32, kernel_size=(3, 3),activation='linear',input_shape=(28,28,1),padding='same'))\n",
        "fashion_model2.add(layers.Activation(activations.relu))\n",
        "fashion_model2.add(MaxPooling2D((2, 2),padding='same'))\n",
        "fashion_model2.add(Dropout(0.25))\n",
        "#fashion_model.add(Conv2D(64, (3, 3), activation='linear',padding='same'))\n",
        "#fashion_model.add(layers.Activation(activations.relu))\n",
        "#fashion_model.add(MaxPooling2D(pool_size=(2, 2),padding='same'))\n",
        "\n",
        "fashion_model2.add(Conv2D(128, (3, 3), activation='linear',padding='same'))\n",
        "fashion_model2.add(layers.Activation(activations.relu))                  \n",
        "fashion_model2.add(MaxPooling2D(pool_size=(2, 2),padding='same'))\n",
        "fashion_model2.add(Dropout(0.25))\n",
        "\n",
        "fashion_model2.add(Flatten())\n",
        "fashion_model2.add(Dense(128, activation='linear'))\n",
        "fashion_model2.add(layers.Activation(activations.relu))  \n",
        "fashion_model2.add(Dropout(0.3))                \n",
        "fashion_model2.add(Dense(num_classes, activation='softmax'))"
      ],
      "metadata": {
        "id": "03oBCU9VsVDw"
      },
      "execution_count": null,
      "outputs": []
    },
    {
      "cell_type": "code",
      "source": [
        "fashion_model2.summary()"
      ],
      "metadata": {
        "colab": {
          "base_uri": "https://localhost:8080/"
        },
        "id": "ILQPipAL2A3h",
        "outputId": "c92581d2-8284-4a08-9b68-d87bfba14b3c"
      },
      "execution_count": null,
      "outputs": [
        {
          "output_type": "stream",
          "name": "stdout",
          "text": [
            "Model: \"sequential_11\"\n",
            "_________________________________________________________________\n",
            " Layer (type)                Output Shape              Param #   \n",
            "=================================================================\n",
            " conv2d_21 (Conv2D)          (None, 28, 28, 32)        320       \n",
            "                                                                 \n",
            " activation_24 (Activation)  (None, 28, 28, 32)        0         \n",
            "                                                                 \n",
            " max_pooling2d_17 (MaxPoolin  (None, 14, 14, 32)       0         \n",
            " g2D)                                                            \n",
            "                                                                 \n",
            " dropout (Dropout)           (None, 14, 14, 32)        0         \n",
            "                                                                 \n",
            " conv2d_22 (Conv2D)          (None, 14, 14, 128)       36992     \n",
            "                                                                 \n",
            " activation_25 (Activation)  (None, 14, 14, 128)       0         \n",
            "                                                                 \n",
            " max_pooling2d_18 (MaxPoolin  (None, 7, 7, 128)        0         \n",
            " g2D)                                                            \n",
            "                                                                 \n",
            " dropout_1 (Dropout)         (None, 7, 7, 128)         0         \n",
            "                                                                 \n",
            " flatten_7 (Flatten)         (None, 6272)              0         \n",
            "                                                                 \n",
            " dense_14 (Dense)            (None, 128)               802944    \n",
            "                                                                 \n",
            " activation_26 (Activation)  (None, 128)               0         \n",
            "                                                                 \n",
            " dropout_2 (Dropout)         (None, 128)               0         \n",
            "                                                                 \n",
            " dense_15 (Dense)            (None, 10)                1290      \n",
            "                                                                 \n",
            "=================================================================\n",
            "Total params: 841,546\n",
            "Trainable params: 841,546\n",
            "Non-trainable params: 0\n",
            "_________________________________________________________________\n"
          ]
        }
      ]
    },
    {
      "cell_type": "code",
      "source": [
        "fashion_model2.compile(loss=keras.losses.categorical_crossentropy, optimizer=keras.optimizers.Adam(),metrics=['accuracy'])"
      ],
      "metadata": {
        "id": "OG91DMOq2G1c"
      },
      "execution_count": null,
      "outputs": []
    },
    {
      "cell_type": "code",
      "source": [
        "fashion_train_dropout = fashion_model2.fit(train_X, train_label, batch_size=batch_size,epochs=epochs,verbose=1,validation_data=(valid_X, valid_label))"
      ],
      "metadata": {
        "colab": {
          "base_uri": "https://localhost:8080/"
        },
        "id": "wFEbOQ0Y2KBm",
        "outputId": "d7bc369a-f831-4245-a861-438725629abb"
      },
      "execution_count": null,
      "outputs": [
        {
          "output_type": "stream",
          "name": "stdout",
          "text": [
            "Epoch 1/10\n",
            "750/750 [==============================] - 93s 122ms/step - loss: 0.5450 - accuracy: 0.8037 - val_loss: 0.3499 - val_accuracy: 0.8766\n",
            "Epoch 2/10\n",
            "750/750 [==============================] - 87s 116ms/step - loss: 0.3576 - accuracy: 0.8710 - val_loss: 0.3058 - val_accuracy: 0.8915\n",
            "Epoch 3/10\n",
            "750/750 [==============================] - 85s 114ms/step - loss: 0.3086 - accuracy: 0.8893 - val_loss: 0.2668 - val_accuracy: 0.9038\n",
            "Epoch 4/10\n",
            "750/750 [==============================] - 85s 114ms/step - loss: 0.2836 - accuracy: 0.8950 - val_loss: 0.2605 - val_accuracy: 0.9043\n",
            "Epoch 5/10\n",
            "750/750 [==============================] - 88s 117ms/step - loss: 0.2627 - accuracy: 0.9029 - val_loss: 0.2398 - val_accuracy: 0.9108\n",
            "Epoch 6/10\n",
            "750/750 [==============================] - 85s 114ms/step - loss: 0.2449 - accuracy: 0.9095 - val_loss: 0.2406 - val_accuracy: 0.9115\n",
            "Epoch 7/10\n",
            "750/750 [==============================] - 85s 113ms/step - loss: 0.2294 - accuracy: 0.9143 - val_loss: 0.2303 - val_accuracy: 0.9130\n",
            "Epoch 8/10\n",
            "750/750 [==============================] - 85s 113ms/step - loss: 0.2179 - accuracy: 0.9201 - val_loss: 0.2253 - val_accuracy: 0.9166\n",
            "Epoch 9/10\n",
            "750/750 [==============================] - 85s 113ms/step - loss: 0.2103 - accuracy: 0.9221 - val_loss: 0.2197 - val_accuracy: 0.9185\n",
            "Epoch 10/10\n",
            "750/750 [==============================] - 85s 113ms/step - loss: 0.1945 - accuracy: 0.9272 - val_loss: 0.2168 - val_accuracy: 0.9193\n"
          ]
        }
      ]
    },
    {
      "cell_type": "code",
      "source": [
        "fashion_model2.save(\"fashion_model_dropout.h5py\")"
      ],
      "metadata": {
        "colab": {
          "base_uri": "https://localhost:8080/"
        },
        "id": "a3DdZOkT6Ajd",
        "outputId": "4476020f-829f-4973-fcd6-ca4aea62b066"
      },
      "execution_count": null,
      "outputs": [
        {
          "output_type": "stream",
          "name": "stdout",
          "text": [
            "WARNING:tensorflow:Compiled the loaded model, but the compiled metrics have yet to be built. `model.compile_metrics` will be empty until you train or evaluate the model.\n",
            "INFO:tensorflow:Assets written to: fashion_model_dropout.h5py/assets\n"
          ]
        }
      ]
    },
    {
      "cell_type": "code",
      "source": [
        "test_eval2 = fashion_model2.evaluate(test_X, test_Y_one_hot, verbose=1)\n",
        "print('Test loss:', test_eval2[0])\n",
        "print('Test accuracy:', test_eval2[1])"
      ],
      "metadata": {
        "colab": {
          "base_uri": "https://localhost:8080/"
        },
        "id": "ooWhvflK6DtD",
        "outputId": "25a9ee09-0901-4524-f930-3fb9dbf046b8"
      },
      "execution_count": null,
      "outputs": [
        {
          "output_type": "stream",
          "name": "stdout",
          "text": [
            "313/313 [==============================] - 5s 16ms/step - loss: 0.2242 - accuracy: 0.9161\n",
            "Test loss: 0.22419843077659607\n",
            "Test accuracy: 0.916100025177002\n"
          ]
        }
      ]
    },
    {
      "cell_type": "code",
      "source": [
        "accuracy = fashion_train_dropout.history['accuracy']\n",
        "val_accuracy = fashion_train_dropout.history['val_accuracy']\n",
        "loss = fashion_train_dropout.history['loss']\n",
        "val_loss = fashion_train_dropout.history['val_loss']\n",
        "epochs = range(len(accuracy))\n",
        "plt.plot(epochs, accuracy, 'bo', label='Training accuracy')\n",
        "plt.plot(epochs, val_accuracy, 'b', label='Validation accuracy')\n",
        "plt.title('Training and validation accuracy')e\n",
        "plt.legend()\n",
        "plt.figure()\n",
        "plt.plot(epochs, loss, 'bo', label='Training loss')\n",
        "plt.plot(epochs, val_loss, 'b', label='Validation loss')\n",
        "plt.title('Training and validation loss')\n",
        "plt.legend()\n",
        "plt.show()"
      ],
      "metadata": {
        "colab": {
          "base_uri": "https://localhost:8080/",
          "height": 545
        },
        "id": "TyPgPXb_6wXh",
        "outputId": "36defad9-476e-4f42-d8e1-c354c8336218"
      },
      "execution_count": null,
      "outputs": [
        {
          "output_type": "display_data",
          "data": {
            "text/plain": [
              "<Figure size 432x288 with 1 Axes>"
            ],
            "image/png": "[encoded data removed]"
          },
          "metadata": {
            "needs_background": "light"
          }
        },
        {
          "output_type": "display_data",
          "data": {
            "text/plain": [
              "<Figure size 432x288 with 1 Axes>"
            ],
            "image/png": "[encoded data removed]"
          },
          "metadata": {
            "needs_background": "light"
          }
        }
      ]
    },
    {
      "cell_type": "code",
      "source": [
        "fashion_model3 = Sequential()\n",
        "\n",
        "fashion_model3.add(Conv2D(32, kernel_size=(5, 5),activation='linear',input_shape=(28,28,1),padding='same'))\n",
        "fashion_model3.add(layers.Activation(activations.relu))\n",
        "fashion_model3.add(MaxPooling2D((3, 3),padding='same'))\n",
        "fashion_model3.add(Dropout(0.25))\n",
        "#fashion_model.add(Conv2D(64, (3, 3), activation='linear',padding='same'))\n",
        "#fashion_model.add(layers.Activation(activations.relu))\n",
        "#fashion_model.add(MaxPooling2D(pool_size=(2, 2),padding='same'))\n",
        "\n",
        "fashion_model3.add(Conv2D(128, (5, 5), activation='linear',padding='same'))\n",
        "fashion_model3.add(layers.Activation(activations.relu))                  \n",
        "fashion_model3.add(MaxPooling2D(pool_size=(3, 3),padding='same'))\n",
        "fashion_model3.add(Dropout(0.25))\n",
        "\n",
        "fashion_model3.add(Flatten())\n",
        "fashion_model3.add(Dense(128, activation='linear'))\n",
        "fashion_model3.add(layers.Activation(activations.relu))  \n",
        "fashion_model3.add(Dropout(0.3))                \n",
        "fashion_model3.add(Dense(num_classes, activation='softmax'))\n",
        "\n",
        "batch_size_exp = 128\n",
        "epochs_exp = 5\n",
        "fashion_model3.compile(loss=keras.losses.categorical_crossentropy, optimizer=keras.optimizers.Adam(),metrics=['accuracy'])\n",
        "fashion_train_dropout = fashion_model3.fit(train_X, train_label, batch_size=batch_size_exp,epochs=epochs_exp,verbose=1,validation_data=(valid_X, valid_label))"
      ],
      "metadata": {
        "colab": {
          "base_uri": "https://localhost:8080/"
        },
        "id": "bN9Mvi_WaMMf",
        "outputId": "1dfbd5ff-c589-4904-a846-db2b705eda63"
      },
      "execution_count": null,
      "outputs": [
        {
          "output_type": "stream",
          "name": "stdout",
          "text": [
            "Epoch 1/5\n",
            "375/375 [==============================] - 118s 314ms/step - loss: 0.6698 - accuracy: 0.7551 - val_loss: 0.3776 - val_accuracy: 0.8690\n",
            "Epoch 2/5\n",
            "375/375 [==============================] - 113s 302ms/step - loss: 0.3993 - accuracy: 0.8559 - val_loss: 0.3234 - val_accuracy: 0.8845\n",
            "Epoch 3/5\n",
            "375/375 [==============================] - 113s 301ms/step - loss: 0.3465 - accuracy: 0.8748 - val_loss: 0.2851 - val_accuracy: 0.8975\n",
            "Epoch 4/5\n",
            "375/375 [==============================] - 112s 299ms/step - loss: 0.3170 - accuracy: 0.8853 - val_loss: 0.2706 - val_accuracy: 0.9038\n",
            "Epoch 5/5\n",
            "375/375 [==============================] - 114s 303ms/step - loss: 0.2988 - accuracy: 0.8909 - val_loss: 0.2621 - val_accuracy: 0.9032\n"
          ]
        }
      ]
    },
    {
      "cell_type": "code",
      "source": [
        "test_eval3 = fashion_model3.evaluate(test_X, test_Y_one_hot, verbose=1)\n",
        "print('Test loss:', test_eval3[0])\n",
        "print('Test accuracy:', test_eval3[1])"
      ],
      "metadata": {
        "colab": {
          "base_uri": "https://localhost:8080/"
        },
        "id": "jGYJxNy_u0ca",
        "outputId": "ae95f91d-ee72-49ad-a8f9-34293e74357e"
      },
      "execution_count": null,
      "outputs": [
        {
          "output_type": "stream",
          "name": "stdout",
          "text": [
            "313/313 [==============================] - 7s 22ms/step - loss: 0.2777 - accuracy: 0.8989\n",
            "Test loss: 0.2776707410812378\n",
            "Test accuracy: 0.8988999724388123\n"
          ]
        }
      ]
    },
    {
      "cell_type": "code",
      "source": [
        "fashion_train_expt = fashion_model2.fit(train_X[:10], train_label[:10], batch_size=batch_size,epochs=epochs,verbose=1,validation_data=(valid_X, valid_label))\n",
        "\n",
        "test_eval_expt = fashion_model2.evaluate(test_X, test_Y_one_hot, verbose=1)\n",
        "print('Test loss:', test_eval_expt[0])\n",
        "print('Test accuracy:', test_eval_expt[1])"
      ],
      "metadata": {
        "colab": {
          "base_uri": "https://localhost:8080/"
        },
        "id": "t6mQY3wM2FzG",
        "outputId": "7275c71d-e71c-41bf-f658-987b64cad19c"
      },
      "execution_count": null,
      "outputs": [
        {
          "output_type": "stream",
          "name": "stdout",
          "text": [
            "Epoch 1/10\n",
            "1/1 [==============================] - 6s 6s/step - loss: 2.2565 - accuracy: 0.2000 - val_loss: 2.2932 - val_accuracy: 0.1023\n",
            "Epoch 2/10\n",
            "1/1 [==============================] - 5s 5s/step - loss: 1.8479 - accuracy: 0.3000 - val_loss: 2.3490 - val_accuracy: 0.1023\n",
            "Epoch 3/10\n",
            "1/1 [==============================] - 5s 5s/step - loss: 1.6738 - accuracy: 0.3000 - val_loss: 2.4434 - val_accuracy: 0.1023\n",
            "Epoch 4/10\n",
            "1/1 [==============================] - 5s 5s/step - loss: 1.7217 - accuracy: 0.4000 - val_loss: 2.4766 - val_accuracy: 0.1822\n",
            "Epoch 5/10\n",
            "1/1 [==============================] - 5s 5s/step - loss: 1.6102 - accuracy: 0.4000 - val_loss: 2.4687 - val_accuracy: 0.2027\n",
            "Epoch 6/10\n",
            "1/1 [==============================] - 5s 5s/step - loss: 1.3036 - accuracy: 0.6000 - val_loss: 2.4727 - val_accuracy: 0.2161\n",
            "Epoch 7/10\n",
            "1/1 [==============================] - 5s 5s/step - loss: 1.2090 - accuracy: 0.5000 - val_loss: 2.4929 - val_accuracy: 0.2945\n",
            "Epoch 8/10\n",
            "1/1 [==============================] - 5s 5s/step - loss: 1.1617 - accuracy: 0.5000 - val_loss: 2.5331 - val_accuracy: 0.3785\n",
            "Epoch 9/10\n",
            "1/1 [==============================] - 5s 5s/step - loss: 1.1594 - accuracy: 0.7000 - val_loss: 2.5831 - val_accuracy: 0.3756\n",
            "Epoch 10/10\n",
            "1/1 [==============================] - 5s 5s/step - loss: 1.1526 - accuracy: 0.6000 - val_loss: 2.6140 - val_accuracy: 0.3882\n",
            "313/313 [==============================] - 5s 17ms/step - loss: 2.6126 - accuracy: 0.3882\n",
            "Test loss: 2.6125500202178955\n",
            "Test accuracy: 0.3882000148296356\n"
          ]
        }
      ]
    },
    {
      "cell_type": "code",
      "source": [
        "fashion_train_expt = fashion_model2.fit(train_X[:100], train_label[:100], batch_size=batch_size,epochs=epochs,verbose=1,validation_data=(valid_X, valid_label))\n",
        "\n",
        "test_eval_expt = fashion_model2.evaluate(test_X, test_Y_one_hot, verbose=1)\n",
        "print('Test loss:', test_eval_expt[0])\n",
        "print('Test accuracy:', test_eval_expt[1])"
      ],
      "metadata": {
        "colab": {
          "base_uri": "https://localhost:8080/"
        },
        "id": "_JZrxcSW5IeS",
        "outputId": "aa871ffe-cb8a-4ca1-cdea-029f481bc704"
      },
      "execution_count": null,
      "outputs": [
        {
          "output_type": "stream",
          "name": "stdout",
          "text": [
            "Epoch 1/10\n",
            "2/2 [==============================] - 6s 6s/step - loss: 2.2883 - accuracy: 0.1300 - val_loss: 2.1750 - val_accuracy: 0.1377\n",
            "Epoch 2/10\n",
            "2/2 [==============================] - 5s 5s/step - loss: 2.0723 - accuracy: 0.2100 - val_loss: 1.9924 - val_accuracy: 0.2773\n",
            "Epoch 3/10\n",
            "2/2 [==============================] - 5s 5s/step - loss: 1.8261 - accuracy: 0.3800 - val_loss: 1.7702 - val_accuracy: 0.4542\n",
            "Epoch 4/10\n",
            "2/2 [==============================] - 5s 5s/step - loss: 1.5944 - accuracy: 0.5200 - val_loss: 1.5382 - val_accuracy: 0.4556\n",
            "Epoch 5/10\n",
            "2/2 [==============================] - 5s 5s/step - loss: 1.3731 - accuracy: 0.5100 - val_loss: 1.3612 - val_accuracy: 0.5013\n",
            "Epoch 6/10\n",
            "2/2 [==============================] - 5s 5s/step - loss: 1.1951 - accuracy: 0.5900 - val_loss: 1.1894 - val_accuracy: 0.6024\n",
            "Epoch 7/10\n",
            "2/2 [==============================] - 6s 5s/step - loss: 1.2679 - accuracy: 0.5900 - val_loss: 1.0864 - val_accuracy: 0.6285\n",
            "Epoch 8/10\n",
            "2/2 [==============================] - 6s 5s/step - loss: 1.0361 - accuracy: 0.6200 - val_loss: 1.0287 - val_accuracy: 0.6088\n",
            "Epoch 9/10\n",
            "2/2 [==============================] - 6s 5s/step - loss: 0.9665 - accuracy: 0.7300 - val_loss: 1.0844 - val_accuracy: 0.5920\n",
            "Epoch 10/10\n",
            "2/2 [==============================] - 6s 5s/step - loss: 1.0741 - accuracy: 0.5800 - val_loss: 1.0843 - val_accuracy: 0.5941\n",
            "313/313 [==============================] - 6s 18ms/step - loss: 1.1063 - accuracy: 0.5896\n",
            "Test loss: 1.1063141822814941\n",
            "Test accuracy: 0.5896000266075134\n"
          ]
        }
      ]
    },
    {
      "cell_type": "code",
      "source": [
        "fashion_train_expt = fashion_model2.fit(train_X[:1000], train_label[:1000], batch_size=batch_size,epochs=epochs,verbose=1,validation_data=(valid_X, valid_label))\n",
        "\n",
        "test_eval_expt = fashion_model2.evaluate(test_X, test_Y_one_hot, verbose=1)\n",
        "print('Test loss:', test_eval_expt[0])\n",
        "print('Test accuracy:', test_eval_expt[1])"
      ],
      "metadata": {
        "colab": {
          "base_uri": "https://localhost:8080/"
        },
        "id": "hCZ4M7C-612i",
        "outputId": "7ff07f99-fcf9-4d87-d140-09a8a5c272a3"
      },
      "execution_count": null,
      "outputs": [
        {
          "output_type": "stream",
          "name": "stdout",
          "text": [
            "Epoch 1/10\n",
            "16/16 [==============================] - 8s 483ms/step - loss: 1.6813 - accuracy: 0.3910 - val_loss: 1.0788 - val_accuracy: 0.6068\n",
            "Epoch 2/10\n",
            "16/16 [==============================] - 7s 474ms/step - loss: 1.1161 - accuracy: 0.5880 - val_loss: 0.8523 - val_accuracy: 0.7121\n",
            "Epoch 3/10\n",
            "16/16 [==============================] - 7s 474ms/step - loss: 0.8862 - accuracy: 0.6720 - val_loss: 0.6866 - val_accuracy: 0.7594\n",
            "Epoch 4/10\n",
            "16/16 [==============================] - 7s 469ms/step - loss: 0.7511 - accuracy: 0.7210 - val_loss: 0.6414 - val_accuracy: 0.7527\n",
            "Epoch 5/10\n",
            "16/16 [==============================] - 7s 466ms/step - loss: 0.6892 - accuracy: 0.7450 - val_loss: 0.6167 - val_accuracy: 0.7736\n",
            "Epoch 6/10\n",
            "16/16 [==============================] - 7s 469ms/step - loss: 0.6327 - accuracy: 0.7670 - val_loss: 0.5773 - val_accuracy: 0.7900\n",
            "Epoch 7/10\n",
            "16/16 [==============================] - 7s 467ms/step - loss: 0.6078 - accuracy: 0.7720 - val_loss: 0.5419 - val_accuracy: 0.8030\n",
            "Epoch 8/10\n",
            "16/16 [==============================] - 7s 470ms/step - loss: 0.5535 - accuracy: 0.8020 - val_loss: 0.5131 - val_accuracy: 0.8124\n",
            "Epoch 9/10\n",
            "16/16 [==============================] - 7s 474ms/step - loss: 0.5172 - accuracy: 0.8040 - val_loss: 0.5588 - val_accuracy: 0.7900\n",
            "Epoch 10/10\n",
            "16/16 [==============================] - 7s 474ms/step - loss: 0.4938 - accuracy: 0.8100 - val_loss: 0.4949 - val_accuracy: 0.8223\n",
            "313/313 [==============================] - 6s 18ms/step - loss: 0.5003 - accuracy: 0.8191\n",
            "Test loss: 0.5002758502960205\n",
            "Test accuracy: 0.819100022315979\n"
          ]
        }
      ]
    },
    {
      "cell_type": "code",
      "source": [
        "fashion_train_expt = fashion_model2.fit(train_X[:10000], train_label[:10000], batch_size=batch_size,epochs=epochs,verbose=1,validation_data=(valid_X, valid_label))\n",
        "\n",
        "test_eval_expt = fashion_model2.evaluate(test_X, test_Y_one_hot, verbose=1)\n",
        "print('Test loss:', test_eval_expt[0])\n",
        "print('Test accuracy:', test_eval_expt[1])"
      ],
      "metadata": {
        "colab": {
          "base_uri": "https://localhost:8080/"
        },
        "id": "ORy3GVOW8pGo",
        "outputId": "1942f09e-5936-480a-be19-0b6a2a78f01f"
      },
      "execution_count": null,
      "outputs": [
        {
          "output_type": "stream",
          "name": "stdout",
          "text": [
            "Epoch 1/10\n",
            "157/157 [==============================] - 25s 155ms/step - loss: 0.8687 - accuracy: 0.6810 - val_loss: 0.5273 - val_accuracy: 0.8015\n",
            "Epoch 2/10\n",
            "157/157 [==============================] - 24s 152ms/step - loss: 0.5364 - accuracy: 0.8060 - val_loss: 0.4347 - val_accuracy: 0.8417\n",
            "Epoch 3/10\n",
            "157/157 [==============================] - 24s 154ms/step - loss: 0.4576 - accuracy: 0.8359 - val_loss: 0.3787 - val_accuracy: 0.8654\n",
            "Epoch 4/10\n",
            "157/157 [==============================] - 24s 153ms/step - loss: 0.4206 - accuracy: 0.8479 - val_loss: 0.3721 - val_accuracy: 0.8652\n",
            "Epoch 5/10\n",
            "157/157 [==============================] - 24s 154ms/step - loss: 0.3818 - accuracy: 0.8614 - val_loss: 0.3510 - val_accuracy: 0.8767\n",
            "Epoch 6/10\n",
            "157/157 [==============================] - 24s 153ms/step - loss: 0.3598 - accuracy: 0.8687 - val_loss: 0.3414 - val_accuracy: 0.8801\n",
            "Epoch 7/10\n",
            "157/157 [==============================] - 24s 154ms/step - loss: 0.3406 - accuracy: 0.8784 - val_loss: 0.3242 - val_accuracy: 0.8862\n",
            "Epoch 8/10\n",
            "157/157 [==============================] - 24s 153ms/step - loss: 0.3158 - accuracy: 0.8853 - val_loss: 0.3660 - val_accuracy: 0.8710\n",
            "Epoch 9/10\n",
            "157/157 [==============================] - 24s 153ms/step - loss: 0.3016 - accuracy: 0.8913 - val_loss: 0.3166 - val_accuracy: 0.8891\n",
            "Epoch 10/10\n",
            "157/157 [==============================] - 24s 155ms/step - loss: 0.2880 - accuracy: 0.8947 - val_loss: 0.3029 - val_accuracy: 0.8949\n",
            "313/313 [==============================] - 6s 18ms/step - loss: 0.3218 - accuracy: 0.8853\n",
            "Test loss: 0.32180196046829224\n",
            "Test accuracy: 0.8852999806404114\n"
          ]
        }
      ]
    },
    {
      "cell_type": "code",
      "source": [
        "\n",
        "\n",
        "indexes =[]\n",
        "classes = [0,1,2,3,4,5,6,7,8,9]\n",
        "for clas in classes:\n",
        "  count = 0 \n",
        "  for i in range(len(train_Y)):\n",
        "    if clas == train_Y[i]:\n",
        "      indexes.append(i)\n",
        "      count += 1\n",
        "      if  count == 1:\n",
        "        break\n",
        "\n",
        "new_train_Y = [train_Y[i] for i in indexes ] \n",
        "new_train_X = [train_X[i] for i in indexes ]\n",
        "new_train_Y=np.array(new_train_Y)\n",
        "new_train_X=np.array(new_train_X)\n",
        "\n",
        "new_train_X = new_train_X.reshape(-1, 28,28, 1)\n",
        "print(new_train_X.shape, test_X.shape)\n",
        "\n",
        "new_train_X = new_train_X.astype('float32')\n",
        "\n",
        "#normalizing\n",
        "new_train_X = new_train_X / 255.\n",
        "#one hot encoding\n",
        "train_Y_one_hot = to_categorical(new_train_Y)\n",
        "#test_Y_one_hot = to_categorical(test_Y)\n",
        "\n",
        "#data splitting\n",
        "from sklearn.model_selection import train_test_split\n",
        "train_X,valid_X,train_label,valid_label = train_test_split(new_train_X, train_Y_one_hot, test_size=0.2, random_state=123)\n",
        "\n",
        "train_X.shape,valid_X.shape,train_label.shape,valid_label.shape"
      ],
      "metadata": {
        "colab": {
          "base_uri": "https://localhost:8080/"
        },
        "id": "Jc7KH482UEya",
        "outputId": "1e4e8335-63ae-46c8-976b-22a6b28fd617"
      },
      "execution_count": null,
      "outputs": [
        {
          "output_type": "stream",
          "name": "stdout",
          "text": [
            "(10, 28, 28, 1) (10000, 28, 28)\n"
          ]
        },
        {
          "output_type": "execute_result",
          "data": {
            "text/plain": [
              "((9, 28, 28, 1), (1, 28, 28, 1), (9, 10), (1, 10))"
            ]
          },
          "metadata": {},
          "execution_count": 117
        }
      ]
    },
    {
      "cell_type": "code",
      "source": [
        "#for 10 images\n",
        "fashion_train_expt = fashion_model2.fit(train_X, train_label, batch_size=batch_size,epochs=epochs,verbose=1,validation_data=(valid_X, valid_label))\n",
        "\n",
        "test_eval_expt = fashion_model2.evaluate(test_X, test_Y_one_hot, verbose=1)\n",
        "print('Test loss:', test_eval_expt[0])\n",
        "print('Test accuracy:', test_eval_expt[1])"
      ],
      "metadata": {
        "colab": {
          "base_uri": "https://localhost:8080/"
        },
        "id": "kpCJTmu8X4Vk",
        "outputId": "05fc8b5b-5e61-4ed9-bc0d-dd2365f8a059"
      },
      "execution_count": null,
      "outputs": [
        {
          "output_type": "stream",
          "name": "stdout",
          "text": [
            "Epoch 1/10\n",
            "1/1 [==============================] - 1s 737ms/step - loss: 2.3255 - accuracy: 0.2222 - val_loss: 2.4177 - val_accuracy: 0.0000e+00\n",
            "Epoch 2/10\n",
            "1/1 [==============================] - 0s 51ms/step - loss: 2.2602 - accuracy: 0.1111 - val_loss: 2.5633 - val_accuracy: 0.0000e+00\n",
            "Epoch 3/10\n",
            "1/1 [==============================] - 0s 48ms/step - loss: 2.0855 - accuracy: 0.2222 - val_loss: 2.7051 - val_accuracy: 0.0000e+00\n",
            "Epoch 4/10\n",
            "1/1 [==============================] - 0s 48ms/step - loss: 1.9678 - accuracy: 0.4444 - val_loss: 2.8635 - val_accuracy: 0.0000e+00\n",
            "Epoch 5/10\n",
            "1/1 [==============================] - 0s 52ms/step - loss: 2.0090 - accuracy: 0.3333 - val_loss: 3.0155 - val_accuracy: 0.0000e+00\n",
            "Epoch 6/10\n",
            "1/1 [==============================] - 0s 50ms/step - loss: 1.7847 - accuracy: 0.5556 - val_loss: 3.1766 - val_accuracy: 0.0000e+00\n",
            "Epoch 7/10\n",
            "1/1 [==============================] - 0s 50ms/step - loss: 1.7820 - accuracy: 0.5556 - val_loss: 3.3275 - val_accuracy: 0.0000e+00\n",
            "Epoch 8/10\n",
            "1/1 [==============================] - 0s 48ms/step - loss: 1.5222 - accuracy: 0.6667 - val_loss: 3.4735 - val_accuracy: 0.0000e+00\n",
            "Epoch 9/10\n",
            "1/1 [==============================] - 0s 57ms/step - loss: 1.4949 - accuracy: 0.6667 - val_loss: 3.6261 - val_accuracy: 0.0000e+00\n",
            "Epoch 10/10\n",
            "1/1 [==============================] - 0s 50ms/step - loss: 1.3829 - accuracy: 0.5556 - val_loss: 3.7674 - val_accuracy: 0.0000e+00\n",
            "313/313 [==============================] - 5s 16ms/step - loss: 158.8323 - accuracy: 0.4999\n",
            "Test loss: 158.8323211669922\n",
            "Test accuracy: 0.4999000132083893\n"
          ]
        }
      ]
    },
    {
      "cell_type": "code",
      "source": [
        "#for 100 images\n",
        "fashion_train_expt = fashion_model2.fit(train_X, train_label, batch_size=batch_size,epochs=epochs,verbose=1,validation_data=(valid_X, valid_label))\n",
        "\n",
        "test_eval_expt = fashion_model2.evaluate(test_X, test_Y_one_hot, verbose=1)\n",
        "print('Test loss:', test_eval_expt[0])\n",
        "print('Test accuracy:', test_eval_expt[1])"
      ],
      "metadata": {
        "colab": {
          "base_uri": "https://localhost:8080/"
        },
        "id": "tfXFUs0Gc746",
        "outputId": "0b8cbd39-73ae-43d0-d273-fad5d1a49c3c"
      },
      "execution_count": null,
      "outputs": [
        {
          "output_type": "stream",
          "name": "stdout",
          "text": [
            "Epoch 1/10\n",
            "2/2 [==============================] - 0s 99ms/step - loss: 0.3127 - accuracy: 0.8875 - val_loss: 0.4591 - val_accuracy: 0.8500\n",
            "Epoch 2/10\n",
            "2/2 [==============================] - 0s 77ms/step - loss: 0.3415 - accuracy: 0.8625 - val_loss: 0.4584 - val_accuracy: 0.8000\n",
            "Epoch 3/10\n",
            "2/2 [==============================] - 0s 80ms/step - loss: 0.3284 - accuracy: 0.8750 - val_loss: 0.4202 - val_accuracy: 0.8000\n",
            "Epoch 4/10\n",
            "2/2 [==============================] - 0s 70ms/step - loss: 0.2961 - accuracy: 0.8875 - val_loss: 0.3688 - val_accuracy: 0.8500\n",
            "Epoch 5/10\n",
            "2/2 [==============================] - 0s 70ms/step - loss: 0.2550 - accuracy: 0.8875 - val_loss: 0.3648 - val_accuracy: 0.8500\n",
            "Epoch 6/10\n",
            "2/2 [==============================] - 0s 66ms/step - loss: 0.2375 - accuracy: 0.9250 - val_loss: 0.3950 - val_accuracy: 0.8500\n",
            "Epoch 7/10\n",
            "2/2 [==============================] - 0s 81ms/step - loss: 0.2039 - accuracy: 0.9375 - val_loss: 0.4595 - val_accuracy: 0.8500\n",
            "Epoch 8/10\n",
            "2/2 [==============================] - 0s 71ms/step - loss: 0.1540 - accuracy: 0.9625 - val_loss: 0.5163 - val_accuracy: 0.8000\n",
            "Epoch 9/10\n",
            "2/2 [==============================] - 0s 73ms/step - loss: 0.1723 - accuracy: 0.9125 - val_loss: 0.5561 - val_accuracy: 0.8000\n",
            "Epoch 10/10\n",
            "2/2 [==============================] - 0s 74ms/step - loss: 0.1303 - accuracy: 0.9625 - val_loss: 0.6075 - val_accuracy: 0.8000\n",
            "313/313 [==============================] - 6s 18ms/step - loss: 133.6104 - accuracy: 0.7554\n",
            "Test loss: 133.61038208007812\n",
            "Test accuracy: 0.7554000020027161\n"
          ]
        }
      ]
    },
    {
      "cell_type": "code",
      "source": [
        "#for 1000 images\n",
        "fashion_train_expt = fashion_model2.fit(train_X, train_label, batch_size=batch_size,epochs=epochs,verbose=1,validation_data=(valid_X, valid_label))\n",
        "\n",
        "test_eval_expt = fashion_model2.evaluate(test_X, test_Y_one_hot, verbose=1)\n",
        "print('Test loss:', test_eval_expt[0])\n",
        "print('Test accuracy:', test_eval_expt[1])"
      ],
      "metadata": {
        "colab": {
          "base_uri": "https://localhost:8080/"
        },
        "id": "ORC-DN6yd5-J",
        "outputId": "1688ab35-af84-4b16-c8c1-95c514bc32ca"
      },
      "execution_count": null,
      "outputs": [
        {
          "output_type": "stream",
          "name": "stdout",
          "text": [
            "Epoch 1/10\n",
            "13/13 [==============================] - 2s 137ms/step - loss: 1.7987 - accuracy: 0.3525 - val_loss: 1.1149 - val_accuracy: 0.5800\n",
            "Epoch 2/10\n",
            "13/13 [==============================] - 2s 121ms/step - loss: 1.1276 - accuracy: 0.5775 - val_loss: 0.8839 - val_accuracy: 0.7150\n",
            "Epoch 3/10\n",
            "13/13 [==============================] - 2s 118ms/step - loss: 0.9446 - accuracy: 0.6700 - val_loss: 0.7759 - val_accuracy: 0.7450\n",
            "Epoch 4/10\n",
            "13/13 [==============================] - 2s 120ms/step - loss: 0.7634 - accuracy: 0.7175 - val_loss: 0.6180 - val_accuracy: 0.8000\n",
            "Epoch 5/10\n",
            "13/13 [==============================] - 2s 118ms/step - loss: 0.6981 - accuracy: 0.7550 - val_loss: 0.6561 - val_accuracy: 0.7550\n",
            "Epoch 6/10\n",
            "13/13 [==============================] - 2s 118ms/step - loss: 0.6552 - accuracy: 0.7638 - val_loss: 0.5603 - val_accuracy: 0.7900\n",
            "Epoch 7/10\n",
            "13/13 [==============================] - 2s 118ms/step - loss: 0.6016 - accuracy: 0.7862 - val_loss: 0.5372 - val_accuracy: 0.7950\n",
            "Epoch 8/10\n",
            "13/13 [==============================] - 2s 118ms/step - loss: 0.5347 - accuracy: 0.8100 - val_loss: 0.5018 - val_accuracy: 0.8100\n",
            "Epoch 9/10\n",
            "13/13 [==============================] - 2s 116ms/step - loss: 0.5167 - accuracy: 0.8163 - val_loss: 0.4993 - val_accuracy: 0.8200\n",
            "Epoch 10/10\n",
            "13/13 [==============================] - 1s 114ms/step - loss: 0.4756 - accuracy: 0.8338 - val_loss: 0.4676 - val_accuracy: 0.8300\n",
            "313/313 [==============================] - 6s 16ms/step - loss: 80.0335 - accuracy: 0.7878\n",
            "Test loss: 80.03345489501953\n",
            "Test accuracy: 0.7878000140190125\n"
          ]
        }
      ]
    },
    {
      "cell_type": "code",
      "source": [
        "#for 10000 images\n",
        "fashion_train_expt = fashion_model2.fit(train_X, train_label, batch_size=batch_size,epochs=epochs,verbose=1,validation_data=(valid_X, valid_label))\n",
        "\n",
        "test_eval_expt = fashion_model2.evaluate(test_X, test_Y_one_hot, verbose=1)\n",
        "print('Test loss:', test_eval_expt[0])\n",
        "print('Test accuracy:', test_eval_expt[1])"
      ],
      "metadata": {
        "colab": {
          "base_uri": "https://localhost:8080/"
        },
        "id": "_TG1mt6TefYL",
        "outputId": "7e15b3d6-12ac-4877-fbd1-b9c9d1318d14"
      },
      "execution_count": null,
      "outputs": [
        {
          "output_type": "stream",
          "name": "stdout",
          "text": [
            "Epoch 1/10\n",
            "125/125 [==============================] - 16s 129ms/step - loss: 0.5018 - accuracy: 0.8209 - val_loss: 0.4087 - val_accuracy: 0.8555\n",
            "Epoch 2/10\n",
            "125/125 [==============================] - 15s 119ms/step - loss: 0.4253 - accuracy: 0.8465 - val_loss: 0.3872 - val_accuracy: 0.8560\n",
            "Epoch 3/10\n",
            "125/125 [==============================] - 15s 117ms/step - loss: 0.4021 - accuracy: 0.8528 - val_loss: 0.3604 - val_accuracy: 0.8645\n",
            "Epoch 4/10\n",
            "125/125 [==============================] - 15s 116ms/step - loss: 0.3607 - accuracy: 0.8715 - val_loss: 0.3504 - val_accuracy: 0.8695\n",
            "Epoch 5/10\n",
            "125/125 [==============================] - 15s 116ms/step - loss: 0.3404 - accuracy: 0.8781 - val_loss: 0.3337 - val_accuracy: 0.8785\n",
            "Epoch 6/10\n",
            "125/125 [==============================] - 15s 117ms/step - loss: 0.3132 - accuracy: 0.8834 - val_loss: 0.3295 - val_accuracy: 0.8780\n",
            "Epoch 7/10\n",
            "125/125 [==============================] - 15s 118ms/step - loss: 0.2914 - accuracy: 0.8956 - val_loss: 0.3028 - val_accuracy: 0.8855\n",
            "Epoch 8/10\n",
            "125/125 [==============================] - 15s 116ms/step - loss: 0.2829 - accuracy: 0.8970 - val_loss: 0.2956 - val_accuracy: 0.8975\n",
            "Epoch 9/10\n",
            "125/125 [==============================] - 15s 117ms/step - loss: 0.2603 - accuracy: 0.9044 - val_loss: 0.2992 - val_accuracy: 0.8895\n",
            "Epoch 10/10\n",
            "125/125 [==============================] - 14s 114ms/step - loss: 0.2470 - accuracy: 0.9082 - val_loss: 0.3031 - val_accuracy: 0.8885\n",
            "313/313 [==============================] - 6s 18ms/step - loss: 53.2591 - accuracy: 0.8814\n",
            "Test loss: 53.25910568237305\n",
            "Test accuracy: 0.8813999891281128\n"
          ]
        }
      ]
    },
    {
      "cell_type": "code",
      "source": [
        "#for 1 image\n",
        "fashion_train_expt = fashion_model2.fit(train_X[:1], train_label[:1], batch_size=batch_size,epochs=epochs,verbose=1,validation_data=(valid_X, valid_label))\n",
        "\n",
        "test_eval_expt = fashion_model2.evaluate(test_X, test_Y_one_hot, verbose=1)\n",
        "print('Test loss:', test_eval_expt[0])\n",
        "print('Test accuracy:', test_eval_expt[1])"
      ],
      "metadata": {
        "colab": {
          "base_uri": "https://localhost:8080/"
        },
        "id": "kODTimIdjfRP",
        "outputId": "b844aaf7-91de-40b6-f96a-6f8b9e78c2ef"
      },
      "execution_count": null,
      "outputs": [
        {
          "output_type": "stream",
          "name": "stdout",
          "text": [
            "Epoch 1/10\n",
            "1/1 [==============================] - 2s 2s/step - loss: 0.0000e+00 - accuracy: 1.0000 - val_loss: 2.2986 - val_accuracy: 0.0835\n",
            "Epoch 2/10\n",
            "1/1 [==============================] - 1s 855ms/step - loss: 63.0524 - accuracy: 0.0000e+00 - val_loss: 2.2948 - val_accuracy: 0.0925\n",
            "Epoch 3/10\n",
            "1/1 [==============================] - 1s 871ms/step - loss: 0.0000e+00 - accuracy: 1.0000 - val_loss: 2.3014 - val_accuracy: 0.0925\n",
            "Epoch 4/10\n",
            "1/1 [==============================] - 1s 853ms/step - loss: 0.0000e+00 - accuracy: 1.0000 - val_loss: 2.3107 - val_accuracy: 0.0925\n",
            "Epoch 5/10\n",
            "1/1 [==============================] - 1s 857ms/step - loss: 0.0000e+00 - accuracy: 1.0000 - val_loss: 2.3222 - val_accuracy: 0.0925\n",
            "Epoch 6/10\n",
            "1/1 [==============================] - 1s 850ms/step - loss: 0.0000e+00 - accuracy: 1.0000 - val_loss: 2.3357 - val_accuracy: 0.0925\n",
            "Epoch 7/10\n",
            "1/1 [==============================] - 1s 820ms/step - loss: 0.0000e+00 - accuracy: 1.0000 - val_loss: 2.3507 - val_accuracy: 0.0925\n",
            "Epoch 8/10\n",
            "1/1 [==============================] - 1s 844ms/step - loss: 0.0000e+00 - accuracy: 1.0000 - val_loss: 2.3668 - val_accuracy: 0.0925\n",
            "Epoch 9/10\n",
            "1/1 [==============================] - 1s 875ms/step - loss: 0.0000e+00 - accuracy: 1.0000 - val_loss: 2.3836 - val_accuracy: 0.0925\n",
            "Epoch 10/10\n",
            "1/1 [==============================] - 1s 852ms/step - loss: 0.0000e+00 - accuracy: 1.0000 - val_loss: 2.4008 - val_accuracy: 0.0925\n",
            "313/313 [==============================] - 5s 16ms/step - loss: 259.7268 - accuracy: 0.1000\n",
            "Test loss: 259.7268371582031\n",
            "Test accuracy: 0.10000000149011612\n"
          ]
        }
      ]
    }
  ]
}